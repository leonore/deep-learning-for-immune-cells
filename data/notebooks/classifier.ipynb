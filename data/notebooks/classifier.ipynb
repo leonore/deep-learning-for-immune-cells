{
 "cells": [
  {
   "cell_type": "markdown",
   "metadata": {
    "colab_type": "text",
    "id": "HNTEZMogjXGe"
   },
   "source": [
    "## Import main functions"
   ]
  },
  {
   "cell_type": "code",
   "execution_count": 0,
   "metadata": {
    "colab": {
     "base_uri": "https://localhost:8080/",
     "height": 34
    },
    "colab_type": "code",
    "id": "LwvQ1GwQjpGk",
    "outputId": "47612bf1-fc5e-4e85-9115-ce4f3dcc5e37"
   },
   "outputs": [
    {
     "name": "stdout",
     "output_type": "stream",
     "text": [
      "Drive already mounted at /content/gdrive/; to attempt to forcibly remount, call drive.mount(\"/content/gdrive/\", force_remount=True).\n"
     ]
    }
   ],
   "source": [
    "from google.colab import drive\n",
    "drive.mount('/content/gdrive/')"
   ]
  },
  {
   "cell_type": "code",
   "execution_count": 0,
   "metadata": {
    "colab": {},
    "colab_type": "code",
    "id": "oY3j4GwSjsNe"
   },
   "outputs": [],
   "source": [
    "import sys\n",
    "sys.path.append('/content/gdrive/My Drive/l4_dataset')"
   ]
  },
  {
   "cell_type": "code",
   "execution_count": 1,
   "metadata": {
    "colab": {
     "base_uri": "https://localhost:8080/",
     "height": 64
    },
    "colab_type": "code",
    "id": "a14FRRYAIuem",
    "outputId": "be27ff2d-a378-4d36-9ad1-b9d673cd5fae"
   },
   "outputs": [],
   "source": [
    "import numpy as np\n",
    "\n",
    "import tensorflow.keras\n",
    "from tensorflow.keras.models import load_model\n",
    "from tensorflow.keras.models import Model, Sequential"
   ]
  },
  {
   "cell_type": "code",
   "execution_count": 3,
   "metadata": {
    "colab": {},
    "colab_type": "code",
    "id": "GQAfSBkijXGl"
   },
   "outputs": [],
   "source": [
    "import matplotlib.pyplot as plt\n",
    "%matplotlib inline\n",
    "\n",
    "imw = 192\n",
    "imh = 192\n",
    "c = 3\n",
    "RS = 2211"
   ]
  },
  {
   "cell_type": "code",
   "execution_count": 0,
   "metadata": {
    "colab": {
     "base_uri": "https://localhost:8080/",
     "height": 34
    },
    "colab_type": "code",
    "id": "xBQA4RNPCdiZ",
    "outputId": "adab6418-fa68-4fd4-a309-d8b39a2e1b49"
   },
   "outputs": [
    {
     "name": "stdout",
     "output_type": "stream",
     "text": [
      "WARNING:tensorflow:No training configuration found in save file: the model was *not* compiled. Compile it manually.\n"
     ]
    }
   ],
   "source": [
    "encoder = load_model(\"/content/gdrive/My Drive/l4_dataset/encoder.h5\")"
   ]
  },
  {
   "cell_type": "markdown",
   "metadata": {
    "colab_type": "text",
    "id": "YjhO9inRjXG-"
   },
   "source": [
    "## Read data"
   ]
  },
  {
   "cell_type": "code",
   "execution_count": 0,
   "metadata": {
    "colab": {},
    "colab_type": "code",
    "id": "IaCKUKGFjXHB"
   },
   "outputs": [],
   "source": [
    "npzfile = np.load('/content/gdrive/My Drive/l4_dataset/CK19_full.npz')"
   ]
  },
  {
   "cell_type": "code",
   "execution_count": 0,
   "metadata": {
    "colab": {},
    "colab_type": "code",
    "id": "2ntUOHW1gFB6"
   },
   "outputs": [],
   "source": [
    "metrics = np.load('/content/gdrive/My Drive/l4_dataset/CK19_overlaps.npz')"
   ]
  },
  {
   "cell_type": "code",
   "execution_count": 0,
   "metadata": {
    "colab": {},
    "colab_type": "code",
    "id": "R4_Jw0bPjXHQ"
   },
   "outputs": [],
   "source": [
    "X = npzfile['x']\n",
    "filenames = npzfile['y']"
   ]
  },
  {
   "cell_type": "code",
   "execution_count": 0,
   "metadata": {
    "colab": {},
    "colab_type": "code",
    "id": "zHEB0OHLa_j2"
   },
   "outputs": [],
   "source": [
    "y_overlaps = metrics['overlaps']"
   ]
  },
  {
   "cell_type": "code",
   "execution_count": 0,
   "metadata": {
    "colab": {
     "base_uri": "https://localhost:8080/",
     "height": 34
    },
    "colab_type": "code",
    "id": "UotQse_XhKr1",
    "outputId": "e35a3dd4-72f7-4d4a-dc7a-9c0da93c7961"
   },
   "outputs": [
    {
     "name": "stdout",
     "output_type": "stream",
     "text": [
      "Images preprocessed. Size of dataset: 29400\n"
     ]
    }
   ],
   "source": [
    "x_combined, y_combined = combine_images(X, filenames, mask=False)"
   ]
  },
  {
   "cell_type": "code",
   "execution_count": 0,
   "metadata": {
    "colab": {},
    "colab_type": "code",
    "id": "oa3iVh9_23lK"
   },
   "outputs": [],
   "source": [
    "X = None"
   ]
  },
  {
   "cell_type": "code",
   "execution_count": 0,
   "metadata": {
    "colab": {},
    "colab_type": "code",
    "id": "au4BlEy8PzAR"
   },
   "outputs": [],
   "source": [
    "efficient_shuffle(x_combined, y_combined, y_overlaps, random_state=RS)"
   ]
  },
  {
   "cell_type": "markdown",
   "metadata": {
    "colab_type": "text",
    "id": "sngjceG3HK0U"
   },
   "source": [
    "## Label classifier (unstimulated, ova, cona, faulty)\n",
    "\n",
    "```python\n",
    "classifier = Sequential()\n",
    "classifier.add(encoder)\n",
    "classifier.add(Dense(128, activation='relu'))\n",
    "classifier.add(Dense(4, activation='softmax'))\n",
    "```"
   ]
  },
  {
   "cell_type": "code",
   "execution_count": 0,
   "metadata": {
    "colab": {},
    "colab_type": "code",
    "id": "AkUaKYvHHZR5"
   },
   "outputs": [],
   "source": [
    "x_train, x_test, y_train, y_test = x_combined[:-1000], x_combined[-1000:], y_combined[:-1000], y_combined[-1000:]"
   ]
  },
  {
   "cell_type": "code",
   "execution_count": 0,
   "metadata": {
    "colab": {},
    "colab_type": "code",
    "id": "fuw7_SBPLXcI"
   },
   "outputs": [],
   "source": [
    "y_train_c = tensorflow.keras.utils.to_categorical(y_train, 4)"
   ]
  },
  {
   "cell_type": "code",
   "execution_count": 0,
   "metadata": {
    "colab": {},
    "colab_type": "code",
    "id": "HKpW4k8nNQTQ"
   },
   "outputs": [],
   "source": [
    "y_test_c = tensorflow.keras.utils.to_categorical(y_test, 4)"
   ]
  },
  {
   "cell_type": "code",
   "execution_count": 0,
   "metadata": {
    "colab": {
     "base_uri": "https://localhost:8080/",
     "height": 381
    },
    "colab_type": "code",
    "id": "0SxzTl_1HMvF",
    "outputId": "74cf6eb6-4841-44f4-ae4d-33afd841ae90"
   },
   "outputs": [
    {
     "name": "stdout",
     "output_type": "stream",
     "text": [
      "Train on 23460 samples, validate on 4140 samples\n",
      "Epoch 1/10\n",
      "23460/23460 [==============================] - 45s 2ms/sample - loss: 0.9583 - acc: 0.5219 - val_loss: 0.9563 - val_acc: 0.5435\n",
      "Epoch 2/10\n",
      "23460/23460 [==============================] - 42s 2ms/sample - loss: 0.8078 - acc: 0.6246 - val_loss: 0.8666 - val_acc: 0.5966\n",
      "Epoch 3/10\n",
      "23460/23460 [==============================] - 42s 2ms/sample - loss: 0.7386 - acc: 0.6659 - val_loss: 0.9142 - val_acc: 0.5865\n",
      "Epoch 4/10\n",
      "23460/23460 [==============================] - 42s 2ms/sample - loss: 0.6689 - acc: 0.7057 - val_loss: 0.9046 - val_acc: 0.5937\n",
      "Epoch 5/10\n",
      "23460/23460 [==============================] - 42s 2ms/sample - loss: 0.6012 - acc: 0.7447 - val_loss: 0.9511 - val_acc: 0.5845\n",
      "Epoch 6/10\n",
      "23460/23460 [==============================] - 42s 2ms/sample - loss: 0.4663 - acc: 0.8087 - val_loss: 1.0370 - val_acc: 0.5906\n",
      "Epoch 7/10\n",
      "23460/23460 [==============================] - 42s 2ms/sample - loss: 0.3313 - acc: 0.8766 - val_loss: 1.2206 - val_acc: 0.5790\n",
      "Epoch 8/10\n",
      "23460/23460 [==============================] - 42s 2ms/sample - loss: 0.1896 - acc: 0.9359 - val_loss: 1.5817 - val_acc: 0.5870\n",
      "Epoch 9/10\n",
      "23460/23460 [==============================] - 42s 2ms/sample - loss: 0.1066 - acc: 0.9674 - val_loss: 2.0451 - val_acc: 0.5771\n",
      "Epoch 10/10\n",
      "23460/23460 [==============================] - 42s 2ms/sample - loss: 0.0836 - acc: 0.9749 - val_loss: 2.2898 - val_acc: 0.5389\n"
     ]
    }
   ],
   "source": [
    "history = classifier.fit(x_train, y_train_c,\n",
    "          batch_size=64,\n",
    "          epochs=10,\n",
    "          verbose=1,\n",
    "          validation_split=0.15)"
   ]
  },
  {
   "cell_type": "code",
   "execution_count": 0,
   "metadata": {
    "colab": {
     "base_uri": "https://localhost:8080/",
     "height": 282
    },
    "colab_type": "code",
    "id": "U6Xsr7IH9l1v",
    "outputId": "9f5c4b3a-a8f9-4de4-9bc7-32ce10227ce7"
   },
   "outputs": [
    {
     "data": {
      "text/plain": [
       "[<matplotlib.lines.Line2D at 0x7fb8589f4e80>]"
      ]
     },
     "execution_count": 33,
     "metadata": {
      "tags": []
     },
     "output_type": "execute_result"
    },
    {
     "data": {
      "image/png": "[encoded data removed]",
      "text/plain": [
       "<Figure size 432x288 with 1 Axes>"
      ]
     },
     "metadata": {
      "tags": []
     },
     "output_type": "display_data"
    }
   ],
   "source": [
    "plt.plot(history.history['acc'])"
   ]
  },
  {
   "cell_type": "code",
   "execution_count": 0,
   "metadata": {
    "colab": {
     "base_uri": "https://localhost:8080/",
     "height": 52
    },
    "colab_type": "code",
    "id": "9lts3jpYM1pr",
    "outputId": "1c82bbf9-b142-47cb-c0d3-28ce3814c63d"
   },
   "outputs": [
    {
     "name": "stdout",
     "output_type": "stream",
     "text": [
      "Test loss: 2.2097943849563597\n",
      "Test accuracy: 0.528\n"
     ]
    }
   ],
   "source": [
    "score1 = classifier.evaluate(x_test, y_test_c, verbose=0)\n",
    "print('Test loss:', score1[0])\n",
    "print('Test accuracy:', score1[1])"
   ]
  },
  {
   "cell_type": "code",
   "execution_count": 0,
   "metadata": {
    "colab": {},
    "colab_type": "code",
    "id": "ouK-hQK4OON3"
   },
   "outputs": [],
   "source": [
    "y_pred = np.argmax(classifier.predict(x_test), axis=1)"
   ]
  },
  {
   "cell_type": "code",
   "execution_count": 0,
   "metadata": {
    "colab": {},
    "colab_type": "code",
    "id": "7A_Dy0nUNvQX"
   },
   "outputs": [],
   "source": [
    "from sklearn.metrics import confusion_matrix\n",
    "import seaborn as sn\n",
    "\n",
    "names = [\"Unstimulated\", \"OVA\", \"ConA\", \"Faulty\"]\n",
    "\n",
    "def plot_confusion_matrix(predictions, labels):\n",
    "    plt.figure(figsize=(12,10))\n",
    "    cm = confusion_matrix(labels, predictions)\n",
    "    ax = sn.heatmap(cm, fmt=\"d\", annot=True, cmap=\"Greens\", cbar_kws={'label': 'Number of predictions'}, \n",
    "             xticklabels=names, yticklabels=names)\n",
    "    ax.set_ylabel(\"True label\")\n",
    "    ax.set_xlabel(\"Predicted label\")"
   ]
  },
  {
   "cell_type": "code",
   "execution_count": 0,
   "metadata": {
    "colab": {
     "base_uri": "https://localhost:8080/",
     "height": 34
    },
    "colab_type": "code",
    "id": "qVJG9cRcRXnb",
    "outputId": "fa51c409-8f97-4730-b5a8-d97c13494b34"
   },
   "outputs": [
    {
     "data": {
      "text/plain": [
       "21.0"
      ]
     },
     "execution_count": 78,
     "metadata": {
      "tags": []
     },
     "output_type": "execute_result"
    }
   ],
   "source": [
    "np.sum(y_test[y_test==1])"
   ]
  },
  {
   "cell_type": "code",
   "execution_count": 0,
   "metadata": {
    "colab": {
     "base_uri": "https://localhost:8080/",
     "height": 609
    },
    "colab_type": "code",
    "id": "FSXFLVITOEnK",
    "outputId": "86ca79bd-d009-4bcb-9a69-8cd79b9a52b0"
   },
   "outputs": [
    {
     "data": {
      "image/png": "[encoded data removed]",
      "text/plain": [
       "<Figure size 864x720 with 2 Axes>"
      ]
     },
     "metadata": {
      "tags": []
     },
     "output_type": "display_data"
    }
   ],
   "source": [
    "plot_confusion_matrix(y_pred, y_test)"
   ]
  }
 ],
 "metadata": {
  "accelerator": "GPU",
  "colab": {
   "collapsed_sections": [
    "pwnS50ruM5eo",
    "sngjceG3HK0U"
   ],
   "machine_shape": "hm",
   "name": "cell_classifier.ipynb",
   "provenance": [],
   "toc_visible": true
  },
  "kernelspec": {
   "display_name": "ml",
   "language": "python",
   "name": "ml"
  },
  "language_info": {
   "codemirror_mode": {
    "name": "ipython",
    "version": 3
   },
   "file_extension": ".py",
   "mimetype": "text/x-python",
   "name": "python",
   "nbconvert_exporter": "python",
   "pygments_lexer": "ipython3",
   "version": "3.6.4"
  }
 },
 "nbformat": 4,
 "nbformat_minor": 1
}
