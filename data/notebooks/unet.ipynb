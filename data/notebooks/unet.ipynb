{
  "nbformat": 4,
  "nbformat_minor": 0,
  "metadata": {
    "colab": {
      "name": "unet_model.ipynb",
      "provenance": [],
      "machine_shape": "hm"
    },
    "kernelspec": {
      "name": "python3",
      "display_name": "Python 3"
    },
    "accelerator": "GPU"
  },
  "cells": [
    {
      "cell_type": "code",
      "metadata": {
        "id": "ByuPleXFMisG",
        "colab_type": "code",
        "outputId": "a256bbc2-2a7c-4fe3-bde1-d0343affc0e4",
        "colab": {
          "base_uri": "https://localhost:8080/",
          "height": 124
        }
      },
      "source": [
        "from google.colab import drive\n",
        "drive.mount('/content/gdrive/')"
      ],
      "execution_count": 0,
      "outputs": [
        {
          "output_type": "stream",
          "text": [
            "Go to this URL in a browser: https://accounts.google.com/o/oauth2/auth?client_id=947318989803-6bn6qk8qdgf4n4g3pfee6491hc0brc4i.apps.googleusercontent.com&redirect_uri=urn%3aietf%3awg%3aoauth%3a2.0%3aoob&response_type=code&scope=email%20https%3a%2f%2fwww.googleapis.com%2fauth%2fdocs.test%20https%3a%2f%2fwww.googleapis.com%2fauth%2fdrive%20https%3a%2f%2fwww.googleapis.com%2fauth%2fdrive.photos.readonly%20https%3a%2f%2fwww.googleapis.com%2fauth%2fpeopleapi.readonly\n",
            "\n",
            "Enter your authorization code:\n",
            "··········\n",
            "Mounted at /content/gdrive/\n"
          ],
          "name": "stdout"
        }
      ]
    },
    {
      "cell_type": "code",
      "metadata": {
        "id": "zF9HjwlNzvyr",
        "colab_type": "code",
        "colab": {}
      },
      "source": [
        "import sys\n",
        "sys.path.append('/content/gdrive/My Drive/l4_project')\n",
        "sys.path.append('/content/gdrive/My Drive/l4_project/src')"
      ],
      "execution_count": 0,
      "outputs": []
    },
    {
      "cell_type": "code",
      "metadata": {
        "id": "B8HGGSg0z0_7",
        "colab_type": "code",
        "outputId": "9347ab12-aff7-402a-c4da-9db4123bb03f",
        "colab": {
          "base_uri": "https://localhost:8080/",
          "height": 34
        }
      },
      "source": [
        "%cd /content/gdrive/My Drive/l4_project/src"
      ],
      "execution_count": 0,
      "outputs": [
        {
          "output_type": "stream",
          "text": [
            "/content/gdrive/My Drive/l4_project/src\n"
          ],
          "name": "stdout"
        }
      ]
    },
    {
      "cell_type": "code",
      "metadata": {
        "id": "4yY0jY9vMsqa",
        "colab_type": "code",
        "outputId": "8f7b18ac-e442-4226-d9fb-771f2e5d7536",
        "colab": {
          "base_uri": "https://localhost:8080/",
          "height": 64
        }
      },
      "source": [
        "import numpy as np\n",
        "import tensorflow.keras\n",
        "from tensorflow.keras.models import load_model\n",
        "\n",
        "import seaborn as sns\n",
        "import matplotlib.pyplot as plt\n",
        "%matplotlib inline\n",
        "\n",
        "imw = 192\n",
        "imh = 192\n",
        "c = 1\n",
        "RS = 2211"
      ],
      "execution_count": 0,
      "outputs": [
        {
          "output_type": "display_data",
          "data": {
            "text/html": [
              "<p style=\"color: red;\">\n",
              "The default version of TensorFlow in Colab will switch to TensorFlow 2.x on the 27th of March, 2020.<br>\n",
              "We recommend you <a href=\"https://www.tensorflow.org/guide/migrate\" target=\"_blank\">upgrade</a> now\n",
              "or ensure your notebook will continue to use TensorFlow 1.x via the <code>%tensorflow_version 1.x</code> magic:\n",
              "<a href=\"https://colab.research.google.com/notebooks/tensorflow_version.ipynb\" target=\"_blank\">more info</a>.</p>\n"
            ],
            "text/plain": [
              "<IPython.core.display.HTML object>"
            ]
          },
          "metadata": {
            "tags": []
          }
        }
      ]
    },
    {
      "cell_type": "code",
      "metadata": {
        "id": "mIs0Q3tqMzzP",
        "colab_type": "code",
        "outputId": "063cbc7e-de3d-4b2a-ebe7-97463dffc1b5",
        "colab": {
          "base_uri": "https://localhost:8080/",
          "height": 34
        }
      },
      "source": [
        "from sklearn.manifold import TSNE\n",
        "import umap\n",
        "from keras.layers import Input, Activation, BatchNormalization, Dense, Dropout, Conv2D, Conv2DTranspose, MaxPooling2D, UpSampling2D, Flatten, Reshape, LeakyReLU\n",
        "from keras.models import Model\n",
        "from keras import backend as K"
      ],
      "execution_count": 0,
      "outputs": [
        {
          "output_type": "stream",
          "text": [
            "Using TensorFlow backend.\n"
          ],
          "name": "stderr"
        }
      ]
    },
    {
      "cell_type": "code",
      "metadata": {
        "id": "OtLyYrR70QNG",
        "colab_type": "code",
        "colab": {}
      },
      "source": [
        "from dataset_helpers import get_label, efficient_shuffle"
      ],
      "execution_count": 0,
      "outputs": []
    },
    {
      "cell_type": "code",
      "metadata": {
        "id": "-iAfxO7mNY7I",
        "colab_type": "code",
        "colab": {}
      },
      "source": [
        "data = np.load('/content/gdrive/My Drive/l4_project/CK19_full.npz')"
      ],
      "execution_count": 0,
      "outputs": []
    },
    {
      "cell_type": "code",
      "metadata": {
        "id": "PMoBsvg-Nm-M",
        "colab_type": "code",
        "colab": {}
      },
      "source": [
        "x = data['x']\n",
        "filenames = data['y']"
      ],
      "execution_count": 0,
      "outputs": []
    },
    {
      "cell_type": "code",
      "metadata": {
        "id": "HRw8yvQ20SkR",
        "colab_type": "code",
        "colab": {}
      },
      "source": [
        "y = np.array([get_label(i) for i in filenames])"
      ],
      "execution_count": 0,
      "outputs": []
    },
    {
      "cell_type": "code",
      "metadata": {
        "id": "mjlZdCK71OZG",
        "colab_type": "code",
        "colab": {}
      },
      "source": [
        "efficient_shuffle(x, random_state=RS)"
      ],
      "execution_count": 0,
      "outputs": []
    },
    {
      "cell_type": "markdown",
      "metadata": {
        "id": "ZrKHxyvBNrcB",
        "colab_type": "text"
      },
      "source": [
        "## Write model"
      ]
    },
    {
      "cell_type": "code",
      "metadata": {
        "id": "oSVwhG7-Nq6W",
        "colab_type": "code",
        "colab": {}
      },
      "source": [
        "def conv2d_block(input_tensor, n_filters, kernel_size=3, batchnorm=True):\n",
        "    # first layer\n",
        "    x = Conv2D(filters=n_filters, kernel_size=(kernel_size, kernel_size), kernel_initializer=\"he_normal\",\n",
        "               padding=\"same\")(input_tensor)\n",
        "    if batchnorm:\n",
        "        x = BatchNormalization()(x)\n",
        "    x = Activation(\"relu\")(x)\n",
        "    # second layer\n",
        "    x = Conv2D(filters=n_filters, kernel_size=(kernel_size, kernel_size), kernel_initializer=\"he_normal\",\n",
        "               padding=\"same\")(x)\n",
        "    if batchnorm:\n",
        "        x = BatchNormalization()(x)\n",
        "    x = Activation(\"relu\")(x)\n",
        "    return x"
      ],
      "execution_count": 0,
      "outputs": []
    },
    {
      "cell_type": "code",
      "metadata": {
        "id": "xUB4tylCNzA2",
        "colab_type": "code",
        "colab": {}
      },
      "source": [
        "def get_unet(input_img, n_filters=16, dropout=0.5, batchnorm=True):\n",
        "    # contracting path\n",
        "    c1 = conv2d_block(input_img, n_filters=n_filters*1, kernel_size=3, batchnorm=batchnorm)\n",
        "    p1 = MaxPooling2D((2, 2)) (c1)\n",
        "    p1 = Dropout(dropout*0.5)(p1)\n",
        "\n",
        "    c2 = conv2d_block(p1, n_filters=n_filters*2, kernel_size=3, batchnorm=batchnorm)\n",
        "    p2 = MaxPooling2D((2, 2)) (c2)\n",
        "    p2 = Dropout(dropout)(p2)\n",
        "\n",
        "    c3 = conv2d_block(p2, n_filters=n_filters*4, kernel_size=3, batchnorm=batchnorm)\n",
        "    p3 = MaxPooling2D((2, 2)) (c3)\n",
        "    p3 = Dropout(dropout)(p3)\n",
        "\n",
        "    c4 = conv2d_block(p3, n_filters=n_filters*8, kernel_size=3, batchnorm=batchnorm)\n",
        "    p4 = MaxPooling2D(pool_size=(2, 2)) (c4)\n",
        "    p4 = Dropout(dropout)(p4)\n",
        "    \n",
        "    c5 = conv2d_block(p4, n_filters=n_filters*16, kernel_size=3, batchnorm=batchnorm)\n",
        "    \n",
        "    # expansive path\n",
        "    u6 = Conv2DTranspose(n_filters*8, (3, 3), strides=(2, 2), padding='same') (c5)\n",
        "    u6 = concatenate([u6, c4])\n",
        "    u6 = Dropout(dropout)(u6)\n",
        "    c6 = conv2d_block(u6, n_filters=n_filters*8, kernel_size=3, batchnorm=batchnorm)\n",
        "\n",
        "    u7 = Conv2DTranspose(n_filters*4, (3, 3), strides=(2, 2), padding='same') (c6)\n",
        "    u7 = concatenate([u7, c3])\n",
        "    u7 = Dropout(dropout)(u7)\n",
        "    c7 = conv2d_block(u7, n_filters=n_filters*4, kernel_size=3, batchnorm=batchnorm)\n",
        "\n",
        "    u8 = Conv2DTranspose(n_filters*2, (3, 3), strides=(2, 2), padding='same') (c7)\n",
        "    u8 = concatenate([u8, c2])\n",
        "    u8 = Dropout(dropout)(u8)\n",
        "    c8 = conv2d_block(u8, n_filters=n_filters*2, kernel_size=3, batchnorm=batchnorm)\n",
        "\n",
        "    u9 = Conv2DTranspose(n_filters*1, (3, 3), strides=(2, 2), padding='same') (c8)\n",
        "    u9 = concatenate([u9, c1], axis=3)\n",
        "    u9 = Dropout(dropout)(u9)\n",
        "    c9 = conv2d_block(u9, n_filters=n_filters*1, kernel_size=3, batchnorm=batchnorm)\n",
        "    \n",
        "    outputs = Conv2D(1, (1, 1), activation='relu') (c9)\n",
        "    model = Model(inputs=[input_img], outputs=[outputs])\n",
        "    return model"
      ],
      "execution_count": 0,
      "outputs": []
    },
    {
      "cell_type": "code",
      "metadata": {
        "id": "t2Uo4gfu2A-j",
        "colab_type": "code",
        "colab": {}
      },
      "source": [
        "from dataset_helpers import minmax"
      ],
      "execution_count": 0,
      "outputs": []
    },
    {
      "cell_type": "code",
      "metadata": {
        "id": "KDrRbBiw2GPB",
        "colab_type": "code",
        "colab": {}
      },
      "source": [
        "from segmentation import get_mask"
      ],
      "execution_count": 0,
      "outputs": []
    },
    {
      "cell_type": "code",
      "metadata": {
        "id": "_vgv7DJjOGbn",
        "colab_type": "code",
        "colab": {}
      },
      "source": [
        "idx = 0\n",
        "j = 0\n",
        "l = 20000\n",
        "x_train = np.ndarray(shape=(l, 192, 192), dtype=np.float32)\n",
        "y_train = np.ndarray(shape=(l, 192, 192), dtype=np.float32)\n",
        "while idx < l:\n",
        "    x_train[idx] = minmax(x[idx])\n",
        "    y_train[idx] = get_mask(minmax(x_train[idx].astype(np.float32)))\n",
        "    idx += 1"
      ],
      "execution_count": 0,
      "outputs": []
    },
    {
      "cell_type": "code",
      "metadata": {
        "id": "6M_jdHm819iq",
        "colab_type": "code",
        "colab": {}
      },
      "source": [
        "from keras.layers.merge import concatenate, add"
      ],
      "execution_count": 0,
      "outputs": []
    },
    {
      "cell_type": "code",
      "metadata": {
        "id": "LRkau05sN00y",
        "colab_type": "code",
        "colab": {}
      },
      "source": [
        "input_img = Input((imw, imh, 1), name='img')\n",
        "model = get_unet(input_img, n_filters=16, dropout=0.05, batchnorm=True)\n",
        "\n",
        "model.compile(optimizer='adam', loss=\"binary_crossentropy\")"
      ],
      "execution_count": 0,
      "outputs": []
    },
    {
      "cell_type": "code",
      "metadata": {
        "id": "LiP5RGbq2I-Y",
        "colab_type": "code",
        "colab": {}
      },
      "source": [
        "from sklearn.model_selection import train_test_split"
      ],
      "execution_count": 0,
      "outputs": []
    },
    {
      "cell_type": "code",
      "metadata": {
        "id": "sggB6DOW2ZMC",
        "colab_type": "code",
        "colab": {}
      },
      "source": [
        "x_train = np.reshape(x_train, (len(x_train), 192, 192, 1))"
      ],
      "execution_count": 0,
      "outputs": []
    },
    {
      "cell_type": "code",
      "metadata": {
        "id": "A8nFLwS52npI",
        "colab_type": "code",
        "colab": {}
      },
      "source": [
        "y_train = np.reshape(y_train,(len(y_train), 192, 192, 1))"
      ],
      "execution_count": 0,
      "outputs": []
    },
    {
      "cell_type": "code",
      "metadata": {
        "id": "ZXdObHw1OMqz",
        "colab_type": "code",
        "colab": {}
      },
      "source": [
        "X_train, X_valid, Y_train, Y_valid = train_test_split(x_train, y_train, test_size=0.2, random_state=RS)"
      ],
      "execution_count": 0,
      "outputs": []
    },
    {
      "cell_type": "code",
      "metadata": {
        "id": "rZFrVpxr2Hv0",
        "colab_type": "code",
        "outputId": "77ac427c-cd15-4d1e-e502-9384567151c4",
        "colab": {
          "base_uri": "https://localhost:8080/",
          "height": 800
        }
      },
      "source": [
        "results = model.fit(X_train, Y_train, batch_size=32, epochs=20)"
      ],
      "execution_count": 0,
      "outputs": [
        {
          "output_type": "stream",
          "text": [
            "WARNING:tensorflow:From /usr/local/lib/python3.6/dist-packages/keras/backend/tensorflow_backend.py:1033: The name tf.assign_add is deprecated. Please use tf.compat.v1.assign_add instead.\n",
            "\n",
            "WARNING:tensorflow:From /usr/local/lib/python3.6/dist-packages/keras/backend/tensorflow_backend.py:1020: The name tf.assign is deprecated. Please use tf.compat.v1.assign instead.\n",
            "\n",
            "Epoch 1/20\n",
            "16000/16000 [==============================] - 82s 5ms/step - loss: 0.1145\n",
            "Epoch 2/20\n",
            "16000/16000 [==============================] - 72s 4ms/step - loss: 0.0649\n",
            "Epoch 3/20\n",
            "16000/16000 [==============================] - 72s 4ms/step - loss: 0.0437\n",
            "Epoch 4/20\n",
            "16000/16000 [==============================] - 72s 4ms/step - loss: 0.0607\n",
            "Epoch 5/20\n",
            "16000/16000 [==============================] - 72s 4ms/step - loss: 0.0448\n",
            "Epoch 6/20\n",
            "16000/16000 [==============================] - 71s 4ms/step - loss: 0.0419\n",
            "Epoch 7/20\n",
            "16000/16000 [==============================] - 71s 4ms/step - loss: 0.0379\n",
            "Epoch 8/20\n",
            "16000/16000 [==============================] - 71s 4ms/step - loss: 0.0332\n",
            "Epoch 9/20\n",
            "16000/16000 [==============================] - 71s 4ms/step - loss: 0.0342\n",
            "Epoch 10/20\n",
            "16000/16000 [==============================] - 71s 4ms/step - loss: 0.0441\n",
            "Epoch 11/20\n",
            "16000/16000 [==============================] - 72s 4ms/step - loss: 0.0359\n",
            "Epoch 12/20\n",
            "16000/16000 [==============================] - 72s 4ms/step - loss: 0.0454\n",
            "Epoch 13/20\n",
            "16000/16000 [==============================] - 72s 4ms/step - loss: 0.0385\n",
            "Epoch 14/20\n",
            "16000/16000 [==============================] - 71s 4ms/step - loss: 0.0331\n",
            "Epoch 15/20\n",
            "16000/16000 [==============================] - 71s 4ms/step - loss: 0.0307\n",
            "Epoch 16/20\n",
            "16000/16000 [==============================] - 71s 4ms/step - loss: 0.0326\n",
            "Epoch 17/20\n",
            "16000/16000 [==============================] - 71s 4ms/step - loss: 0.0328\n",
            "Epoch 18/20\n",
            "16000/16000 [==============================] - 71s 4ms/step - loss: 0.0349\n",
            "Epoch 19/20\n",
            "16000/16000 [==============================] - 71s 4ms/step - loss: 0.0298\n",
            "Epoch 20/20\n",
            "16000/16000 [==============================] - 71s 4ms/step - loss: 0.0293\n"
          ],
          "name": "stdout"
        }
      ]
    },
    {
      "cell_type": "code",
      "metadata": {
        "id": "_s6z7aLR2URy",
        "colab_type": "code",
        "colab": {}
      },
      "source": [
        "predictions = model.predict(X_valid)"
      ],
      "execution_count": 0,
      "outputs": []
    },
    {
      "cell_type": "code",
      "metadata": {
        "id": "PeJdYz2YBXQ0",
        "colab_type": "code",
        "colab": {}
      },
      "source": [
        "from evaluation_helpers import show_image"
      ],
      "execution_count": 0,
      "outputs": []
    },
    {
      "cell_type": "code",
      "metadata": {
        "id": "EPjmApwO4Cxg",
        "colab_type": "code",
        "outputId": "20e22609-7146-435a-9b21-bcc7c7b93616",
        "colab": {
          "base_uri": "https://localhost:8080/",
          "height": 264
        }
      },
      "source": [
        "show_image(X_valid[159])"
      ],
      "execution_count": 0,
      "outputs": [
        {
          "output_type": "display_data",
          "data": {
            "image/png": "[encoded data removed]",
            "text/plain": [
              "<Figure size 432x288 with 1 Axes>"
            ]
          },
          "metadata": {
            "tags": []
          }
        }
      ]
    },
    {
      "cell_type": "code",
      "metadata": {
        "id": "kkYm6bhb3304",
        "colab_type": "code",
        "outputId": "1c137ac1-3006-41c7-adf5-93db3cd378ba",
        "colab": {
          "base_uri": "https://localhost:8080/",
          "height": 264
        }
      },
      "source": [
        "show_image(Y_valid[159])"
      ],
      "execution_count": 0,
      "outputs": [
        {
          "output_type": "display_data",
          "data": {
            "image/png": "[encoded data removed]",
            "text/plain": [
              "<Figure size 432x288 with 1 Axes>"
            ]
          },
          "metadata": {
            "tags": []
          }
        }
      ]
    },
    {
      "cell_type": "code",
      "metadata": {
        "id": "MF9zPAiNdD2E",
        "colab_type": "code",
        "colab": {}
      },
      "source": [
        "def get_masks(images):\n",
        "    unet_images = model.predict(images)\n",
        "    unet_images[unet_images<0.5] = 0\n",
        "    unet_images[unet_images>=0.5] = 1\n",
        "    return unet_images"
      ],
      "execution_count": 0,
      "outputs": []
    },
    {
      "cell_type": "code",
      "metadata": {
        "id": "OQnOomOMdXMK",
        "colab_type": "code",
        "outputId": "6d79ed67-33d2-4bcc-8072-31af5f73361a",
        "colab": {
          "base_uri": "https://localhost:8080/",
          "height": 52
        }
      },
      "source": [
        "%%time\n",
        "um = get_masks(X_valid[:1000])"
      ],
      "execution_count": 0,
      "outputs": [
        {
          "output_type": "stream",
          "text": [
            "CPU times: user 1.18 s, sys: 638 ms, total: 1.82 s\n",
            "Wall time: 1.69 s\n"
          ],
          "name": "stdout"
        }
      ]
    },
    {
      "cell_type": "code",
      "metadata": {
        "id": "p0GTZ1SSddru",
        "colab_type": "code",
        "colab": {}
      },
      "source": [
        "from segmentation import get_mask"
      ],
      "execution_count": 0,
      "outputs": []
    },
    {
      "cell_type": "code",
      "metadata": {
        "id": "BJnQHTv_du67",
        "colab_type": "code",
        "outputId": "5fc01479-6f3f-42ee-c273-2aeb7d352773",
        "colab": {
          "base_uri": "https://localhost:8080/",
          "height": 264
        }
      },
      "source": [
        "show_image(X_valid[169])"
      ],
      "execution_count": 0,
      "outputs": [
        {
          "output_type": "display_data",
          "data": {
            "image/png": "[encoded data removed]",
            "text/plain": [
              "<Figure size 432x288 with 1 Axes>"
            ]
          },
          "metadata": {
            "tags": []
          }
        }
      ]
    },
    {
      "cell_type": "code",
      "metadata": {
        "id": "Qc9fkobgdfd0",
        "colab_type": "code",
        "outputId": "885bf57f-07dd-4385-8f22-b06e98767cfd",
        "colab": {
          "base_uri": "https://localhost:8080/",
          "height": 264
        }
      },
      "source": [
        "show_image(get_mask(X_valid[169]))"
      ],
      "execution_count": 0,
      "outputs": [
        {
          "output_type": "display_data",
          "data": {
            "image/png": "[encoded data removed]",
            "text/plain": [
              "<Figure size 432x288 with 1 Axes>"
            ]
          },
          "metadata": {
            "tags": []
          }
        }
      ]
    },
    {
      "cell_type": "code",
      "metadata": {
        "id": "uNjS-259dZUe",
        "colab_type": "code",
        "outputId": "da54e9e5-23d2-4bd5-fa75-45a228861cf2",
        "colab": {
          "base_uri": "https://localhost:8080/",
          "height": 264
        }
      },
      "source": [
        "show_image(um[169])"
      ],
      "execution_count": 0,
      "outputs": [
        {
          "output_type": "display_data",
          "data": {
            "image/png": "[encoded data removed]",
            "text/plain": [
              "<Figure size 432x288 with 1 Axes>"
            ]
          },
          "metadata": {
            "tags": []
          }
        }
      ]
    },
    {
      "cell_type": "code",
      "metadata": {
        "id": "QmJFzxx_4Qmn",
        "colab_type": "code",
        "colab": {}
      },
      "source": [
        "model.save('/content/gdrive/My Drive/l4_project/unet.h5')"
      ],
      "execution_count": 0,
      "outputs": []
    },
    {
      "cell_type": "code",
      "metadata": {
        "id": "GlURi4oN5CUD",
        "colab_type": "code",
        "colab": {}
      },
      "source": [
        ""
      ],
      "execution_count": 0,
      "outputs": []
    }
  ]
}