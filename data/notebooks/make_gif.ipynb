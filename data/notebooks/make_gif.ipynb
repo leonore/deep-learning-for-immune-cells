{
 "cells": [
  {
   "cell_type": "markdown",
   "metadata": {
    "colab_type": "text",
    "id": "HNTEZMogjXGe"
   },
   "source": [
    "## Import main functions"
   ]
  },
  {
   "cell_type": "code",
   "execution_count": 0,
   "metadata": {
    "colab": {},
    "colab_type": "code",
    "id": "GQAfSBkijXGl"
   },
   "outputs": [],
   "source": [
    "import matplotlib.pyplot as plt\n",
    "import numpy as np\n",
    "%matplotlib inline\n",
    "\n",
    "from config import imw, imh, c, RS\n",
    "from config import repo_path"
   ]
  },
  {
   "cell_type": "code",
   "execution_count": 0,
   "metadata": {
    "colab": {},
    "colab_type": "code",
    "id": "-5gY0AIoluvq"
   },
   "outputs": [],
   "source": [
    "import seaborn as sns\n",
    "import matplotlib.patheffects as PathEffects"
   ]
  },
  {
   "cell_type": "code",
   "execution_count": null,
   "metadata": {
    "colab": {
     "base_uri": "https://localhost:8080/",
     "height": 81
    },
    "colab_type": "code",
    "id": "hFN6QNcEjXGy",
    "outputId": "4ad7a5e7-fdc7-4493-c6ee-78391c4c9eb0"
   },
   "outputs": [],
   "source": [
    "from sklearn.manifold import TSNE"
   ]
  },
  {
   "cell_type": "code",
   "execution_count": null,
   "metadata": {},
   "outputs": [],
   "source": [
    "from dataset_helpers import combine_images, efficient_shuffle"
   ]
  },
  {
   "cell_type": "markdown",
   "metadata": {
    "colab_type": "text",
    "id": "YjhO9inRjXG-"
   },
   "source": [
    "## Read images"
   ]
  },
  {
   "cell_type": "code",
   "execution_count": 0,
   "metadata": {
    "colab": {},
    "colab_type": "code",
    "id": "IaCKUKGFjXHB"
   },
   "outputs": [],
   "source": [
    "npzfile = np.load('/Volumes/TARDIS/dmso_unmodified.npz')"
   ]
  },
  {
   "cell_type": "code",
   "execution_count": 0,
   "metadata": {
    "colab": {},
    "colab_type": "code",
    "id": "kT-C7nBRJpiP"
   },
   "outputs": [],
   "source": [
    "x = npzfile['x']"
   ]
  },
  {
   "cell_type": "code",
   "execution_count": 0,
   "metadata": {
    "colab": {},
    "colab_type": "code",
    "id": "R4_Jw0bPjXHQ"
   },
   "outputs": [],
   "source": [
    "filenames = npzfile['y']"
   ]
  },
  {
   "cell_type": "code",
   "execution_count": 0,
   "metadata": {
    "colab": {},
    "colab_type": "code",
    "id": "UotQse_XhKr1"
   },
   "outputs": [],
   "source": [
    "x_combined, y_combined = combine_images(x, filenames, mask=False)"
   ]
  },
  {
   "cell_type": "markdown",
   "metadata": {},
   "source": [
    "## Encode images"
   ]
  },
  {
   "cell_type": "code",
   "execution_count": 0,
   "metadata": {
    "colab": {},
    "colab_type": "code",
    "id": "BfT_xMuIJ04m"
   },
   "outputs": [],
   "source": [
    "encoder = load_model(repo_path + '/data/processed/weights/encoder.h5', compile=False)"
   ]
  },
  {
   "cell_type": "code",
   "execution_count": 0,
   "metadata": {
    "colab": {},
    "colab_type": "code",
    "id": "au4BlEy8PzAR"
   },
   "outputs": [],
   "source": [
    "efficient_shuffle(x_combined, y_combined, random_state=RS)"
   ]
  },
  {
   "cell_type": "code",
   "execution_count": null,
   "metadata": {},
   "outputs": [],
   "source": [
    "encoded_imgs = encoder.predict(x_combined)"
   ]
  },
  {
   "cell_type": "markdown",
   "metadata": {
    "colab_type": "text",
    "id": "CNwBx5MXIoK9"
   },
   "source": [
    "## High dimensional visualisation to GIF\n",
    "has to be done with t-sne because of the patch\n",
    "\n",
    "**source code adapted from: https://github.com/oreillymedia/t-SNE-tutorial**"
   ]
  },
  {
   "cell_type": "code",
   "execution_count": 0,
   "metadata": {
    "colab": {},
    "colab_type": "code",
    "id": "nwdrew35Iqt0"
   },
   "outputs": [],
   "source": [
    "# monkey patch gradient descent \n",
    "import sklearn\n",
    "\n",
    "positions = []\n",
    "\n",
    "def _gradient_descent(objective, p0, it, n_iter,\n",
    "                      n_iter_check=1, n_iter_without_progress=300,\n",
    "                      momentum=0.8, learning_rate=200.0, min_gain=0.01,\n",
    "                      min_grad_norm=1e-7, verbose=0, args=None, kwargs=None):\n",
    "\n",
    "    if args is None:\n",
    "        args = []\n",
    "    if kwargs is None:\n",
    "        kwargs = {}\n",
    "\n",
    "    p = p0.copy().ravel()\n",
    "    update = np.zeros_like(p)\n",
    "    gains = np.ones_like(p)\n",
    "    error = np.finfo(np.float).max\n",
    "    best_error = np.finfo(np.float).max\n",
    "    best_iter = i = it\n",
    "\n",
    "    for i in range(it, n_iter):\n",
    "        positions.append(p.copy())\n",
    "        \n",
    "        check_convergence = (i + 1) % n_iter_check == 0\n",
    "        # only compute the error when needed\n",
    "        kwargs['compute_error'] = check_convergence or i == n_iter - 1\n",
    "\n",
    "        error, grad = objective(p, *args, **kwargs)\n",
    "        grad_norm = linalg.norm(grad)\n",
    "\n",
    "        inc = update * grad < 0.0\n",
    "        dec = np.invert(inc)\n",
    "        gains[inc] += 0.2\n",
    "        gains[dec] *= 0.8\n",
    "        np.clip(gains, min_gain, np.inf, out=gains)\n",
    "        grad *= gains\n",
    "        update = momentum * update - learning_rate * grad\n",
    "        p += update\n",
    "\n",
    "        if check_convergence:\n",
    "\n",
    "            if verbose >= 2:\n",
    "                print(\"[t-SNE] Iteration %d: error = %.7f,\"\n",
    "                      \" gradient norm = %.7f\"\n",
    "                      \" (%s iterations in %0.3fs)\"\n",
    "                      % (i + 1, error, grad_norm, n_iter_check, duration))\n",
    "\n",
    "            if error < best_error:\n",
    "                best_error = error\n",
    "                best_iter = i\n",
    "            elif i - best_iter > n_iter_without_progress:\n",
    "                if verbose >= 2:\n",
    "                    print(\"[t-SNE] Iteration %d: did not make any progress \"\n",
    "                          \"during the last %d episodes. Finished.\"\n",
    "                          % (i + 1, n_iter_without_progress))\n",
    "                break\n",
    "            if grad_norm <= min_grad_norm:\n",
    "                if verbose >= 2:\n",
    "                    print(\"[t-SNE] Iteration %d: gradient norm %f. Finished.\"\n",
    "                          % (i + 1, grad_norm))\n",
    "                break\n",
    "\n",
    "    return p, error, i\n",
    "\n",
    "sklearn.manifold.t_sne._gradient_descent = _gradient_descent"
   ]
  },
  {
   "cell_type": "code",
   "execution_count": 0,
   "metadata": {
    "colab": {},
    "colab_type": "code",
    "id": "qbIsnEnIJPPo"
   },
   "outputs": [],
   "source": [
    "def scatter_gif(x, colors, labels=[\"Unstimulated\", \"OVA\", \"ConA\"]):\n",
    "    palette = np.array(sns.color_palette(\"hls\", len(labels)))\n",
    "    colors = np.array(colors)\n",
    "    \n",
    "    f = plt.figure(figsize=(8,8))\n",
    "    ax = plt.subplot()\n",
    "    \n",
    "    sc = ax.scatter(x[:,0], x[:,1], lw=0, s=40,\n",
    "                    c=palette[colors.astype(np.int)])\n",
    "    \n",
    "    plt.xlim(-25, 25)\n",
    "    plt.ylim(-25, 25)\n",
    "    ax.axis('off')\n",
    "    ax.axis('tight')\n",
    "\n",
    "    return f, sc"
   ]
  },
  {
   "cell_type": "code",
   "execution_count": 0,
   "metadata": {
    "colab": {},
    "colab_type": "code",
    "id": "0HoCPeAnJSfE"
   },
   "outputs": [],
   "source": [
    "from scipy import linalg\n",
    "\n",
    "from moviepy.video.io.bindings import mplfig_to_npimage\n",
    "import moviepy.editor as mpy"
   ]
  },
  {
   "cell_type": "code",
   "execution_count": 0,
   "metadata": {
    "colab": {},
    "colab_type": "code",
    "id": "DTJC9WNdJV3s"
   },
   "outputs": [],
   "source": [
    "def make_gif(out, x, y, labels=[\"Unstimulated\", \"OVA\", \"ConA\", \"Faulty\"]):\n",
    "    def make_frame_mpl(t):\n",
    "        i = int(t*40)\n",
    "        x = X_iter[..., i]\n",
    "        sc.set_offsets(x)\n",
    "        return mplfig_to_npimage(f)\n",
    "\n",
    "    X_proj = TSNE(random_state=RS).fit_transform(x)\n",
    "    X_iter = np.dstack(position.reshape(-1, 2) for position in positions)\n",
    "    \n",
    "    f, sc = scatter_gif(X_iter[..., -1], y, labels=labels)\n",
    "    \n",
    "    animation = mpy.VideoClip(make_frame_mpl,\n",
    "                          duration=X_iter.shape[2]/40.)\n",
    "    animation.write_gif(out, fps=20)"
   ]
  },
  {
   "cell_type": "code",
   "execution_count": 0,
   "metadata": {
    "colab": {},
    "colab_type": "code",
    "id": "06sbgcegJYKO"
   },
   "outputs": [],
   "source": [
    "make_gif('/content/gdrive/My Drive/l4_dataset/cluster_combined_1.gif', encoded_imgs, y_combined)"
   ]
  }
 ],
 "metadata": {
  "accelerator": "GPU",
  "colab": {
   "collapsed_sections": [
    "CHGhol6HX9Md"
   ],
   "machine_shape": "hm",
   "name": "cell_autoencoder_new.ipynb",
   "provenance": [],
   "toc_visible": true
  },
  "kernelspec": {
   "display_name": "Python 3",
   "language": "python",
   "name": "python3"
  },
  "language_info": {
   "codemirror_mode": {
    "name": "ipython",
    "version": 3
   },
   "file_extension": ".py",
   "mimetype": "text/x-python",
   "name": "python",
   "nbconvert_exporter": "python",
   "pygments_lexer": "ipython3",
   "version": "3.6.5"
  }
 },
 "nbformat": 4,
 "nbformat_minor": 1
}
