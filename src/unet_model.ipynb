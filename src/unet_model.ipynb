{
  "nbformat": 4,
  "nbformat_minor": 0,
  "metadata": {
    "colab": {
      "name": "unet_model.ipynb",
      "provenance": []
    },
    "kernelspec": {
      "name": "python3",
      "display_name": "Python 3"
    },
    "accelerator": "GPU"
  },
  "cells": [
    {
     "cell_type": "markdown",
     "metadata": {},
     "source": [
      "### Code source\n",
      "https://www.depends-on-the-definition.com/unet-keras-segmenting-images/"
     ]
    },
    {
      "cell_type": "code",
      "metadata": {
        "id": "ByuPleXFMisG",
        "colab_type": "code",
        "outputId": "bf7fb0ab-8eb2-441f-b4e1-b0037db9823f",
        "colab": {
          "base_uri": "https://localhost:8080/",
          "height": 118
        }
      },
      "source": [
        "from google.colab import drive\n",
        "drive.mount('/content/gdrive/')"
      ],
      "execution_count": 1,
      "outputs": [
        {
          "output_type": "stream",
          "text": [
            "Go to this URL in a browser: https://accounts.google.com/o/oauth2/auth?client_id=947318989803-6bn6qk8qdgf4n4g3pfee6491hc0brc4i.apps.googleusercontent.com&redirect_uri=urn%3aietf%3awg%3aoauth%3a2.0%3aoob&response_type=code&scope=email%20https%3a%2f%2fwww.googleapis.com%2fauth%2fdocs.test%20https%3a%2f%2fwww.googleapis.com%2fauth%2fdrive%20https%3a%2f%2fwww.googleapis.com%2fauth%2fdrive.photos.readonly%20https%3a%2f%2fwww.googleapis.com%2fauth%2fpeopleapi.readonly\n",
            "\n",
            "Enter your authorization code:\n",
            "··········\n",
            "Mounted at /content/gdrive/\n"
          ],
          "name": "stdout"
        }
      ]
    },
    {
      "cell_type": "code",
      "metadata": {
        "id": "CvutnFHwMq8J",
        "colab_type": "code",
        "colab": {}
      },
      "source": [
        "import sys\n",
        "sys.path.append('/content/gdrive/My Drive/l4_dataset')"
      ],
      "execution_count": 0,
      "outputs": []
    },
    {
      "cell_type": "code",
      "metadata": {
        "id": "4yY0jY9vMsqa",
        "colab_type": "code",
        "colab": {}
      },
      "source": [
        "import matplotlib.pyplot as plt\n",
        "import numpy as np\n",
        "import os, copy\n",
        "%matplotlib inline\n",
        "\n",
        "imw = 192\n",
        "imh = 192\n",
        "c = 1\n",
        "RS = 2211\n",
        "\n",
        "import seaborn as sns\n",
        "import matplotlib.patheffects as PathEffects"
      ],
      "execution_count": 0,
      "outputs": []
    },
    {
      "cell_type": "code",
      "metadata": {
        "id": "mIs0Q3tqMzzP",
        "colab_type": "code",
        "colab": {}
      },
      "source": [
        "from sklearn.manifold import TSNE\n",
        "import umap\n",
        "from keras.layers import Input, Activation, BatchNormalization, Dense, Dropout, Conv2D, Conv2DTranspose, MaxPooling2D, UpSampling2D, Flatten, Reshape, LeakyReLU\n",
        "from keras.models import Model\n",
        "from keras import backend as K"
      ],
      "execution_count": 0,
      "outputs": []
    },
    {
      "cell_type": "code",
      "metadata": {
        "id": "se--adBaM2HN",
        "colab_type": "code",
        "colab": {}
      },
      "source": [
        "def mean_clip(x):\n",
        "    mean = np.mean(x)\n",
        "    return np.clip(x, mean-126, mean+127)\n",
        "\n",
        "def low_clip(x):\n",
        "    return np.clip(x, 255, 65535)\n",
        "\n",
        "def minmax(x):\n",
        "    return (x-np.min(x))/(np.max(x)-np.min(x))\n",
        "\n",
        "def max_normalise(x):\n",
        "    max = np.max(x)\n",
        "    return x / max"
      ],
      "execution_count": 0,
      "outputs": []
    },
    {
      "cell_type": "code",
      "metadata": {
        "id": "8_lVoe50NAUN",
        "colab_type": "code",
        "colab": {}
      },
      "source": [
        "def is_dmso(file):\n",
        "    # file format: folder/CKX - L - 00(...)\n",
        "\n",
        "    # only file, no folder\n",
        "    file = file.split('/')[-1].split(\"(\")[0]\n",
        "\n",
        "    # get letter for DMSO indices\n",
        "    letter = file.split('-')[1].strip()\n",
        "\n",
        "    # number\n",
        "    label = file[-2:].strip()\n",
        "\n",
        "    # cell case\n",
        "    ck = file[:4]\n",
        "\n",
        "    if ck == \"CK19\":\n",
        "        if label in [\"5\", \"8\", \"11\", \"15\", \"18\", \"21\"] and letter in [\"N\", \"O\", \"P\"]:\n",
        "            return True\n",
        "    elif ck == \"CK21\" or ck == \"CK22\":\n",
        "        if label != 3 and letter in [\"H\", \"P\"]:\n",
        "            return True\n",
        "    else:\n",
        "        print(\"No CK found\")\n",
        "    return False"
      ],
      "execution_count": 0,
      "outputs": []
    },
    {
      "cell_type": "code",
      "metadata": {
        "id": "VxzIMyA3NOC-",
        "colab_type": "code",
        "colab": {}
      },
      "source": [
        "def sliding_window(img, dest_size):\n",
        "    new_img = np.full_like(img, img)\n",
        "\n",
        "    size = img.shape[0]\n",
        "    if dest_size > size or dest_size % 2 != 0:\n",
        "        raise Exception(\"destination size is bigger than picture size or destination size is not even\")\n",
        "\n",
        "    qty = size//dest_size\n",
        "    if size % dest_size != 0:\n",
        "        # need to crop out the left and bottom (less significant in dataset)\n",
        "        crop = size-dest_size*qty\n",
        "        new_img = new_img[crop:, :-crop]\n",
        "\n",
        "    windows = np.ndarray(shape=(qty**2, dest_size, dest_size), dtype=np.float32)\n",
        "\n",
        "    i = 0\n",
        "    for row in range(qty):\n",
        "        y = row*dest_size\n",
        "        x = 0\n",
        "        for col in range(qty):\n",
        "            #print(\"x:coord {},{} - y:coord {},{}\".format(x, x+dest_size, y, y+dest_size))\n",
        "            windows[i] = new_img[x:x+dest_size, y:y+dest_size]\n",
        "            x += dest_size\n",
        "            i += 1\n",
        "\n",
        "    return windows\n",
        "\n",
        "def get_label(filename):\n",
        "    # 0: unstimulated\n",
        "    # 1: OVA\n",
        "    # 2: ConA\n",
        "    # 3: empty\n",
        "\n",
        "    # filename format: folder/CKX - L - 00(...)\n",
        "    file = filename.split(\"/\")[-1].split(\"(\")[0]\n",
        "\n",
        "    # get letter for DMSO indices\n",
        "    letter = file.split('-')[1].strip()\n",
        "\n",
        "    # get number\n",
        "    number = file[-2:].strip()\n",
        "\n",
        "    # get plate layout number\n",
        "    ck = file[:4]\n",
        "\n",
        "    # DMSO = []\n",
        "\n",
        "    if ck == \"CK19\":\n",
        "        #if number in [\"5\", \"8\", \"11\", \"15\", \"18\", \"21\"] and letter in [\"N\", \"O\", \"P\"]:\n",
        "        #   DMSO.append(len(labels))\n",
        "        if number in [\"3\", \"4\", \"5\", \"6\", \"7\", \"8\", \"24\"]:\n",
        "            label = 0\n",
        "        elif number in [\"9\", \"10\", \"11\", \"13\", \"14\", \"15\", \"23\"]:\n",
        "            label = 1\n",
        "        elif number in [\"16\", \"17\", \"18\", \"19\", \"20\", \"21\", \"22\"]:\n",
        "            label = 2\n",
        "        else:\n",
        "            label = 3\n",
        "    elif ck == \"CK21\" or ck == \"CK22\":\n",
        "        if number in [\"02\", \"03\", \"04\", \"05\", \"06\", \"07\", \"08\", \"09\", \"10\", \"11\"]:\n",
        "            label = 0\n",
        "        elif int(number) in range(14, 24):\n",
        "            label = 2\n",
        "        else:\n",
        "            label = 3\n",
        "        #if label != 3 and letter in [\"H\", \"P\"]:\n",
        "        #    DMSO.append(len(labels))\n",
        "    else:\n",
        "        print(\"No CK found\")\n",
        "        return False\n",
        "\n",
        "    return label\n",
        "\n",
        "def even_round(num):\n",
        "    return round(num/2.)*2\n",
        "\n",
        "# need to find a way to shuffle this pairwise!\n",
        "def dataset_split(dataset, labels, test_size=0.2):\n",
        "    test_size = even_round(len(dataset)*test_size)\n",
        "    x_train, x_test = dataset[:-test_size], dataset[-test_size:]\n",
        "    y_train, y_test = labels[:-test_size], labels[-test_size:]\n",
        "    return x_train, x_test, y_train, y_test\n",
        "  \n",
        "def unishuffle(a, b, random_state=RS):\n",
        "    assert len(a) == len(b)\n",
        "    if random_state:\n",
        "      np.random.seed(RS)\n",
        "    p = np.random.permutation(len(a))\n",
        "    return a[p], b[p]"
      ],
      "execution_count": 0,
      "outputs": []
    },
    {
      "cell_type": "code",
      "metadata": {
        "id": "EM1uv8MhNSuD",
        "colab_type": "code",
        "colab": {}
      },
      "source": [
        "def show_image(img, title=\"untitled\", cmap=\"gray\", **kwargs):\n",
        "    try:\n",
        "        plt.imshow(img, cmap=cmap, **kwargs)\n",
        "    except:\n",
        "        plt.imshow(img[:, :, 0], cmap=cmap, **kwargs)\n",
        "    plt.axis(\"off\")\n",
        "    plt.title(title)\n",
        "\n"
      ],
      "execution_count": 0,
      "outputs": []
    },
    {
      "cell_type": "code",
      "metadata": {
        "id": "h8183JE1NUpi",
        "colab_type": "code",
        "colab": {}
      },
      "source": [
        "def plot_tsne(X, y, labels=[\"Unstimulated\", \"OVA\", \"ConA\"]):\n",
        "    targets = range(len(labels))\n",
        "    palette = np.array(sns.color_palette(\"hls\", len(labels)))\n",
        "\n",
        "    y = np.array(y)\n",
        "\n",
        "    fig = plt.figure(figsize=(10,10))\n",
        "    ax = plt.subplot()\n",
        "\n",
        "    for target, color, label in zip(targets, palette, labels):\n",
        "        plt.scatter(X[y==target, 0], X[y==target, 1], c=[color], label=label)\n",
        "\n",
        "    ax.axis('off')\n",
        "    ax.grid(False)\n",
        "\n",
        "    box = ax.get_position()\n",
        "    ax.set_position([box.x0, box.y0, box.width * 0.8, box.height])\n",
        "\n",
        "    ax.legend(loc='center left', bbox_to_anchor=(1, 0.5))"
      ],
      "execution_count": 0,
      "outputs": []
    },
    {
      "cell_type": "code",
      "metadata": {
        "id": "5rSF0nezNWEl",
        "colab_type": "code",
        "colab": {}
      },
      "source": [
        "from sklearn.cluster import KMeans\n",
        "\n",
        "def convert_to_binary(a):\n",
        "    val = np.unique(a)[1]\n",
        "    mask = np.copy(a)\n",
        "    mask = np.where(mask>=val, 1, 0)\n",
        "    return mask.astype(np.uint8)\n",
        "\n",
        "def get_mask(img):\n",
        "    kmeans = KMeans(2).fit(img.reshape(np.prod(img.shape), 1))\n",
        "    return convert_to_binary(kmeans.cluster_centers_[kmeans.labels_])"
      ],
      "execution_count": 0,
      "outputs": []
    },
    {
      "cell_type": "code",
      "metadata": {
        "id": "-iAfxO7mNY7I",
        "colab_type": "code",
        "colab": {}
      },
      "source": [
        "npzfile = np.load('/content/gdrive/My Drive/l4_dataset/dmso_unmodified.npz')"
      ],
      "execution_count": 0,
      "outputs": []
    },
    {
      "cell_type": "code",
      "metadata": {
        "id": "PMoBsvg-Nm-M",
        "colab_type": "code",
        "colab": {}
      },
      "source": [
        "y = npzfile['y']"
      ],
      "execution_count": 0,
      "outputs": []
    },
    {
      "cell_type": "code",
      "metadata": {
        "id": "4VesEKopNoaM",
        "colab_type": "code",
        "colab": {}
      },
      "source": [
        "y_dmso = np.array([get_label(i) for i in y])"
      ],
      "execution_count": 0,
      "outputs": []
    },
    {
      "cell_type": "code",
      "metadata": {
        "id": "d5dRvy9tNpr_",
        "colab_type": "code",
        "colab": {}
      },
      "source": [
        "x = npzfile['x']"
      ],
      "execution_count": 0,
      "outputs": []
    },
    {
      "cell_type": "markdown",
      "metadata": {
        "id": "ZrKHxyvBNrcB",
        "colab_type": "text"
      },
      "source": [
        "## Write model"
      ]
    },
    {
      "cell_type": "code",
      "metadata": {
        "id": "oSVwhG7-Nq6W",
        "colab_type": "code",
        "colab": {}
      },
      "source": [
        "def conv2d_block(input_tensor, n_filters, kernel_size=3, batchnorm=True):\n",
        "    # first layer\n",
        "    x = Conv2D(filters=n_filters, kernel_size=(kernel_size, kernel_size), kernel_initializer=\"he_normal\",\n",
        "               padding=\"same\")(input_tensor)\n",
        "    if batchnorm:\n",
        "        x = BatchNormalization()(x)\n",
        "    x = Activation(\"relu\")(x)\n",
        "    # second layer\n",
        "    x = Conv2D(filters=n_filters, kernel_size=(kernel_size, kernel_size), kernel_initializer=\"he_normal\",\n",
        "               padding=\"same\")(x)\n",
        "    if batchnorm:\n",
        "        x = BatchNormalization()(x)\n",
        "    x = Activation(\"relu\")(x)\n",
        "    return x"
      ],
      "execution_count": 0,
      "outputs": []
    },
    {
      "cell_type": "code",
      "metadata": {
        "id": "xUB4tylCNzA2",
        "colab_type": "code",
        "colab": {}
      },
      "source": [
        "def get_unet(input_img, n_filters=16, dropout=0.5, batchnorm=True):\n",
        "    # contracting path\n",
        "    c1 = conv2d_block(input_img, n_filters=n_filters*1, kernel_size=3, batchnorm=batchnorm)\n",
        "    p1 = MaxPooling2D((2, 2)) (c1)\n",
        "    p1 = Dropout(dropout*0.5)(p1)\n",
        "\n",
        "    c2 = conv2d_block(p1, n_filters=n_filters*2, kernel_size=3, batchnorm=batchnorm)\n",
        "    p2 = MaxPooling2D((2, 2)) (c2)\n",
        "    p2 = Dropout(dropout)(p2)\n",
        "\n",
        "    c3 = conv2d_block(p2, n_filters=n_filters*4, kernel_size=3, batchnorm=batchnorm)\n",
        "    p3 = MaxPooling2D((2, 2)) (c3)\n",
        "    p3 = Dropout(dropout)(p3)\n",
        "\n",
        "    c4 = conv2d_block(p3, n_filters=n_filters*8, kernel_size=3, batchnorm=batchnorm)\n",
        "    p4 = MaxPooling2D(pool_size=(2, 2)) (c4)\n",
        "    p4 = Dropout(dropout)(p4)\n",
        "    \n",
        "    c5 = conv2d_block(p4, n_filters=n_filters*16, kernel_size=3, batchnorm=batchnorm)\n",
        "    \n",
        "    # expansive path\n",
        "    u6 = Conv2DTranspose(n_filters*8, (3, 3), strides=(2, 2), padding='same') (c5)\n",
        "    u6 = concatenate([u6, c4])\n",
        "    u6 = Dropout(dropout)(u6)\n",
        "    c6 = conv2d_block(u6, n_filters=n_filters*8, kernel_size=3, batchnorm=batchnorm)\n",
        "\n",
        "    u7 = Conv2DTranspose(n_filters*4, (3, 3), strides=(2, 2), padding='same') (c6)\n",
        "    u7 = concatenate([u7, c3])\n",
        "    u7 = Dropout(dropout)(u7)\n",
        "    c7 = conv2d_block(u7, n_filters=n_filters*4, kernel_size=3, batchnorm=batchnorm)\n",
        "\n",
        "    u8 = Conv2DTranspose(n_filters*2, (3, 3), strides=(2, 2), padding='same') (c7)\n",
        "    u8 = concatenate([u8, c2])\n",
        "    u8 = Dropout(dropout)(u8)\n",
        "    c8 = conv2d_block(u8, n_filters=n_filters*2, kernel_size=3, batchnorm=batchnorm)\n",
        "\n",
        "    u9 = Conv2DTranspose(n_filters*1, (3, 3), strides=(2, 2), padding='same') (c8)\n",
        "    u9 = concatenate([u9, c1], axis=3)\n",
        "    u9 = Dropout(dropout)(u9)\n",
        "    c9 = conv2d_block(u9, n_filters=n_filters*1, kernel_size=3, batchnorm=batchnorm)\n",
        "    \n",
        "    outputs = Conv2D(1, (1, 1), activation='sigmoid') (c9)\n",
        "    model = Model(inputs=[input_img], outputs=[outputs])\n",
        "    return model"
      ],
      "execution_count": 0,
      "outputs": []
    },
    {
      "cell_type": "code",
      "metadata": {
        "id": "aBDgnVVPPMvG",
        "colab_type": "code",
        "colab": {}
      },
      "source": [
        "x = npzfile['x']"
      ],
      "execution_count": 0,
      "outputs": []
    },
    {
      "cell_type": "code",
      "metadata": {
        "id": "_vgv7DJjOGbn",
        "colab_type": "code",
        "colab": {}
      },
      "source": [
        "idx = 0\n",
        "j = 0\n",
        "l = 1000\n",
        "X = np.ndarray(shape=(l, 192, 192))\n",
        "y = np.ndarray(shape=(l, 192, 192))\n",
        "while idx < l:\n",
        "  print(idx)\n",
        "  X[idx] = max_normalise(x[idx])\n",
        "  y[idx] = get_mask(X[idx]).reshape(192,192)\n",
        "  idx += 1"
      ],
      "execution_count": 0,
      "outputs": []
    },
    {
      "cell_type": "code",
      "metadata": {
        "id": "6M_jdHm819iq",
        "colab_type": "code",
        "colab": {}
      },
      "source": [
        "from keras.layers.merge import concatenate, add"
      ],
      "execution_count": 0,
      "outputs": []
    },
    {
      "cell_type": "code",
      "metadata": {
        "id": "LRkau05sN00y",
        "colab_type": "code",
        "colab": {}
      },
      "source": [
        "input_img = Input((imw, imh, 1), name='img')\n",
        "model = get_unet(input_img, n_filters=16, dropout=0.05, batchnorm=True)\n",
        "\n",
        "model.compile(optimizer='adam', loss=\"binary_crossentropy\")"
      ],
      "execution_count": 0,
      "outputs": []
    },
    {
      "cell_type": "code",
      "metadata": {
        "id": "LiP5RGbq2I-Y",
        "colab_type": "code",
        "colab": {}
      },
      "source": [
        "from sklearn.model_selection import train_test_split"
      ],
      "execution_count": 0,
      "outputs": []
    },
    {
      "cell_type": "code",
      "metadata": {
        "id": "sggB6DOW2ZMC",
        "colab_type": "code",
        "colab": {}
      },
      "source": [
        "X = np.reshape(X, (len(X), 192, 192, 1))"
      ],
      "execution_count": 0,
      "outputs": []
    },
    {
      "cell_type": "code",
      "metadata": {
        "id": "A8nFLwS52npI",
        "colab_type": "code",
        "colab": {}
      },
      "source": [
        "y = np.reshape(y,(len(X), 192, 192, 1))"
      ],
      "execution_count": 0,
      "outputs": []
    },
    {
      "cell_type": "code",
      "metadata": {
        "id": "ZXdObHw1OMqz",
        "colab_type": "code",
        "colab": {}
      },
      "source": [
        "X_train, X_valid, y_train, y_valid = train_test_split(X, y, test_size=0.15, random_state=RS)"
      ],
      "execution_count": 0,
      "outputs": []
    },
    {
      "cell_type": "code",
      "metadata": {
        "id": "rZFrVpxr2Hv0",
        "colab_type": "code",
        "colab": {
          "base_uri": "https://localhost:8080/",
          "height": 777
        },
        "outputId": "a644917f-8b4c-4d03-846a-9177c9ccfebb"
      },
      "source": [
        "results = model.fit(X_train, y_train, batch_size=32, epochs=20, validation_data=(X_valid, y_valid))"
      ],
      "execution_count": 38,
      "outputs": [
        {
          "output_type": "stream",
          "text": [
            "WARNING:tensorflow:From /usr/local/lib/python3.6/dist-packages/keras/backend/tensorflow_backend.py:1033: The name tf.assign_add is deprecated. Please use tf.compat.v1.assign_add instead.\n",
            "\n",
            "WARNING:tensorflow:From /usr/local/lib/python3.6/dist-packages/keras/backend/tensorflow_backend.py:1020: The name tf.assign is deprecated. Please use tf.compat.v1.assign instead.\n",
            "\n",
            "Train on 850 samples, validate on 150 samples\n",
            "Epoch 1/20\n",
            "850/850 [==============================] - 23s 27ms/step - loss: 0.4658 - val_loss: 3.6322\n",
            "Epoch 2/20\n",
            "850/850 [==============================] - 7s 8ms/step - loss: 0.3275 - val_loss: 0.7467\n",
            "Epoch 3/20\n",
            "850/850 [==============================] - 7s 8ms/step - loss: 0.2749 - val_loss: 0.2518\n",
            "Epoch 4/20\n",
            "850/850 [==============================] - 7s 8ms/step - loss: 0.2388 - val_loss: 0.2421\n",
            "Epoch 5/20\n",
            "850/850 [==============================] - 7s 9ms/step - loss: 0.2092 - val_loss: 0.1924\n",
            "Epoch 6/20\n",
            "850/850 [==============================] - 7s 9ms/step - loss: 0.1886 - val_loss: 0.1771\n",
            "Epoch 7/20\n",
            "850/850 [==============================] - 7s 9ms/step - loss: 0.1739 - val_loss: 0.2022\n",
            "Epoch 8/20\n",
            "850/850 [==============================] - 7s 9ms/step - loss: 0.1619 - val_loss: 0.1872\n",
            "Epoch 9/20\n",
            "850/850 [==============================] - 7s 9ms/step - loss: 0.1491 - val_loss: 0.1851\n",
            "Epoch 10/20\n",
            "850/850 [==============================] - 7s 9ms/step - loss: 0.1428 - val_loss: 0.1379\n",
            "Epoch 11/20\n",
            "850/850 [==============================] - 7s 8ms/step - loss: 0.1337 - val_loss: 0.1364\n",
            "Epoch 12/20\n",
            "850/850 [==============================] - 7s 8ms/step - loss: 0.1274 - val_loss: 0.1721\n",
            "Epoch 13/20\n",
            "850/850 [==============================] - 7s 8ms/step - loss: 0.1249 - val_loss: 0.1868\n",
            "Epoch 14/20\n",
            "850/850 [==============================] - 7s 8ms/step - loss: 0.1262 - val_loss: 0.1334\n",
            "Epoch 15/20\n",
            "850/850 [==============================] - 7s 8ms/step - loss: 0.1190 - val_loss: 0.0997\n",
            "Epoch 16/20\n",
            "850/850 [==============================] - 7s 8ms/step - loss: 0.1166 - val_loss: 0.1150\n",
            "Epoch 17/20\n",
            "850/850 [==============================] - 7s 8ms/step - loss: 0.1140 - val_loss: 0.1244\n",
            "Epoch 18/20\n",
            "850/850 [==============================] - 7s 8ms/step - loss: 0.1106 - val_loss: 0.1055\n",
            "Epoch 19/20\n",
            "850/850 [==============================] - 7s 9ms/step - loss: 0.1069 - val_loss: 0.0944\n",
            "Epoch 20/20\n",
            "850/850 [==============================] - 7s 9ms/step - loss: 0.1061 - val_loss: 0.0814\n"
          ],
          "name": "stdout"
        }
      ]
    },
    {
      "cell_type": "code",
      "metadata": {
        "id": "_s6z7aLR2URy",
        "colab_type": "code",
        "colab": {}
      },
      "source": [
        "predictions = model.predict(X_valid)"
      ],
      "execution_count": 0,
      "outputs": []
    },
    {
      "cell_type": "code",
      "metadata": {
        "id": "EPjmApwO4Cxg",
        "colab_type": "code",
        "colab": {
          "base_uri": "https://localhost:8080/",
          "height": 262
        },
        "outputId": "1ddb29f2-5805-4b72-d800-c5f8f778dc2f"
      },
      "source": [
        "show_image(X_valid[149])"
      ],
      "execution_count": 44,
      "outputs": [
        {
          "output_type": "display_data",
          "data": {
            "image/png": "[encoded data removed]",
            "text/plain": [
              "<Figure size 432x288 with 1 Axes>"
            ]
          },
          "metadata": {
            "tags": []
          }
        }
      ]
    },
    {
      "cell_type": "code",
      "metadata": {
        "id": "kkYm6bhb3304",
        "colab_type": "code",
        "colab": {
          "base_uri": "https://localhost:8080/",
          "height": 262
        },
        "outputId": "968fcd39-3638-41d5-8c67-afdacbeb43e8"
      },
      "source": [
        "show_image(y_valid[149])"
      ],
      "execution_count": 43,
      "outputs": [
        {
          "output_type": "display_data",
          "data": {
            "image/png": "[encoded data removed]",
            "text/plain": [
              "<Figure size 432x288 with 1 Axes>"
            ]
          },
          "metadata": {
            "tags": []
          }
        }
      ]
    },
    {
      "cell_type": "code",
      "metadata": {
        "id": "wqorLYma3xl_",
        "colab_type": "code",
        "colab": {
          "base_uri": "https://localhost:8080/",
          "height": 262
        },
        "outputId": "869c4063-bc12-4be2-a156-b0ee105029b7"
      },
      "source": [
        "show_image(predictions[149])"
      ],
      "execution_count": 40,
      "outputs": [
        {
          "output_type": "display_data",
          "data": {
            "image/png": "[encoded data removed]",
            "text/plain": [
              "<Figure size 432x288 with 1 Axes>"
            ]
          },
          "metadata": {
            "tags": []
          }
        }
      ]
    },
    {
      "cell_type": "code",
      "metadata": {
        "id": "QmJFzxx_4Qmn",
        "colab_type": "code",
        "colab": {}
      },
      "source": [
        "model.save('/content/gdrive/My Drive/l4_dataset/unet_base_weights.h5')"
      ],
      "execution_count": 0,
      "outputs": []
    },
    {
      "cell_type": "code",
      "metadata": {
        "id": "GlURi4oN5CUD",
        "colab_type": "code",
        "colab": {}
      },
      "source": [
        ""
      ],
      "execution_count": 0,
      "outputs": []
    }
  ]
}
