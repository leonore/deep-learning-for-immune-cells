{
  "nbformat": 4,
  "nbformat_minor": 0,
  "metadata": {
    "kernelspec": {
      "name": "python3",
      "display_name": "Python 3"
    },
    "colab": {
      "name": "cell_autoencoder_new.ipynb",
      "provenance": [],
      "collapsed_sections": [
        "CHGhol6HX9Md"
      ],
      "toc_visible": true,
      "machine_shape": "hm"
    },
    "accelerator": "GPU"
  },
  "cells": [
    {
      "cell_type": "markdown",
      "metadata": {
        "id": "HNTEZMogjXGe",
        "colab_type": "text"
      },
      "source": [
        "## Import main functions"
      ]
    },
    {
      "cell_type": "code",
      "metadata": {
        "id": "LwvQ1GwQjpGk",
        "colab_type": "code",
        "outputId": "228472f5-13d5-48a7-dae6-25ce432f1c35",
        "colab": {
          "base_uri": "https://localhost:8080/",
          "height": 124
        }
      },
      "source": [
        "from google.colab import drive\n",
        "drive.mount('/content/gdrive/')"
      ],
      "execution_count": 0,
      "outputs": [
        {
          "output_type": "stream",
          "text": [
            "Go to this URL in a browser: https://accounts.google.com/o/oauth2/auth?client_id=947318989803-6bn6qk8qdgf4n4g3pfee6491hc0brc4i.apps.googleusercontent.com&redirect_uri=urn%3aietf%3awg%3aoauth%3a2.0%3aoob&response_type=code&scope=email%20https%3a%2f%2fwww.googleapis.com%2fauth%2fdocs.test%20https%3a%2f%2fwww.googleapis.com%2fauth%2fdrive%20https%3a%2f%2fwww.googleapis.com%2fauth%2fdrive.photos.readonly%20https%3a%2f%2fwww.googleapis.com%2fauth%2fpeopleapi.readonly\n",
            "\n",
            "Enter your authorization code:\n",
            "··········\n",
            "Mounted at /content/gdrive/\n"
          ],
          "name": "stdout"
        }
      ]
    },
    {
      "cell_type": "code",
      "metadata": {
        "id": "oY3j4GwSjsNe",
        "colab_type": "code",
        "colab": {}
      },
      "source": [
        "import sys\n",
        "sys.path.append('/content/gdrive/My Drive/l4_dataset')"
      ],
      "execution_count": 0,
      "outputs": []
    },
    {
      "cell_type": "code",
      "metadata": {
        "id": "a14FRRYAIuem",
        "colab_type": "code",
        "colab": {}
      },
      "source": [
        "import numpy as np\n",
        "\n",
        "import keras\n",
        "from keras.models import load_model\n",
        "from keras.models import Model\n",
        "import umap"
      ],
      "execution_count": 0,
      "outputs": []
    },
    {
      "cell_type": "code",
      "metadata": {
        "id": "xU938dLTI3uT",
        "colab_type": "code",
        "colab": {}
      },
      "source": [
        "import matplotlib.pyplot as plt\n",
        "\n",
        "from keras.layers import Input, Conv2D, MaxPooling2D, UpSampling2D, Flatten, Reshape, PReLU\n",
        "from keras.models import Model"
      ],
      "execution_count": 0,
      "outputs": []
    },
    {
      "cell_type": "code",
      "metadata": {
        "id": "GQAfSBkijXGl",
        "colab_type": "code",
        "colab": {}
      },
      "source": [
        "import os, copy\n",
        "%matplotlib inline\n",
        "\n",
        "imw = 192\n",
        "imh = 192\n",
        "c = 3\n",
        "RS = 2211"
      ],
      "execution_count": 0,
      "outputs": []
    },
    {
      "cell_type": "code",
      "metadata": {
        "id": "-5gY0AIoluvq",
        "colab_type": "code",
        "colab": {}
      },
      "source": [
        "import seaborn as sns\n",
        "import matplotlib.patheffects as PathEffects"
      ],
      "execution_count": 0,
      "outputs": []
    },
    {
      "cell_type": "code",
      "metadata": {
        "id": "hFN6QNcEjXGy",
        "colab_type": "code",
        "outputId": "95ae51dc-5ace-4ce5-e61a-a57ad3c0151b",
        "colab": {
          "base_uri": "https://localhost:8080/",
          "height": 81
        }
      },
      "source": [
        "from sklearn.manifold import TSNE\n",
        "import umap\n",
        "import cv2 "
      ],
      "execution_count": 0,
      "outputs": [
        {
          "output_type": "stream",
          "text": [
            "Using TensorFlow backend.\n"
          ],
          "name": "stderr"
        },
        {
          "output_type": "display_data",
          "data": {
            "text/html": [
              "<p style=\"color: red;\">\n",
              "The default version of TensorFlow in Colab will soon switch to TensorFlow 2.x.<br>\n",
              "We recommend you <a href=\"https://www.tensorflow.org/guide/migrate\" target=\"_blank\">upgrade</a> now \n",
              "or ensure your notebook will continue to use TensorFlow 1.x via the <code>%tensorflow_version 1.x</code> magic:\n",
              "<a href=\"https://colab.research.google.com/notebooks/tensorflow_version.ipynb\" target=\"_blank\">more info</a>.</p>\n"
            ],
            "text/plain": [
              "<IPython.core.display.HTML object>"
            ]
          },
          "metadata": {
            "tags": []
          }
        }
      ]
    },
    {
      "cell_type": "markdown",
      "metadata": {
        "id": "5vugs23rj1ew",
        "colab_type": "text"
      },
      "source": [
        "## Helper functions"
      ]
    },
    {
      "cell_type": "code",
      "metadata": {
        "id": "pxC8boOQI5SD",
        "colab_type": "code",
        "colab": {}
      },
      "source": [
        "def make_autoencoder():\n",
        "    input_img = Input(shape=(imw, imh, c))\n",
        "\n",
        "    x = Conv2D(64, (3, 3), padding='same')(input_img)\n",
        "    x = PReLU()(x)\n",
        "    x = MaxPooling2D((2, 2), padding='same')(x)\n",
        "    x = Conv2D(32, (3, 3), padding='same')(x)\n",
        "    x = PReLU()(x)\n",
        "    x = MaxPooling2D((2, 2), padding='same')(x)\n",
        "    x = Conv2D(32, (3, 3), padding='same')(x)\n",
        "    x = PReLU()(x)\n",
        "    x = MaxPooling2D((2, 2), padding='same')(x)\n",
        "    x = Conv2D(16, (3, 3), padding='same', strides=2)(x)\n",
        "    x = PReLU()(x)\n",
        "\n",
        "    encoded = Flatten()(x)\n",
        "\n",
        "    x = UpSampling2D((2, 2))(x)\n",
        "    x = Conv2D(32, (3, 3), padding='same')(x)\n",
        "    x = PReLU()(x)\n",
        "    x = UpSampling2D((2, 2))(x)\n",
        "    x = Conv2D(32, (3, 3), padding='same')(x)\n",
        "    x = PReLU()(x)\n",
        "    x = UpSampling2D((2, 2))(x)\n",
        "    x = Conv2D(64, (3, 3), padding=\"same\")(x)\n",
        "    x = PReLU()(x)\n",
        "    x = UpSampling2D((2, 2))(x)\n",
        "    decoded = Conv2D(c, (3, 3), activation='sigmoid', padding='same')(x)\n",
        "\n",
        "    decoder = Model(input_img, decoded)\n",
        "    encoder = Model(input_img, encoded)\n",
        "    decoder.compile(optimizer='adam', loss='binary_crossentropy')\n",
        "\n",
        "    return decoder, encoder"
      ],
      "execution_count": 0,
      "outputs": []
    },
    {
      "cell_type": "code",
      "metadata": {
        "id": "1pTijIo4I6WZ",
        "colab_type": "code",
        "colab": {}
      },
      "source": [
        "def train(model, data, batch_size=32, epochs=10):\n",
        "    # get before/after weights (make sure there is a change)\n",
        "    untrained_weights = np.array(model.get_layer(index=1).get_weights()[0])\n",
        "\n",
        "    loss = model.fit(data, data, epochs=epochs, batch_size=batch_size)\n",
        "\n",
        "    trained_weights = np.array(model.get_layer(index=1).get_weights()[0])\n",
        "\n",
        "    # plot the loss\n",
        "    plt.figure()\n",
        "    plt.plot(loss.history['loss'])\n",
        "    plt.ylabel('loss')\n",
        "    plt.xlabel('epoch')\n",
        "    plt.title(\"Evolution of loss per epoch\")\n",
        "    plt.grid(True)\n",
        "    plt.show()\n",
        "\n",
        "    weight_diff = trained_weights - untrained_weights\n",
        "    if np.all(weight_diff) == 0:\n",
        "        print(\"Training does not seem to have changed the weights. Something might have gone wrong.\")\n",
        "    else:\n",
        "        print(\"Model was trained successfully.\")"
      ],
      "execution_count": 0,
      "outputs": []
    },
    {
      "cell_type": "code",
      "metadata": {
        "id": "hzoUlSf9I9rc",
        "colab_type": "code",
        "colab": {}
      },
      "source": [
        "def evaluate(model, data, test):\n",
        "    plt.rcParams.update({'axes.titlesize': 'medium'})\n",
        "    train_nb = np.random.randint(0, len(data)-1)\n",
        "    test_nb = np.random.randint(0, len(test)-1)\n",
        "\n",
        "    # show the difference in reconstruction\n",
        "    decoded_imgs = model.predict(data[train_nb:train_nb+1]) # test on images it trained on\n",
        "    untrained_decoded = model.predict(test[test_nb:test_nb+1]) # test images\n",
        "\n",
        "    s=10\n",
        "    fig = plt.figure(figsize=(s,s))\n",
        "    fig.add_subplot(1, 2, 1)\n",
        "    show_image(reshape(data[train_nb:train_nb+1], w=imw, h=imh, c=c), \"original training image\")\n",
        "    fig.add_subplot(1, 2, 2)\n",
        "    show_image(reshape(decoded_imgs[0], w=imw, h=imh, c=c), \"reconstructed training image\")\n",
        "\n",
        "    fig = plt.figure(figsize=(s,s))\n",
        "    fig.add_subplot(1, 2, 1)\n",
        "    show_image(reshape(test[test_nb:test_nb+1], w=imw, h=imh, c=c), \"original test image\")\n",
        "    fig.add_subplot(1, 2, 2)\n",
        "    show_image(reshape(untrained_decoded[0], w=imw, h=imh, c=c), \"reconstructed test image\")\n",
        "\n",
        "    plt.show()"
      ],
      "execution_count": 0,
      "outputs": []
    },
    {
      "cell_type": "code",
      "metadata": {
        "id": "GtUckusnj4QJ",
        "colab_type": "code",
        "colab": {}
      },
      "source": [
        "def low_clip(x):\n",
        "    x[x<=255] = 0\n",
        "    return x\n",
        "\n",
        "def minmax(x):\n",
        "    return (x-x.min())/(x.max()-x.min())\n",
        "\n",
        "def is_faulty(x):\n",
        "  if x.max() <= 255:\n",
        "    return True\n",
        "  return False"
      ],
      "execution_count": 0,
      "outputs": []
    },
    {
      "cell_type": "code",
      "metadata": {
        "id": "CcOlWpK1kBOr",
        "colab_type": "code",
        "colab": {}
      },
      "source": [
        "def get_label(filename):\n",
        "    # 0: unstimulated\n",
        "    # 1: OVA\n",
        "    # 2: ConA\n",
        "    # 3: empty/faulty\n",
        "\n",
        "    # filename format: folder/CKX - L - 00(...)\n",
        "    file = filename.split(\"/\")[-1].split(\"(\")[0]\n",
        "\n",
        "    # get letter for DMSO indices\n",
        "    letter = file.split('-')[1].strip()\n",
        "\n",
        "    # get number\n",
        "    number = file[-2:].strip()\n",
        "\n",
        "    # get plate layout number\n",
        "    ck = file[:4]\n",
        "\n",
        "    # DMSO = []\n",
        "\n",
        "    if ck == \"CK19\":\n",
        "        #if number in [\"5\", \"8\", \"11\", \"15\", \"18\", \"21\"] and letter in [\"N\", \"O\", \"P\"]:\n",
        "        #   DMSO.append(len(labels))\n",
        "        if number in [\"3\", \"4\", \"5\", \"6\", \"7\", \"8\", \"24\"]:\n",
        "            label = 0\n",
        "        elif number in [\"9\", \"10\", \"11\", \"13\", \"14\", \"15\", \"23\"]:\n",
        "            label = 1\n",
        "        elif number in [\"16\", \"17\", \"18\", \"19\", \"20\", \"21\", \"22\"]:\n",
        "            label = 2\n",
        "        else:\n",
        "            label = 3\n",
        "    elif ck == \"CK21\" or ck == \"CK22\":\n",
        "        if number in [\"02\", \"03\", \"04\", \"05\", \"06\", \"07\", \"08\", \"09\", \"10\", \"11\"]:\n",
        "            label = 0\n",
        "        elif int(number) in range(14, 24):\n",
        "            label = 2\n",
        "        else:\n",
        "            label = 3\n",
        "        #if label != 3 and letter in [\"H\", \"P\"]:\n",
        "        #    DMSO.append(len(labels))\n",
        "    else:\n",
        "        print(\"No CK found\")\n",
        "        return False\n",
        "\n",
        "    return label\n",
        "  \n",
        "def unishuffle(a, b):\n",
        "    assert len(a) == len(b)\n",
        "    p = np.random.permutation(len(a))\n",
        "    return a[p], b[p]"
      ],
      "execution_count": 0,
      "outputs": []
    },
    {
      "cell_type": "code",
      "metadata": {
        "id": "4HuJqbH3kFi0",
        "colab_type": "code",
        "colab": {}
      },
      "source": [
        "def show_image(img, title=\"untitled\", cmap=\"gray\", **kwargs):\n",
        "    try:\n",
        "        plt.imshow(img, cmap=cmap, **kwargs)\n",
        "    except:\n",
        "        plt.imshow(img[:, :, 0], cmap=cmap, **kwargs)\n",
        "    plt.axis(\"off\")\n",
        "    plt.title(title)\n",
        "\n",
        "def reshape(img, w=imw, h=imh, c=c):\n",
        "    if c > 1:\n",
        "      return np.reshape(img, (w, h, c))\n",
        "    else:\n",
        "      return np.reshape(img, (w, h))"
      ],
      "execution_count": 0,
      "outputs": []
    },
    {
      "cell_type": "code",
      "metadata": {
        "id": "XUhbBOVwvalJ",
        "colab_type": "code",
        "colab": {}
      },
      "source": [
        "def convert_to_binary(a):\n",
        "    val = np.unique(a)[1]\n",
        "    above_threshold = a >= val \n",
        "    under_threshold = a < val\n",
        "    a[above_threshold] = 1\n",
        "    a[under_threshold] = 0\n",
        "    return a.astype(np.uint8).reshape(192,192)\n",
        "\n",
        "def get_mask(img):\n",
        "    criteria = (cv2.TERM_CRITERIA_EPS + cv2.TERM_CRITERIA_MAX_ITER, 10, 1.0)\n",
        "    _,label,center = cv2.kmeans(img.reshape(np.prod(img.shape), 1),2,None,criteria,10,cv2.KMEANS_RANDOM_CENTERS)\n",
        "    return convert_to_binary(center[label])\n",
        "\n",
        "def threshold(x):\n",
        "    mask = np.copy(x)\n",
        "    mask = mask.ravel()\n",
        "    above_threshold = mask > x.mean()+x.std()\n",
        "    under_threshold = mask <= x.mean() + x.std()\n",
        "    mask[above_threshold] = 1\n",
        "    mask[under_threshold] = 0\n",
        "    return mask.reshape((x.shape))"
      ],
      "execution_count": 0,
      "outputs": []
    },
    {
      "cell_type": "code",
      "metadata": {
        "id": "XGRcykjBbMvs",
        "colab_type": "code",
        "colab": {}
      },
      "source": [
        "def plot_range(imgs, rn=8):\n",
        "  fig = plt.figure(figsize=(15, 15))\n",
        "  for i in range(1, 6):\n",
        "    ax = fig.add_subplot(1, 5, i)\n",
        "    plt.imshow(imgs[i+rn])\n",
        "    ax.axis('off')"
      ],
      "execution_count": 0,
      "outputs": []
    },
    {
      "cell_type": "markdown",
      "metadata": {
        "id": "oQx4s9L9Oi-6",
        "colab_type": "text"
      },
      "source": [
        "### Comparing performance of cv2 k-means vs. sklearn k means"
      ]
    },
    {
      "cell_type": "code",
      "metadata": {
        "id": "PKJONm-kPWzI",
        "colab_type": "code",
        "colab": {}
      },
      "source": [
        "def cv2_kmeans(img):\n",
        "    criteria = (cv2.TERM_CRITERIA_EPS + cv2.TERM_CRITERIA_MAX_ITER, 10, 1.0)\n",
        "    _,label,center = cv2.kmeans(img.reshape(np.prod(img.shape), 1),2,None,criteria,10,cv2.KMEANS_RANDOM_CENTERS)\n",
        "    cv_res = center[label]\n",
        "    cv_img = res.reshape((img.shape))"
      ],
      "execution_count": 0,
      "outputs": []
    },
    {
      "cell_type": "code",
      "metadata": {
        "id": "xxSMNvd6TNTl",
        "colab_type": "code",
        "colab": {}
      },
      "source": [
        "def sk_kmeans(img):\n",
        "    kmeans = KMeans(2).fit(img.reshape(np.prod(img.shape), 1))\n",
        "    sk_res = kmeans.cluster_centers_[kmeans.labels_]\n",
        "    sk_img = res.reshape((img.shape))"
      ],
      "execution_count": 0,
      "outputs": []
    },
    {
      "cell_type": "code",
      "metadata": {
        "id": "rO4ZhZ2rTKHb",
        "colab_type": "code",
        "outputId": "e75cd500-4ce4-4b75-c55a-d09a8ef0fd76",
        "colab": {
          "base_uri": "https://localhost:8080/",
          "height": 52
        }
      },
      "source": [
        "%%time\n",
        "for i in range(500, 1000):\n",
        "    cv2_kmeans(minmax(X[i]))"
      ],
      "execution_count": 0,
      "outputs": [
        {
          "output_type": "stream",
          "text": [
            "CPU times: user 20.6 s, sys: 11.9 ms, total: 20.6 s\n",
            "Wall time: 5.19 s\n"
          ],
          "name": "stdout"
        }
      ]
    },
    {
      "cell_type": "code",
      "metadata": {
        "id": "WTXkXuRxRPyH",
        "colab_type": "code",
        "outputId": "76362dd6-bc79-41d2-e182-0cc8784143d6",
        "colab": {
          "base_uri": "https://localhost:8080/",
          "height": 52
        }
      },
      "source": [
        "%%time\n",
        "for i in range(500, 1000):\n",
        "    sk_kmeans(minmax(X[i]))"
      ],
      "execution_count": 0,
      "outputs": [
        {
          "output_type": "stream",
          "text": [
            "CPU times: user 1min 3s, sys: 504 ms, total: 1min 3s\n",
            "Wall time: 1min 3s\n"
          ],
          "name": "stdout"
        }
      ]
    },
    {
      "cell_type": "code",
      "metadata": {
        "id": "mdNiDfG4Tfvb",
        "colab_type": "code",
        "outputId": "c84ed56b-1418-4ec0-bb0a-69dbcc34c64a",
        "colab": {
          "base_uri": "https://localhost:8080/",
          "height": 264
        }
      },
      "source": [
        "show_image(img, \"Original image\")"
      ],
      "execution_count": 0,
      "outputs": [
        {
          "output_type": "display_data",
          "data": {
            "image/png": "[encoded data removed]",
            "text/plain": [
              "<Figure size 432x288 with 1 Axes>"
            ]
          },
          "metadata": {
            "tags": []
          }
        }
      ]
    },
    {
      "cell_type": "code",
      "metadata": {
        "colab_type": "code",
        "outputId": "1fa6609f-6230-4cc2-e4b2-10cf85b5a1a7",
        "id": "4sXXkjqKTc95",
        "colab": {
          "base_uri": "https://localhost:8080/",
          "height": 264
        }
      },
      "source": [
        "show_image(sk_img, \"Image segmented with sklearn\")"
      ],
      "execution_count": 0,
      "outputs": [
        {
          "output_type": "display_data",
          "data": {
            "image/png": "[encoded data removed]",
            "text/plain": [
              "<Figure size 432x288 with 1 Axes>"
            ]
          },
          "metadata": {
            "tags": []
          }
        }
      ]
    },
    {
      "cell_type": "code",
      "metadata": {
        "id": "3me3p721TehU",
        "colab_type": "code",
        "outputId": "58e12f2b-1c59-4400-a32e-1ed2fcc05963",
        "colab": {
          "base_uri": "https://localhost:8080/",
          "height": 264
        }
      },
      "source": [
        "show_image(cv_img, \"Image segmented with OpenCV\")"
      ],
      "execution_count": 0,
      "outputs": [
        {
          "output_type": "display_data",
          "data": {
            "image/png": "[encoded data removed]",
            "text/plain": [
              "<Figure size 432x288 with 1 Axes>"
            ]
          },
          "metadata": {
            "tags": []
          }
        }
      ]
    },
    {
      "cell_type": "code",
      "metadata": {
        "id": "iBpt_Gr3Ttz4",
        "colab_type": "code",
        "outputId": "fd1c7be1-f16f-4fec-d4e6-cdc6ad4f967f",
        "colab": {
          "base_uri": "https://localhost:8080/",
          "height": 34
        }
      },
      "source": [
        "False in (sk_img == cv_img)"
      ],
      "execution_count": 0,
      "outputs": [
        {
          "output_type": "execute_result",
          "data": {
            "text/plain": [
              "False"
            ]
          },
          "metadata": {
            "tags": []
          },
          "execution_count": 47
        }
      ]
    },
    {
      "cell_type": "markdown",
      "metadata": {
        "id": "aqhu6S5qXiHt",
        "colab_type": "text"
      },
      "source": [
        "### Comparing performance of thresholding vs. k-means"
      ]
    },
    {
      "cell_type": "code",
      "metadata": {
        "id": "PelqeZiwYCdy",
        "colab_type": "code",
        "colab": {}
      },
      "source": [
        "def threshold(x):\n",
        "    mask = np.copy(x)\n",
        "    mask = mask.ravel()\n",
        "    above_threshold = mask > x.mean()+x.std()\n",
        "    under_threshold = mask <= x.mean() + x.std()\n",
        "    mask[above_threshold] = 1\n",
        "    mask[under_threshold] = 0\n",
        "    return mask.reshape((x.shape))"
      ],
      "execution_count": 0,
      "outputs": []
    },
    {
      "cell_type": "code",
      "metadata": {
        "id": "73UnKiKEYrZI",
        "colab_type": "code",
        "outputId": "c5735c4f-7317-4321-91ed-7805bcdf43a4",
        "colab": {
          "base_uri": "https://localhost:8080/",
          "height": 52
        }
      },
      "source": [
        "%%time\n",
        "for i in range(500, 1000):\n",
        "    threshold(minmax(X[i]))"
      ],
      "execution_count": 0,
      "outputs": [
        {
          "output_type": "stream",
          "text": [
            "CPU times: user 180 ms, sys: 2 µs, total: 180 ms\n",
            "Wall time: 181 ms\n"
          ],
          "name": "stdout"
        }
      ]
    },
    {
      "cell_type": "code",
      "metadata": {
        "id": "0uXn4l2fbe68",
        "colab_type": "code",
        "outputId": "7f29c145-00f9-46d3-8799-763a0e10a17f",
        "colab": {
          "base_uri": "https://localhost:8080/",
          "height": 52
        }
      },
      "source": [
        "%%time\n",
        "for i in range(500, 1000):\n",
        "    get_mask(minmax(X[i]))"
      ],
      "execution_count": 0,
      "outputs": [
        {
          "output_type": "stream",
          "text": [
            "CPU times: user 21 s, sys: 37.7 ms, total: 21 s\n",
            "Wall time: 5.49 s\n"
          ],
          "name": "stdout"
        }
      ]
    },
    {
      "cell_type": "code",
      "metadata": {
        "id": "pQfUfEtWYMcS",
        "colab_type": "code",
        "outputId": "0e8792b3-4c4a-4686-b8ba-f4b473e22020",
        "colab": {
          "base_uri": "https://localhost:8080/",
          "height": 264
        }
      },
      "source": [
        "show_image(threshold(img), \"Image segmentation with thresholding\")"
      ],
      "execution_count": 0,
      "outputs": [
        {
          "output_type": "display_data",
          "data": {
            "image/png": "[encoded data removed]",
            "text/plain": [
              "<Figure size 432x288 with 1 Axes>"
            ]
          },
          "metadata": {
            "tags": []
          }
        }
      ]
    },
    {
      "cell_type": "code",
      "metadata": {
        "id": "bme91gomb8EL",
        "colab_type": "code",
        "outputId": "c0cae239-019e-494f-9c65-65bce356fe8e",
        "colab": {
          "base_uri": "https://localhost:8080/",
          "height": 264
        }
      },
      "source": [
        "show_image(threshold(img)-get_mask(img), \"Difference between CV2 and thresholding seg.\")"
      ],
      "execution_count": 0,
      "outputs": [
        {
          "output_type": "display_data",
          "data": {
            "image/png": "[encoded data removed]",
            "text/plain": [
              "<Figure size 432x288 with 1 Axes>"
            ]
          },
          "metadata": {
            "tags": []
          }
        }
      ]
    },
    {
      "cell_type": "markdown",
      "metadata": {
        "id": "p8660RqEx45b",
        "colab_type": "text"
      },
      "source": [
        "## Helper functions for evaluating model"
      ]
    },
    {
      "cell_type": "code",
      "metadata": {
        "id": "EHnd4VOZIh_7",
        "colab_type": "code",
        "colab": {}
      },
      "source": [
        "def plot_clusters(X, y, labels=[\"Unstimulated\", \"OVA\", \"ConA\", \"Faulty\"]):\n",
        "    targets = range(len(labels))\n",
        "    palette = np.array(sns.color_palette(\"hls\", len(labels)))\n",
        "\n",
        "    y = np.array(y)\n",
        "\n",
        "    fig = plt.figure()\n",
        "    ax = plt.subplot()\n",
        "\n",
        "    for target, color, label in zip(targets, palette, labels):\n",
        "        plt.scatter(X[y==target, 0], X[y==target, 1], c=[color], label=label, alpha=0.75, s=10)\n",
        "\n",
        "    ax.axis('off')\n",
        "    ax.grid(False)\n",
        "\n",
        "    box = ax.get_position()\n",
        "    ax.set_position([box.x0, box.y0, box.width * 0.8, box.height])\n",
        "\n",
        "    ax.legend(loc='center left', bbox_to_anchor=(1, 0.5))\n",
        "\n",
        "    plt.show()"
      ],
      "execution_count": 0,
      "outputs": []
    },
    {
      "cell_type": "markdown",
      "metadata": {
        "id": "YjhO9inRjXG-",
        "colab_type": "text"
      },
      "source": [
        "## Read images"
      ]
    },
    {
      "cell_type": "code",
      "metadata": {
        "id": "IaCKUKGFjXHB",
        "colab_type": "code",
        "colab": {}
      },
      "source": [
        "npzfile = np.load('/content/gdrive/My Drive/l4_dataset/dmso_unmodified.npz')"
      ],
      "execution_count": 0,
      "outputs": []
    },
    {
      "cell_type": "code",
      "metadata": {
        "id": "R4_Jw0bPjXHQ",
        "colab_type": "code",
        "colab": {}
      },
      "source": [
        "y = npzfile['y']"
      ],
      "execution_count": 0,
      "outputs": []
    },
    {
      "cell_type": "code",
      "metadata": {
        "id": "zHEB0OHLa_j2",
        "colab_type": "code",
        "colab": {}
      },
      "source": [
        "y_dmso = np.array([get_label(i) for i in y])"
      ],
      "execution_count": 0,
      "outputs": []
    },
    {
      "cell_type": "code",
      "metadata": {
        "id": "kT-C7nBRJpiP",
        "colab_type": "code",
        "colab": {}
      },
      "source": [
        "X = npzfile['x']"
      ],
      "execution_count": 0,
      "outputs": []
    },
    {
      "cell_type": "markdown",
      "metadata": {
        "id": "HgJ3XAzYO2W3",
        "colab_type": "text"
      },
      "source": [
        "## Process images into dataset"
      ]
    },
    {
      "cell_type": "code",
      "metadata": {
        "id": "tfbt0OuYwkJW",
        "colab_type": "code",
        "colab": {}
      },
      "source": [
        "def preprocess(data, labels, mask=False):\n",
        "  # avoid changing the dataset directly\n",
        "  data = np.copy(data)\n",
        "\n",
        "  # initialise arrays for filling in\n",
        "  x_data = np.ndarray(shape=(len(data)//2, 192, 192, 3))\n",
        "  y_data = np.ndarray(shape=(len(data)//2))\n",
        "\n",
        "  # initialise index values\n",
        "  idx = 0\n",
        "  i = 0\n",
        "\n",
        "  # loop through images and process \n",
        "  while idx < (len(data)):\n",
        "    # ignore 100, 300, etc. values as they will already have been processed \n",
        "    if (idx % 100 == 0) and (idx % 200 != 0):\n",
        "      idx += 100\n",
        "    else:\n",
        "        # if the image is \"faulty\" we cannot low_clip and apply minmax -> NaN\n",
        "        if is_faulty(data[idx]) or is_faulty(data[idx+100]):\n",
        "            tcell = minmax(data[idx])\n",
        "            dcell = minmax(data[idx+100])\n",
        "            y_data[i] = 3\n",
        "        else:\n",
        "            tcell = minmax(low_clip(data[idx]))\n",
        "            dcell = minmax(low_clip(data[idx+100]))\n",
        "            y_data[i] = labels[idx]\n",
        "        \n",
        "        # mask out the background\n",
        "        if mask:\n",
        "          x_data[i, ..., 0] = dcell*get_mask(dcell) # red-coloured\n",
        "          x_data[i, ..., 1] = tcell*get_mask(tcell) # green-coloured\n",
        "        else:\n",
        "          x_data[i, :, :, 0] = dcell\n",
        "          x_data[i, :, :, 1] = tcell\n",
        "        idx+=1\n",
        "        i+=1\n",
        "\n",
        "        # try and save memory \n",
        "        tcell = None\n",
        "        dcell = None\n",
        "  \n",
        "  print('Images preprocessed. Size of dataset: {}'.format(len(x_data)))\n",
        "  return x_data, y_data"
      ],
      "execution_count": 0,
      "outputs": []
    },
    {
      "cell_type": "code",
      "metadata": {
        "id": "UotQse_XhKr1",
        "colab_type": "code",
        "outputId": "c3f4e725-ca18-4a24-e495-c6019ddb24c8",
        "colab": {
          "base_uri": "https://localhost:8080/",
          "height": 34
        }
      },
      "source": [
        "x_combined, y_combined = preprocess(X, y_dmso)"
      ],
      "execution_count": 0,
      "outputs": [
        {
          "output_type": "stream",
          "text": [
            "Images preprocessed. Size of dataset: 9800\n"
          ],
          "name": "stdout"
        }
      ]
    },
    {
      "cell_type": "code",
      "metadata": {
        "id": "P-3v_zSn4QdH",
        "colab_type": "code",
        "colab": {}
      },
      "source": [
        "X, y_dmso = None, None"
      ],
      "execution_count": 0,
      "outputs": []
    },
    {
      "cell_type": "code",
      "metadata": {
        "id": "BfT_xMuIJ04m",
        "colab_type": "code",
        "outputId": "2e5b1cfd-7f04-47ae-80d3-356012c880fc",
        "colab": {
          "base_uri": "https://localhost:8080/",
          "height": 34
        }
      },
      "source": [
        "x_masked, y_masked = preprocess(X, y_dmso, mask=True)       "
      ],
      "execution_count": 0,
      "outputs": [
        {
          "output_type": "stream",
          "text": [
            "Images preprocessed. Size of dataset: 9800\n"
          ],
          "name": "stdout"
        }
      ]
    },
    {
      "cell_type": "code",
      "metadata": {
        "id": "6LHKrJsd4M2m",
        "colab_type": "code",
        "colab": {}
      },
      "source": [
        "x_masked, y_masked = None, None"
      ],
      "execution_count": 0,
      "outputs": []
    },
    {
      "cell_type": "code",
      "metadata": {
        "id": "au4BlEy8PzAR",
        "colab_type": "code",
        "colab": {}
      },
      "source": [
        "x_train, y_train = unishuffle(x_combined, y_combined)"
      ],
      "execution_count": 0,
      "outputs": []
    },
    {
      "cell_type": "markdown",
      "metadata": {
        "id": "tixqr5NsKPMJ",
        "colab_type": "text"
      },
      "source": [
        "## Autoencoder model"
      ]
    },
    {
      "cell_type": "code",
      "metadata": {
        "id": "9k61cPfFP1dG",
        "colab_type": "code",
        "colab": {}
      },
      "source": [
        "decoder, encoder = make_autoencoder()"
      ],
      "execution_count": 0,
      "outputs": []
    },
    {
      "cell_type": "code",
      "metadata": {
        "id": "h7QHJbcqnKDB",
        "colab_type": "code",
        "colab": {}
      },
      "source": [
        "train(decoder, x_train)"
      ],
      "execution_count": 0,
      "outputs": []
    },
    {
      "cell_type": "code",
      "metadata": {
        "id": "CLcpmiirvM1e",
        "colab_type": "code",
        "colab": {}
      },
      "source": [
        "decoder.save(\"/content/gdrive/My Drive/l4_dataset/decoder_weights.h5\")"
      ],
      "execution_count": 0,
      "outputs": []
    },
    {
      "cell_type": "code",
      "metadata": {
        "id": "libHZKV1vb4l",
        "colab_type": "code",
        "colab": {}
      },
      "source": [
        "encoder.save(\"/content/gdrive/My Drive/l4_dataset/encoder_weights.h5\")"
      ],
      "execution_count": 0,
      "outputs": []
    },
    {
      "cell_type": "markdown",
      "metadata": {
        "id": "CNwBx5MXIoK9",
        "colab_type": "text"
      },
      "source": [
        "## High dimensional visualisation to GIF"
      ]
    },
    {
      "cell_type": "code",
      "metadata": {
        "id": "nwdrew35Iqt0",
        "colab_type": "code",
        "colab": {}
      },
      "source": [
        "# monkey patch gradient descent \n",
        "import sklearn\n",
        "\n",
        "positions = []\n",
        "\n",
        "def _gradient_descent(objective, p0, it, n_iter,\n",
        "                      n_iter_check=1, n_iter_without_progress=300,\n",
        "                      momentum=0.8, learning_rate=200.0, min_gain=0.01,\n",
        "                      min_grad_norm=1e-7, verbose=0, args=None, kwargs=None):\n",
        "\n",
        "    if args is None:\n",
        "        args = []\n",
        "    if kwargs is None:\n",
        "        kwargs = {}\n",
        "\n",
        "    p = p0.copy().ravel()\n",
        "    update = np.zeros_like(p)\n",
        "    gains = np.ones_like(p)\n",
        "    error = np.finfo(np.float).max\n",
        "    best_error = np.finfo(np.float).max\n",
        "    best_iter = i = it\n",
        "\n",
        "    for i in range(it, n_iter):\n",
        "        positions.append(p.copy())\n",
        "        \n",
        "        check_convergence = (i + 1) % n_iter_check == 0\n",
        "        # only compute the error when needed\n",
        "        kwargs['compute_error'] = check_convergence or i == n_iter - 1\n",
        "\n",
        "        error, grad = objective(p, *args, **kwargs)\n",
        "        grad_norm = linalg.norm(grad)\n",
        "\n",
        "        inc = update * grad < 0.0\n",
        "        dec = np.invert(inc)\n",
        "        gains[inc] += 0.2\n",
        "        gains[dec] *= 0.8\n",
        "        np.clip(gains, min_gain, np.inf, out=gains)\n",
        "        grad *= gains\n",
        "        update = momentum * update - learning_rate * grad\n",
        "        p += update\n",
        "\n",
        "        if check_convergence:\n",
        "\n",
        "            if verbose >= 2:\n",
        "                print(\"[t-SNE] Iteration %d: error = %.7f,\"\n",
        "                      \" gradient norm = %.7f\"\n",
        "                      \" (%s iterations in %0.3fs)\"\n",
        "                      % (i + 1, error, grad_norm, n_iter_check, duration))\n",
        "\n",
        "            if error < best_error:\n",
        "                best_error = error\n",
        "                best_iter = i\n",
        "            elif i - best_iter > n_iter_without_progress:\n",
        "                if verbose >= 2:\n",
        "                    print(\"[t-SNE] Iteration %d: did not make any progress \"\n",
        "                          \"during the last %d episodes. Finished.\"\n",
        "                          % (i + 1, n_iter_without_progress))\n",
        "                break\n",
        "            if grad_norm <= min_grad_norm:\n",
        "                if verbose >= 2:\n",
        "                    print(\"[t-SNE] Iteration %d: gradient norm %f. Finished.\"\n",
        "                          % (i + 1, grad_norm))\n",
        "                break\n",
        "\n",
        "    return p, error, i\n",
        "\n",
        "sklearn.manifold.t_sne._gradient_descent = _gradient_descent"
      ],
      "execution_count": 0,
      "outputs": []
    },
    {
      "cell_type": "code",
      "metadata": {
        "id": "qbIsnEnIJPPo",
        "colab_type": "code",
        "colab": {}
      },
      "source": [
        "def scatter_gif(x, colors, labels=[\"Unstimulated\", \"OVA\", \"ConA\"]):\n",
        "    palette = np.array(sns.color_palette(\"hls\", len(labels)))\n",
        "    colors = np.array(colors)\n",
        "    \n",
        "    f = plt.figure(figsize=(8,8))\n",
        "    ax = plt.subplot()\n",
        "    \n",
        "    sc = ax.scatter(x[:,0], x[:,1], lw=0, s=40,\n",
        "                    c=palette[colors.astype(np.int)])\n",
        "    \n",
        "    plt.xlim(-25, 25)\n",
        "    plt.ylim(-25, 25)\n",
        "    ax.axis('off')\n",
        "    ax.axis('tight')\n",
        "\n",
        "    return f, sc"
      ],
      "execution_count": 0,
      "outputs": []
    },
    {
      "cell_type": "code",
      "metadata": {
        "id": "0HoCPeAnJSfE",
        "colab_type": "code",
        "colab": {}
      },
      "source": [
        "from scipy import linalg\n",
        "\n",
        "from moviepy.video.io.bindings import mplfig_to_npimage\n",
        "import moviepy.editor as mpy"
      ],
      "execution_count": 0,
      "outputs": []
    },
    {
      "cell_type": "code",
      "metadata": {
        "id": "DTJC9WNdJV3s",
        "colab_type": "code",
        "colab": {}
      },
      "source": [
        "def make_gif(out, x, y, labels=[\"Unstimulated\", \"OVA\", \"ConA\"]):\n",
        "    def make_frame_mpl(t):\n",
        "        i = int(t*40)\n",
        "        x = X_iter[..., i]\n",
        "        sc.set_offsets(x)\n",
        "        return mplfig_to_npimage(f)\n",
        "\n",
        "    X_proj = TSNE(random_state=RS).fit_transform(x)\n",
        "    X_iter = np.dstack(position.reshape(-1, 2) for position in positions)\n",
        "    \n",
        "    f, sc = scatter_gif(X_iter[..., -1], y, labels=labels)\n",
        "    \n",
        "    animation = mpy.VideoClip(make_frame_mpl,\n",
        "                          duration=X_iter.shape[2]/40.)\n",
        "    animation.write_gif(out, fps=20)"
      ],
      "execution_count": 0,
      "outputs": []
    },
    {
      "cell_type": "code",
      "metadata": {
        "id": "06sbgcegJYKO",
        "colab_type": "code",
        "colab": {}
      },
      "source": [
        "make_gif('/content/gdrive/My Drive/l4_dataset/cluster_combined_1.gif', encoded, y_combined)\n"
      ],
      "execution_count": 0,
      "outputs": []
    }
  ]
}