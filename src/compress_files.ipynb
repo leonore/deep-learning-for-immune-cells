{
 "cells": [
  {
   "cell_type": "code",
   "execution_count": 1,
   "metadata": {},
   "outputs": [],
   "source": [
    "from dataset_helpers import read_folder_filenames, is_dmso\n",
    "from dataset_helpers import preprocess, sliding_window, get_label\n",
    "\n",
    "from skimage.io import imread\n",
    "import os\n",
    "import numpy as np\n",
    "\n",
    "%matplotlib inline\n",
    "RS = 2211"
   ]
  },
  {
   "cell_type": "markdown",
   "metadata": {},
   "source": [
    "### Loading filenames"
   ]
  },
  {
   "cell_type": "code",
   "execution_count": 2,
   "metadata": {},
   "outputs": [],
   "source": [
    "## change this if going into a different hard drive\n",
    "folder = '/Volumes/TARDIS/'"
   ]
  },
  {
   "cell_type": "code",
   "execution_count": 3,
   "metadata": {},
   "outputs": [],
   "source": [
    "all_filenames = []\n",
    "for ck in [\"CK19\", \"CK21\", \"CK22\"]:\n",
    "    all_filenames.extend(read_folder_filenames(folder+ck))\n",
    "all_filenames = sorted(all_filenames)"
   ]
  },
  {
   "cell_type": "code",
   "execution_count": 4,
   "metadata": {},
   "outputs": [],
   "source": [
    "dmso_files = []\n",
    "for file in all_filenames:\n",
    "    if is_dmso(file):\n",
    "        dmso_files.append(file)"
   ]
  },
  {
   "cell_type": "code",
   "execution_count": 5,
   "metadata": {},
   "outputs": [],
   "source": [
    "CK19_files = sorted(read_folder_filenames(folder+\"CK19\"))\n",
    "CK21_files = sorted(read_folder_filenames(folder+\"CK21\"))\n",
    "CK22_files = sorted(read_folder_filenames(folder+\"CK22\"))"
   ]
  },
  {
   "cell_type": "markdown",
   "metadata": {},
   "source": [
    "### Take into consideration before running:\n",
    "* after passing a sliding window over 900 files of size 2048x2048 for a 192x192 window you will get about ~100,000 images\n",
    "* there are much less DMSO images.\n",
    "* but this is about the size of each of the CK19, CK21, CK22 folders.\n"
   ]
  },
  {
   "cell_type": "code",
   "execution_count": 6,
   "metadata": {},
   "outputs": [],
   "source": [
    "def compress_combine_images(out, filenames, size):\n",
    "    \"\"\"\n",
    "    returns:\n",
    "    a npz file of:\n",
    "     - image arrays in shape (size, size, 3)\n",
    "        * channel R/0 = dendritic cell (red)\n",
    "        * channel G/1 = t-cell (green)\n",
    "        * channel B/2 = empty (0s)\n",
    "     - filenames (unmodified)\n",
    "    \n",
    "        \n",
    "    @parameters:\n",
    "    out = name of the outputted compressed file\n",
    "    filenames = all filenames of files to compress\n",
    "    size = size of output images \n",
    "    \n",
    "    \n",
    "    @assumptions:\n",
    "    * validity of filenames has been checked\n",
    "    \"\"\"\n",
    "    \n",
    "    compressed = []\n",
    "    fn = []\n",
    "    idx = 0 \n",
    "    while idx < len(filenames):\n",
    "        tcell = imread(filenames[idx])\n",
    "        dcell = imread(filenames[idx+1])\n",
    "        img = np.ndarray(shape=(tcell.shape[0], tcell.shape[1], 3))\n",
    "        img[:,:,0] = dcell\n",
    "        img[:,:,1] = tcell\n",
    "        windows = sliding_window(img, size, rgb=True)\n",
    "        for img in windows:\n",
    "            compressed.append(img)\n",
    "            fn.append(filenames[idx])\n",
    "            \n",
    "    compressed = np.array(compressed)\n",
    "    fn = np.array(fn)\n",
    "    np.savez(out, x=compressed, y=fn)\n",
    "    \n",
    "    print(\"All images combined and compressed into %s\" % out)\n",
    "    "
   ]
  },
  {
   "cell_type": "code",
   "execution_count": null,
   "metadata": {},
   "outputs": [],
   "source": [
    "compress_combine_images(\"/Users/Leonore/Desktop/dmso_full.npz\", dmso_files, 192)"
   ]
  },
  {
   "cell_type": "code",
   "execution_count": 1,
   "metadata": {},
   "outputs": [],
   "source": [
    "def compress_images(out, filenames, size):\n",
    "    \"\"\"\n",
    "    returns:\n",
    "    a npz file of:\n",
    "     - image arrays in shape (size, size, 1)\n",
    "     - filenames (unmodified)\n",
    "    \n",
    "    @parameters:\n",
    "    out = name of the outputted compressed file\n",
    "    filenames = all filenames of files to compress\n",
    "    size = size of output images \n",
    "    \n",
    "    \n",
    "    @assumptions:\n",
    "    * validity of filenames has been checked\n",
    "    \"\"\"\n",
    "    \n",
    "    compressed = []\n",
    "    fn = [] # right now for double checking would prefer to get label afterwards\n",
    "    \n",
    "    for file in filenames:\n",
    "        img = imread(file)\n",
    "        windows = sliding_window(img, size)\n",
    "        for img in windows:\n",
    "            new_img = img#preprocess(img)\n",
    "            compressed.append(new_img)\n",
    "            fn.append(file)\n",
    "    \n",
    "    compressed = np.array(compressed)\n",
    "    fn = np.array(fn)\n",
    "    np.savez(out, x=compressed, y=fn)\n",
    "    \n",
    "    print(\"All files compressed into %s\" % out)"
   ]
  },
  {
   "cell_type": "code",
   "execution_count": 6,
   "metadata": {},
   "outputs": [
    {
     "name": "stdout",
     "output_type": "stream",
     "text": [
      "All files compressed into /Volumes/TARDIS/dmso_unmodified.npz\n"
     ]
    }
   ],
   "source": [
    "compress_images(\"/Volumes/TARDIS/dmso_unmodified.npz\", dmso_files, 192)"
   ]
  },
  {
   "cell_type": "code",
   "execution_count": 31,
   "metadata": {},
   "outputs": [],
   "source": [
    "np.savez(\"test.npz\", x=\"xcontent\", y=\"ycontent\")"
   ]
  },
  {
   "cell_type": "code",
   "execution_count": 10,
   "metadata": {},
   "outputs": [],
   "source": [
    "npzfile = np.load('/Users/Leonore/Desktop/dmso_unmodified.npz')"
   ]
  },
  {
   "cell_type": "code",
   "execution_count": 11,
   "metadata": {},
   "outputs": [],
   "source": [
    "files = npzfile[\"y\"]"
   ]
  }
 ],
 "metadata": {
  "kernelspec": {
   "display_name": "ml",
   "language": "python",
   "name": "ml"
  },
  "language_info": {
   "codemirror_mode": {
    "name": "ipython",
    "version": 3
   },
   "file_extension": ".py",
   "mimetype": "text/x-python",
   "name": "python",
   "nbconvert_exporter": "python",
   "pygments_lexer": "ipython3",
   "version": "3.6.4"
  }
 },
 "nbformat": 4,
 "nbformat_minor": 2
}
