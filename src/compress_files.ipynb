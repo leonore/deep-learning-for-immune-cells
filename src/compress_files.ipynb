{
 "cells": [
  {
   "cell_type": "code",
   "execution_count": 1,
   "metadata": {},
   "outputs": [],
   "source": [
    "from dataset_helpers import read_folder_filenames, is_dmso\n",
    "from dataset_helpers import preprocess, sliding_window, get_label\n",
    "\n",
    "from skimage.io import imread\n",
    "import os\n",
    "import numpy as np\n",
    "\n",
    "%matplotlib inline\n",
    "RS = 2211"
   ]
  },
  {
   "cell_type": "markdown",
   "metadata": {},
   "source": [
    "### Loading filenames"
   ]
  },
  {
   "cell_type": "code",
   "execution_count": 2,
   "metadata": {},
   "outputs": [],
   "source": [
    "## change this if going into a different hard drive\n",
    "folder = '/Volumes/VERBATIM/'"
   ]
  },
  {
   "cell_type": "code",
   "execution_count": 3,
   "metadata": {},
   "outputs": [],
   "source": [
    "all_filenames = []\n",
    "for ck in [\"CK19\", \"CK21\", \"CK22\"]:\n",
    "    all_filenames.extend(read_folder_filenames(folder+ck))\n",
    "all_filenames = sorted(all_filenames)"
   ]
  },
  {
   "cell_type": "code",
   "execution_count": 14,
   "metadata": {},
   "outputs": [],
   "source": [
    "dmso_files = []\n",
    "for file in all_filenames:\n",
    "    if is_dmso(file):\n",
    "        dmso_files.append(file)"
   ]
  },
  {
   "cell_type": "code",
   "execution_count": 4,
   "metadata": {},
   "outputs": [],
   "source": [
    "CK19_files = sorted(read_folder_filenames(folder+\"CK19\"))\n",
    "CK21_files = sorted(read_folder_filenames(folder+\"CK21\"))\n",
    "CK22_files = sorted(read_folder_filenames(folder+\"CK22\"))"
   ]
  },
  {
   "cell_type": "markdown",
   "metadata": {},
   "source": [
    "### Take into consideration before running:\n",
    "* after passing a sliding window over 900 files of size 2048x2048 for a 192x192 window you will get about ~100,000 images\n",
    "* there are much less DMSO images.\n",
    "* but this is about the size of each of the CK19, CK21, CK22 folders.\n"
   ]
  },
  {
   "cell_type": "code",
   "execution_count": 12,
   "metadata": {},
   "outputs": [],
   "source": [
    "def compress_images(out, filenames, size):\n",
    "    \"\"\"\n",
    "    @parameters:\n",
    "    out = name of the outputted compressed file\n",
    "    filenames = all filenames of files to compress\n",
    "    size = size of output images \n",
    "    x = **variable name** for keyword for x output\n",
    "    y = **variable name** for keyword for y output\n",
    "    \n",
    "    \n",
    "    @assumptions:\n",
    "    * validity of filenames has been checked\n",
    "    \"\"\"\n",
    "    \n",
    "    compressed = []\n",
    "    filenames = [] # right now for double checking would prefer to get label afterwards\n",
    "    \n",
    "    for file in filenames:\n",
    "        img = imread(file)\n",
    "        windows = sliding_window(img, size)\n",
    "        for img in windows:\n",
    "            new_img = preprocess(img)\n",
    "            compressed.append(new_img)\n",
    "            filenames.append(file)\n",
    "    \n",
    "    compressed = np.array(compressed)\n",
    "    filenames = np.array(filenames)\n",
    "    np.savez(out, x=compressed, y=filenames)\n",
    "    \n",
    "    print(\"All files compressed into %s\" % out)"
   ]
  },
  {
   "cell_type": "code",
   "execution_count": 13,
   "metadata": {},
   "outputs": [
    {
     "name": "stdout",
     "output_type": "stream",
     "text": [
      "All files compressed into /Volumes/VERBATIM/dmso_compressed.npz\n"
     ]
    }
   ],
   "source": [
    "compress_images(folder+\"dmso_compressed.npz\", dmso_files, 192)"
   ]
  },
  {
   "cell_type": "code",
   "execution_count": 31,
   "metadata": {},
   "outputs": [],
   "source": [
    "np.savez(\"test.npz\", x=\"xcontent\", y=\"ycontent\")"
   ]
  },
  {
   "cell_type": "code",
   "execution_count": 32,
   "metadata": {},
   "outputs": [],
   "source": [
    "npzfile = np.load('test.npz')"
   ]
  },
  {
   "cell_type": "code",
   "execution_count": 33,
   "metadata": {},
   "outputs": [
    {
     "data": {
      "text/plain": [
       "array('xcontent', dtype='<U8')"
      ]
     },
     "execution_count": 33,
     "metadata": {},
     "output_type": "execute_result"
    }
   ],
   "source": [
    "npzfile[\"x\"]"
   ]
  }
 ],
 "metadata": {
  "kernelspec": {
   "display_name": "ml",
   "language": "python",
   "name": "ml"
  },
  "language_info": {
   "codemirror_mode": {
    "name": "ipython",
    "version": 3
   },
   "file_extension": ".py",
   "mimetype": "text/x-python",
   "name": "python",
   "nbconvert_exporter": "python",
   "pygments_lexer": "ipython3",
   "version": "3.6.4"
  }
 },
 "nbformat": 4,
 "nbformat_minor": 2
}
