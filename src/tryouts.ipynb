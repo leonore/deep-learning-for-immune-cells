{
 "cells": [
  {
   "cell_type": "code",
   "execution_count": 28,
   "metadata": {},
   "outputs": [],
   "source": [
    "## Standard imports\n",
    "import numpy as np\n",
    "import matplotlib.pyplot as plt\n",
    "import skimage.io, scipy.ndimage, scipy.interpolate, scipy.signal, scipy.io.wavfile\n",
    "import skimage.morphology, skimage.transform, skimage.feature, scipy.stats\n",
    "\n",
    "%matplotlib inline\n",
    "import matplotlib as mpl\n",
    "mpl.rcParams['figure.figsize'] = (18.0, 10.0)\n",
    "\n",
    "#standard utilities\n",
    "def show_image(img, title=\"untitled\", cmap=\"gray\", **kwargs):\n",
    "    plt.figure()\n",
    "    plt.imshow(img, cmap=cmap, interpolation=\"nearest\", **kwargs)\n",
    "    plt.axis(\"off\")\n",
    "    plt.title(title)\n",
    "    \n",
    "def apply_color(img, fn):\n",
    "    return np.dstack((fn(img[:,:,0]),fn(img[:,:,1]),fn(img[:,:,2])))\n",
    "\n",
    "def load_and_normalise(fname):\n",
    "    return skimage.io.imread(fname) / 256.0\n",
    "\n",
    "def load_gray(f):\n",
    "    return skimage.color.rgb2gray(load_and_normalise(f))"
   ]
  },
  {
   "cell_type": "code",
   "execution_count": 32,
   "metadata": {},
   "outputs": [
    {
     "name": "stdout",
     "output_type": "stream",
     "text": [
      "Could not find a format to read the specified file in mode 'i'\n",
      "/Users/Leonore/Documents/Workspace/l4proj/data/raw/.DS_Store is causing issues\n"
     ]
    }
   ],
   "source": [
    "# resize images\n",
    "# read images into arrays\n",
    "# read resized images back into folder for future use\n",
    "\n",
    "import matplotlib.pyplot as plt\n",
    "%matplotlib inline\n",
    "\n",
    "import os\n",
    "import numpy as np\n",
    "from skimage.io import imread\n",
    "from skimage.transform import rescale, resize, downscale_local_mean\n",
    "from PIL import Image\n",
    "\n",
    "folder = '/Users/Leonore/Documents/Workspace/l4proj/data/raw'\n",
    "\n",
    "filenames = [os.path.join(folder, f)for f in os.listdir(folder) if os.path.isfile(os.path.join(folder, f))]\n",
    "\n",
    "image_width = 128\n",
    "image_height = 128\n",
    "\n",
    "dataset = np.ndarray(shape=(len(filenames), image_width, image_height), dtype=np.float32)\n",
    "\n",
    "i = 0\n",
    "for file in filenames:\n",
    "    try:\n",
    "        image = imread(file)\n",
    "        image_resized = resize(image, (image_width, image_height), anti_aliasing=False)\n",
    "        dataset[i] = image_resized\n",
    "    except Exception as e:\n",
    "        print(e)\n",
    "        print(\"{} is causing issues\".format(file))\n",
    "    i += 1"
   ]
  },
  {
   "cell_type": "code",
   "execution_count": 33,
   "metadata": {},
   "outputs": [],
   "source": [
    "from sklearn.model_selection import train_test_split\n",
    "\n",
    "# splitting and discarding labels as we don't need them\n",
    "x_train, x_test, _, _ = train_test_split(dataset, dataset, test_size=0.2, random_state=11)"
   ]
  },
  {
   "cell_type": "code",
   "execution_count": 34,
   "metadata": {},
   "outputs": [],
   "source": [
    "x_train = np.reshape(x_train, (len(x_train), image_width, image_height, 1))\n",
    "x_test = np.reshape(x_test, (len(x_test), image_width, image_height, 1))"
   ]
  },
  {
   "cell_type": "code",
   "execution_count": 35,
   "metadata": {},
   "outputs": [
    {
     "data": {
      "text/plain": [
       "(471, 128, 128, 1)"
      ]
     },
     "execution_count": 35,
     "metadata": {},
     "output_type": "execute_result"
    }
   ],
   "source": [
    "x_train.shape"
   ]
  },
  {
   "cell_type": "code",
   "execution_count": 36,
   "metadata": {},
   "outputs": [],
   "source": [
    "# build autoencoder for dataset\n",
    "\n",
    "from keras.layers import Input, Dense, Conv2D, MaxPooling2D, UpSampling2D\n",
    "from keras.models import Model\n",
    "from keras import backend as K\n",
    "\n",
    "input_img = Input(shape=(image_width, image_height, 1))  # adapt this if using `channels_first` image data format\n",
    "\n",
    "x = Conv2D(8, (5, 5), activation='relu', padding='same')(input_img)\n",
    "x = MaxPooling2D((2, 2), padding='same')(x)\n",
    "x = Conv2D(8, (3, 3), activation='relu', padding='same')(x)\n",
    "filter_copy = x\n",
    "x = MaxPooling2D((2, 2), padding='same')(x)\n",
    "x = Conv2D(16, (3, 3), activation='relu', padding='same')(x)\n",
    "encoded = MaxPooling2D((2, 2), padding='same')(x)\n",
    "\n",
    "x = Conv2D(16, (3, 3), activation='relu', padding='same')(encoded)\n",
    "x = UpSampling2D((2, 2))(x)\n",
    "x = Conv2D(8, (3, 3), activation='relu', padding='same')(x)\n",
    "x = UpSampling2D((2, 2))(x)\n",
    "x = Conv2D(8, (5, 5), activation='relu', padding='same')(x)\n",
    "x = UpSampling2D((2, 2))(x)\n",
    "\n",
    "decoded = Conv2D(1, (3, 3), activation='sigmoid', padding='same')(x)"
   ]
  },
  {
   "cell_type": "code",
   "execution_count": 37,
   "metadata": {},
   "outputs": [
    {
     "name": "stdout",
     "output_type": "stream",
     "text": [
      "Model: \"model_3\"\n",
      "_________________________________________________________________\n",
      "Layer (type)                 Output Shape              Param #   \n",
      "=================================================================\n",
      "input_2 (InputLayer)         (None, 128, 128, 1)       0         \n",
      "_________________________________________________________________\n",
      "conv2d_8 (Conv2D)            (None, 128, 128, 8)       208       \n",
      "_________________________________________________________________\n",
      "max_pooling2d_4 (MaxPooling2 (None, 64, 64, 8)         0         \n",
      "_________________________________________________________________\n",
      "conv2d_9 (Conv2D)            (None, 64, 64, 8)         584       \n",
      "_________________________________________________________________\n",
      "max_pooling2d_5 (MaxPooling2 (None, 32, 32, 8)         0         \n",
      "_________________________________________________________________\n",
      "conv2d_10 (Conv2D)           (None, 32, 32, 16)        1168      \n",
      "_________________________________________________________________\n",
      "max_pooling2d_6 (MaxPooling2 (None, 16, 16, 16)        0         \n",
      "_________________________________________________________________\n",
      "conv2d_11 (Conv2D)           (None, 16, 16, 16)        2320      \n",
      "_________________________________________________________________\n",
      "up_sampling2d_4 (UpSampling2 (None, 32, 32, 16)        0         \n",
      "_________________________________________________________________\n",
      "conv2d_12 (Conv2D)           (None, 32, 32, 8)         1160      \n",
      "_________________________________________________________________\n",
      "up_sampling2d_5 (UpSampling2 (None, 64, 64, 8)         0         \n",
      "_________________________________________________________________\n",
      "conv2d_13 (Conv2D)           (None, 64, 64, 8)         1608      \n",
      "_________________________________________________________________\n",
      "up_sampling2d_6 (UpSampling2 (None, 128, 128, 8)       0         \n",
      "_________________________________________________________________\n",
      "conv2d_14 (Conv2D)           (None, 128, 128, 1)       73        \n",
      "=================================================================\n",
      "Total params: 7,121\n",
      "Trainable params: 7,121\n",
      "Non-trainable params: 0\n",
      "_________________________________________________________________\n"
     ]
    }
   ],
   "source": [
    "autoencoder = Model(input_img, decoded)\n",
    "autoencoder.summary()"
   ]
  },
  {
   "cell_type": "code",
   "execution_count": 38,
   "metadata": {},
   "outputs": [
    {
     "name": "stdout",
     "output_type": "stream",
     "text": [
      "Model: \"model_4\"\n",
      "_________________________________________________________________\n",
      "Layer (type)                 Output Shape              Param #   \n",
      "=================================================================\n",
      "input_2 (InputLayer)         (None, 128, 128, 1)       0         \n",
      "_________________________________________________________________\n",
      "conv2d_8 (Conv2D)            (None, 128, 128, 8)       208       \n",
      "_________________________________________________________________\n",
      "max_pooling2d_4 (MaxPooling2 (None, 64, 64, 8)         0         \n",
      "_________________________________________________________________\n",
      "conv2d_9 (Conv2D)            (None, 64, 64, 8)         584       \n",
      "_________________________________________________________________\n",
      "max_pooling2d_5 (MaxPooling2 (None, 32, 32, 8)         0         \n",
      "_________________________________________________________________\n",
      "conv2d_10 (Conv2D)           (None, 32, 32, 16)        1168      \n",
      "_________________________________________________________________\n",
      "max_pooling2d_6 (MaxPooling2 (None, 16, 16, 16)        0         \n",
      "=================================================================\n",
      "Total params: 1,960\n",
      "Trainable params: 1,960\n",
      "Non-trainable params: 0\n",
      "_________________________________________________________________\n"
     ]
    }
   ],
   "source": [
    "encoder = Model(inputs=input_img, outputs=encoded)\n",
    "encoder.summary()"
   ]
  },
  {
   "cell_type": "code",
   "execution_count": 39,
   "metadata": {},
   "outputs": [
    {
     "name": "stdout",
     "output_type": "stream",
     "text": [
      "Model: \"model_5\"\n",
      "_________________________________________________________________\n",
      "Layer (type)                 Output Shape              Param #   \n",
      "=================================================================\n",
      "input_2 (InputLayer)         (None, 128, 128, 1)       0         \n",
      "_________________________________________________________________\n",
      "conv2d_8 (Conv2D)            (None, 128, 128, 8)       208       \n",
      "_________________________________________________________________\n",
      "max_pooling2d_4 (MaxPooling2 (None, 64, 64, 8)         0         \n",
      "_________________________________________________________________\n",
      "conv2d_9 (Conv2D)            (None, 64, 64, 8)         584       \n",
      "=================================================================\n",
      "Total params: 792\n",
      "Trainable params: 792\n",
      "Non-trainable params: 0\n",
      "_________________________________________________________________\n"
     ]
    }
   ],
   "source": [
    "filter_copy = Model(inputs=input_img, outputs=filter_copy)\n",
    "filter_copy.summary()"
   ]
  },
  {
   "cell_type": "code",
   "execution_count": 11,
   "metadata": {},
   "outputs": [
    {
     "name": "stdout",
     "output_type": "stream",
     "text": [
      "WARNING:tensorflow:From /Users/Leonore/Documents/Workspace/venv/ml/lib/python3.6/site-packages/tensorflow/python/ops/nn_impl.py:180: add_dispatch_support.<locals>.wrapper (from tensorflow.python.ops.array_ops) is deprecated and will be removed in a future version.\n",
      "Instructions for updating:\n",
      "Use tf.where in 2.0, which has the same broadcast rule as np.where\n"
     ]
    }
   ],
   "source": [
    "autoencoder.compile(optimizer='adadelta', loss='binary_crossentropy')"
   ]
  },
  {
   "cell_type": "code",
   "execution_count": 12,
   "metadata": {},
   "outputs": [
    {
     "name": "stdout",
     "output_type": "stream",
     "text": [
      "WARNING:tensorflow:From /Users/Leonore/Documents/Workspace/venv/ml/lib/python3.6/site-packages/keras/backend/tensorflow_backend.py:422: The name tf.global_variables is deprecated. Please use tf.compat.v1.global_variables instead.\n",
      "\n"
     ]
    }
   ],
   "source": [
    "encoded_imgs = encoder.predict(x_train)"
   ]
  },
  {
   "cell_type": "code",
   "execution_count": 13,
   "metadata": {},
   "outputs": [
    {
     "data": {
      "image/png": "[encoded data removed]",
      "text/plain": [
       "<Figure size 432x288 with 1 Axes>"
      ]
     },
     "metadata": {
      "needs_background": "light"
     },
     "output_type": "display_data"
    }
   ],
   "source": [
    "show_image(np.reshape(encoded_imgs[0],(encoder.output.shape[1], encoder.output.shape[2]*encoder.output.shape[3])))"
   ]
  },
  {
   "cell_type": "code",
   "execution_count": 14,
   "metadata": {},
   "outputs": [
    {
     "name": "stdout",
     "output_type": "stream",
     "text": [
      "Epoch 1/50\n",
      "471/471 [==============================] - 7s 15ms/step - loss: 0.6918\n",
      "Epoch 2/50\n",
      "471/471 [==============================] - 7s 14ms/step - loss: 0.6833\n",
      "Epoch 3/50\n",
      "471/471 [==============================] - 7s 14ms/step - loss: 0.6640\n",
      "Epoch 4/50\n",
      "471/471 [==============================] - 7s 15ms/step - loss: 0.6031\n",
      "Epoch 5/50\n",
      "471/471 [==============================] - 6s 14ms/step - loss: 0.3799\n",
      "Epoch 6/50\n",
      "471/471 [==============================] - 7s 15ms/step - loss: 0.0767\n",
      "Epoch 7/50\n",
      "471/471 [==============================] - 6s 13ms/step - loss: 0.0418\n",
      "Epoch 8/50\n",
      "471/471 [==============================] - 6s 13ms/step - loss: 0.0395\n",
      "Epoch 9/50\n",
      "471/471 [==============================] - 6s 12ms/step - loss: 0.0390\n",
      "Epoch 10/50\n",
      "471/471 [==============================] - 6s 12ms/step - loss: 0.0388\n",
      "Epoch 11/50\n",
      "471/471 [==============================] - 6s 13ms/step - loss: 0.0387\n",
      "Epoch 12/50\n",
      "471/471 [==============================] - 6s 14ms/step - loss: 0.0386\n",
      "Epoch 13/50\n",
      "471/471 [==============================] - 6s 13ms/step - loss: 0.0385\n",
      "Epoch 14/50\n",
      "471/471 [==============================] - 7s 14ms/step - loss: 0.0385\n",
      "Epoch 15/50\n",
      "471/471 [==============================] - 9s 20ms/step - loss: 0.0384\n",
      "Epoch 16/50\n",
      "471/471 [==============================] - 8s 17ms/step - loss: 0.0384\n",
      "Epoch 17/50\n",
      "471/471 [==============================] - 8s 17ms/step - loss: 0.0383\n",
      "Epoch 18/50\n",
      "471/471 [==============================] - 7s 16ms/step - loss: 0.0383\n",
      "Epoch 19/50\n",
      "471/471 [==============================] - 8s 17ms/step - loss: 0.0382\n",
      "Epoch 20/50\n",
      "471/471 [==============================] - 9s 19ms/step - loss: 0.0382\n",
      "Epoch 21/50\n",
      "471/471 [==============================] - 7s 15ms/step - loss: 0.0381\n",
      "Epoch 22/50\n",
      "471/471 [==============================] - 7s 15ms/step - loss: 0.0381\n",
      "Epoch 23/50\n",
      "471/471 [==============================] - 7s 15ms/step - loss: 0.0380\n",
      "Epoch 24/50\n",
      "471/471 [==============================] - 7s 14ms/step - loss: 0.0380\n",
      "Epoch 25/50\n",
      "471/471 [==============================] - 7s 15ms/step - loss: 0.0379\n",
      "Epoch 26/50\n",
      "471/471 [==============================] - 6s 13ms/step - loss: 0.0379\n",
      "Epoch 27/50\n",
      "471/471 [==============================] - 6s 14ms/step - loss: 0.0378\n",
      "Epoch 28/50\n",
      "471/471 [==============================] - 6s 14ms/step - loss: 0.0378\n",
      "Epoch 29/50\n",
      "471/471 [==============================] - 8s 16ms/step - loss: 0.0378\n",
      "Epoch 30/50\n",
      "471/471 [==============================] - 6s 13ms/step - loss: 0.0377\n",
      "Epoch 31/50\n",
      "471/471 [==============================] - 7s 15ms/step - loss: 0.0377\n",
      "Epoch 32/50\n",
      "471/471 [==============================] - 7s 14ms/step - loss: 0.0376\n",
      "Epoch 33/50\n",
      "471/471 [==============================] - 7s 15ms/step - loss: 0.0376\n",
      "Epoch 34/50\n",
      "471/471 [==============================] - 8s 16ms/step - loss: 0.0375\n",
      "Epoch 35/50\n",
      "471/471 [==============================] - 8s 16ms/step - loss: 0.0375\n",
      "Epoch 36/50\n",
      "471/471 [==============================] - 8s 16ms/step - loss: 0.0374\n",
      "Epoch 37/50\n",
      "471/471 [==============================] - 8s 18ms/step - loss: 0.0374\n",
      "Epoch 38/50\n",
      "471/471 [==============================] - 9s 20ms/step - loss: 0.0373\n",
      "Epoch 39/50\n",
      "471/471 [==============================] - 8s 18ms/step - loss: 0.0373\n",
      "Epoch 40/50\n",
      "471/471 [==============================] - 8s 16ms/step - loss: 0.0372\n",
      "Epoch 41/50\n",
      "471/471 [==============================] - 8s 16ms/step - loss: 0.0372\n",
      "Epoch 42/50\n",
      "471/471 [==============================] - 7s 16ms/step - loss: 0.0371\n",
      "Epoch 43/50\n",
      "471/471 [==============================] - 8s 17ms/step - loss: 0.0371\n",
      "Epoch 44/50\n",
      "471/471 [==============================] - 7s 14ms/step - loss: 0.0370\n",
      "Epoch 45/50\n",
      "471/471 [==============================] - 7s 15ms/step - loss: 0.0369\n",
      "Epoch 46/50\n",
      "471/471 [==============================] - 8s 16ms/step - loss: 0.0369\n",
      "Epoch 47/50\n",
      "471/471 [==============================] - 7s 15ms/step - loss: 0.0368\n",
      "Epoch 48/50\n",
      "471/471 [==============================] - 7s 14ms/step - loss: 0.0368\n",
      "Epoch 49/50\n",
      "471/471 [==============================] - 7s 15ms/step - loss: 0.0367\n",
      "Epoch 50/50\n",
      "471/471 [==============================] - 8s 17ms/step - loss: 0.0366\n"
     ]
    },
    {
     "data": {
      "text/plain": [
       "<keras.callbacks.callbacks.History at 0x14b3e1eb8>"
      ]
     },
     "execution_count": 14,
     "metadata": {},
     "output_type": "execute_result"
    }
   ],
   "source": [
    "# input = output because this is image reconstruction\n",
    "autoencoder.fit(x_train, x_train, epochs=50, batch_size=256, shuffle=True)"
   ]
  },
  {
   "cell_type": "code",
   "execution_count": 18,
   "metadata": {},
   "outputs": [],
   "source": [
    "decoded_imgs = autoencoder.predict(x_train)"
   ]
  },
  {
   "cell_type": "code",
   "execution_count": 25,
   "metadata": {},
   "outputs": [
    {
     "data": {
      "text/plain": [
       "0.062485695"
      ]
     },
     "execution_count": 25,
     "metadata": {},
     "output_type": "execute_result"
    }
   ],
   "source": [
    "np.amax(x_train)"
   ]
  },
  {
   "cell_type": "code",
   "execution_count": 19,
   "metadata": {},
   "outputs": [
    {
     "data": {
      "image/png": "[encoded data removed]",
      "text/plain": [
       "<Figure size 432x288 with 1 Axes>"
      ]
     },
     "metadata": {
      "needs_background": "light"
     },
     "output_type": "display_data"
    },
    {
     "data": {
      "image/png": "[encoded data removed]",
      "text/plain": [
       "<Figure size 432x288 with 1 Axes>"
      ]
     },
     "metadata": {
      "needs_background": "light"
     },
     "output_type": "display_data"
    },
    {
     "data": {
      "image/png": "[encoded data removed]",
      "text/plain": [
       "<Figure size 432x288 with 1 Axes>"
      ]
     },
     "metadata": {
      "needs_background": "light"
     },
     "output_type": "display_data"
    }
   ],
   "source": [
    "d1 = np.reshape(decoded_imgs[2], (image_width, image_height))\n",
    "show_image(np.reshape(encoded_imgs[2],(encoder.output.shape[1], encoder.output.shape[2]*encoder.output.shape[3])), \"compressed representation\", cmap=\"gist_yarg\")\n",
    "e1 = np.reshape(x_train[2], (image_width, image_height))\n",
    "show_image(e1, 'before compression', cmap='gist_yarg')\n",
    "show_image(d1, 'decoded image after compression', cmap='gist_yarg')"
   ]
  },
  {
   "cell_type": "code",
   "execution_count": null,
   "metadata": {},
   "outputs": [],
   "source": []
  }
 ],
 "metadata": {
  "kernelspec": {
   "display_name": "ml",
   "language": "python",
   "name": "ml"
  },
  "language_info": {
   "codemirror_mode": {
    "name": "ipython",
    "version": 3
   },
   "file_extension": ".py",
   "mimetype": "text/x-python",
   "name": "python",
   "nbconvert_exporter": "python",
   "pygments_lexer": "ipython3",
   "version": "3.6.4"
  }
 },
 "nbformat": 4,
 "nbformat_minor": 2
}
