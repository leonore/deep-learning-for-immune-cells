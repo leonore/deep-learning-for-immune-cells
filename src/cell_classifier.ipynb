{
  "nbformat": 4,
  "nbformat_minor": 0,
  "metadata": {
    "kernelspec": {
      "name": "python3",
      "display_name": "Python 3"
    },
    "colab": {
      "name": "cell_classifier.ipynb",
      "provenance": [],
      "collapsed_sections": [],
      "toc_visible": true,
      "machine_shape": "hm"
    },
    "accelerator": "GPU"
  },
  "cells": [
    {
      "cell_type": "markdown",
      "metadata": {
        "id": "HNTEZMogjXGe",
        "colab_type": "text"
      },
      "source": [
        "## Import main functions"
      ]
    },
    {
      "cell_type": "code",
      "metadata": {
        "id": "LwvQ1GwQjpGk",
        "colab_type": "code",
        "outputId": "5ccc29b1-0da2-4949-daea-72eabb9004c1",
        "colab": {
          "base_uri": "https://localhost:8080/",
          "height": 124
        }
      },
      "source": [
        "from google.colab import drive\n",
        "drive.mount('/content/gdrive/')"
      ],
      "execution_count": 1,
      "outputs": [
        {
          "output_type": "stream",
          "text": [
            "Go to this URL in a browser: https://accounts.google.com/o/oauth2/auth?client_id=947318989803-6bn6qk8qdgf4n4g3pfee6491hc0brc4i.apps.googleusercontent.com&redirect_uri=urn%3aietf%3awg%3aoauth%3a2.0%3aoob&response_type=code&scope=email%20https%3a%2f%2fwww.googleapis.com%2fauth%2fdocs.test%20https%3a%2f%2fwww.googleapis.com%2fauth%2fdrive%20https%3a%2f%2fwww.googleapis.com%2fauth%2fdrive.photos.readonly%20https%3a%2f%2fwww.googleapis.com%2fauth%2fpeopleapi.readonly\n",
            "\n",
            "Enter your authorization code:\n",
            "··········\n",
            "Mounted at /content/gdrive/\n"
          ],
          "name": "stdout"
        }
      ]
    },
    {
      "cell_type": "code",
      "metadata": {
        "id": "oY3j4GwSjsNe",
        "colab_type": "code",
        "colab": {}
      },
      "source": [
        "import sys\n",
        "sys.path.append('/content/gdrive/My Drive/l4_dataset')"
      ],
      "execution_count": 0,
      "outputs": []
    },
    {
      "cell_type": "code",
      "metadata": {
        "id": "a14FRRYAIuem",
        "colab_type": "code",
        "outputId": "9fd15d57-922b-4429-c32f-7af0f67e6dc9",
        "colab": {
          "base_uri": "https://localhost:8080/",
          "height": 64
        }
      },
      "source": [
        "import numpy as np\n",
        "\n",
        "import tensorflow.keras\n",
        "from tensorflow.keras.models import load_model\n",
        "from tensorflow.keras.models import Model, Sequential\n",
        "import umap"
      ],
      "execution_count": 3,
      "outputs": [
        {
          "output_type": "display_data",
          "data": {
            "text/html": [
              "<p style=\"color: red;\">\n",
              "The default version of TensorFlow in Colab will soon switch to TensorFlow 2.x.<br>\n",
              "We recommend you <a href=\"https://www.tensorflow.org/guide/migrate\" target=\"_blank\">upgrade</a> now \n",
              "or ensure your notebook will continue to use TensorFlow 1.x via the <code>%tensorflow_version 1.x</code> magic:\n",
              "<a href=\"https://colab.research.google.com/notebooks/tensorflow_version.ipynb\" target=\"_blank\">more info</a>.</p>\n"
            ],
            "text/plain": [
              "<IPython.core.display.HTML object>"
            ]
          },
          "metadata": {
            "tags": []
          }
        }
      ]
    },
    {
      "cell_type": "code",
      "metadata": {
        "id": "xU938dLTI3uT",
        "colab_type": "code",
        "colab": {}
      },
      "source": [
        "import matplotlib.pyplot as plt\n",
        "\n",
        "from tensorflow.keras.layers import Input, Conv2D, MaxPooling2D, UpSampling2D, Flatten, Reshape, PReLU\n",
        "from tensorflow.keras.layers import Dense"
      ],
      "execution_count": 0,
      "outputs": []
    },
    {
      "cell_type": "code",
      "metadata": {
        "id": "GQAfSBkijXGl",
        "colab_type": "code",
        "colab": {}
      },
      "source": [
        "import os, copy\n",
        "%matplotlib inline\n",
        "\n",
        "imw = 192\n",
        "imh = 192\n",
        "c = 3\n",
        "RS = 2211"
      ],
      "execution_count": 0,
      "outputs": []
    },
    {
      "cell_type": "code",
      "metadata": {
        "id": "-5gY0AIoluvq",
        "colab_type": "code",
        "colab": {}
      },
      "source": [
        "import seaborn as sns\n",
        "import matplotlib.patheffects as PathEffects"
      ],
      "execution_count": 0,
      "outputs": []
    },
    {
      "cell_type": "code",
      "metadata": {
        "id": "hFN6QNcEjXGy",
        "colab_type": "code",
        "colab": {}
      },
      "source": [
        "from sklearn.manifold import TSNE\n",
        "import umap\n",
        "import cv2 "
      ],
      "execution_count": 0,
      "outputs": []
    },
    {
      "cell_type": "code",
      "metadata": {
        "id": "xBQA4RNPCdiZ",
        "colab_type": "code",
        "outputId": "fb425414-3b77-45e9-9a97-99a11e77b495",
        "colab": {
          "base_uri": "https://localhost:8080/",
          "height": 106
        }
      },
      "source": [
        "encoder = load_model(\"/content/gdrive/My Drive/l4_dataset/encoder_balanced_weights.h5\")"
      ],
      "execution_count": 8,
      "outputs": [
        {
          "output_type": "stream",
          "text": [
            "WARNING:tensorflow:From /usr/local/lib/python3.6/dist-packages/tensorflow_core/python/ops/resource_variable_ops.py:1630: calling BaseResourceVariable.__init__ (from tensorflow.python.ops.resource_variable_ops) with constraint is deprecated and will be removed in a future version.\n",
            "Instructions for updating:\n",
            "If using Keras pass *_constraint arguments to layers.\n",
            "WARNING:tensorflow:No training configuration found in save file: the model was *not* compiled. Compile it manually.\n"
          ],
          "name": "stdout"
        }
      ]
    },
    {
      "cell_type": "code",
      "metadata": {
        "id": "Yr60A4jGCoGo",
        "colab_type": "code",
        "outputId": "0eb6b6d8-39fe-4469-bce6-126237cf09fb",
        "colab": {
          "base_uri": "https://localhost:8080/",
          "height": 606
        }
      },
      "source": [
        "encoder.summary()"
      ],
      "execution_count": 0,
      "outputs": [
        {
          "output_type": "stream",
          "text": [
            "Model: \"model_2\"\n",
            "_________________________________________________________________\n",
            "Layer (type)                 Output Shape              Param #   \n",
            "=================================================================\n",
            "input_1 (InputLayer)         [(None, 192, 192, 3)]     0         \n",
            "_________________________________________________________________\n",
            "conv2d_1 (Conv2D)            (None, 192, 192, 64)      1792      \n",
            "_________________________________________________________________\n",
            "p_re_lu_1 (PReLU)            (None, 192, 192, 64)      2359296   \n",
            "_________________________________________________________________\n",
            "max_pooling2d_1 (MaxPooling2 (None, 96, 96, 64)        0         \n",
            "_________________________________________________________________\n",
            "conv2d_2 (Conv2D)            (None, 96, 96, 32)        18464     \n",
            "_________________________________________________________________\n",
            "p_re_lu_2 (PReLU)            (None, 96, 96, 32)        294912    \n",
            "_________________________________________________________________\n",
            "max_pooling2d_2 (MaxPooling2 (None, 48, 48, 32)        0         \n",
            "_________________________________________________________________\n",
            "conv2d_3 (Conv2D)            (None, 48, 48, 32)        9248      \n",
            "_________________________________________________________________\n",
            "p_re_lu_3 (PReLU)            (None, 48, 48, 32)        73728     \n",
            "_________________________________________________________________\n",
            "max_pooling2d_3 (MaxPooling2 (None, 24, 24, 32)        0         \n",
            "_________________________________________________________________\n",
            "conv2d_4 (Conv2D)            (None, 12, 12, 16)        4624      \n",
            "_________________________________________________________________\n",
            "p_re_lu_4 (PReLU)            (None, 12, 12, 16)        2304      \n",
            "_________________________________________________________________\n",
            "flatten_1 (Flatten)          (None, 2304)              0         \n",
            "=================================================================\n",
            "Total params: 2,764,368\n",
            "Trainable params: 2,764,368\n",
            "Non-trainable params: 0\n",
            "_________________________________________________________________\n"
          ],
          "name": "stdout"
        }
      ]
    },
    {
      "cell_type": "code",
      "metadata": {
        "id": "wwQQcEGwCpyC",
        "colab_type": "code",
        "colab": {}
      },
      "source": [
        "classifier = Sequential()\n",
        "classifier.add(encoder)\n",
        "classifier.add(Dense(128, activation='relu'))\n",
        "classifier.add(Dense(1, activation='linear'))"
      ],
      "execution_count": 0,
      "outputs": []
    },
    {
      "cell_type": "code",
      "metadata": {
        "id": "2p8LFS3QE_6T",
        "colab_type": "code",
        "outputId": "9f90eae4-63ae-4d9b-9dcb-4c5afc95ba61",
        "colab": {
          "base_uri": "https://localhost:8080/",
          "height": 260
        }
      },
      "source": [
        "classifier.summary()"
      ],
      "execution_count": 10,
      "outputs": [
        {
          "output_type": "stream",
          "text": [
            "Model: \"sequential\"\n",
            "_________________________________________________________________\n",
            "Layer (type)                 Output Shape              Param #   \n",
            "=================================================================\n",
            "model_2 (Model)              (None, 2304)              2764368   \n",
            "_________________________________________________________________\n",
            "dense (Dense)                (None, 128)               295040    \n",
            "_________________________________________________________________\n",
            "dense_1 (Dense)              (None, 1)                 129       \n",
            "=================================================================\n",
            "Total params: 3,059,537\n",
            "Trainable params: 3,059,537\n",
            "Non-trainable params: 0\n",
            "_________________________________________________________________\n"
          ],
          "name": "stdout"
        }
      ]
    },
    {
      "cell_type": "code",
      "metadata": {
        "id": "AvTL_EFzFrjt",
        "colab_type": "code",
        "colab": {}
      },
      "source": [
        "classifier.compile(loss='mean_squared_error',\n",
        "              optimizer='adam')"
      ],
      "execution_count": 0,
      "outputs": []
    },
    {
      "cell_type": "markdown",
      "metadata": {
        "id": "5vugs23rj1ew",
        "colab_type": "text"
      },
      "source": [
        "## Helper functions"
      ]
    },
    {
      "cell_type": "code",
      "metadata": {
        "id": "GtUckusnj4QJ",
        "colab_type": "code",
        "colab": {}
      },
      "source": [
        "def low_clip(x):\n",
        "    x[x<=255] = 0\n",
        "    return x\n",
        "\n",
        "def minmax(x):\n",
        "    if x.min() == x.max():\n",
        "        return x\n",
        "    return (x-x.min())/(x.max()-x.min())\n",
        "\n",
        "def is_faulty(x):\n",
        "  if x.max() <= 255:\n",
        "    return True\n",
        "  return False"
      ],
      "execution_count": 0,
      "outputs": []
    },
    {
      "cell_type": "code",
      "metadata": {
        "id": "CcOlWpK1kBOr",
        "colab_type": "code",
        "colab": {}
      },
      "source": [
        "def get_label(filename):\n",
        "    # 0: unstimulated\n",
        "    # 1: OVA\n",
        "    # 2: ConA\n",
        "    # 3: empty/faulty\n",
        "\n",
        "    # filename format: folder/CKX - L - 00(...)\n",
        "    file = filename.split(\"/\")[-1].split(\"(\")[0]\n",
        "\n",
        "    # get letter for DMSO indices\n",
        "    letter = file.split('-')[1].strip()\n",
        "\n",
        "    # get number\n",
        "    number = file[-2:].strip()\n",
        "\n",
        "    # get plate layout number\n",
        "    ck = file[:4]\n",
        "\n",
        "    # DMSO = []\n",
        "\n",
        "    if ck == \"CK19\":\n",
        "        #if number in [\"5\", \"8\", \"11\", \"15\", \"18\", \"21\"] and letter in [\"N\", \"O\", \"P\"]:\n",
        "        #   DMSO.append(len(labels))\n",
        "        if number in [\"3\", \"4\", \"5\", \"6\", \"7\", \"8\", \"24\"]:\n",
        "            label = 0\n",
        "        elif number in [\"9\", \"10\", \"11\", \"13\", \"14\", \"15\", \"23\"]:\n",
        "            label = 1\n",
        "        elif number in [\"16\", \"17\", \"18\", \"19\", \"20\", \"21\", \"22\"]:\n",
        "            label = 2\n",
        "        else:\n",
        "            label = 3\n",
        "    elif ck == \"CK21\" or ck == \"CK22\":\n",
        "        if number in [\"02\", \"03\", \"04\", \"05\", \"06\", \"07\", \"08\", \"09\", \"10\", \"11\"]:\n",
        "            label = 0\n",
        "        elif int(number) in range(14, 24):\n",
        "            label = 2\n",
        "        else:\n",
        "            label = 3\n",
        "        #if label != 3 and letter in [\"H\", \"P\"]:\n",
        "        #    DMSO.append(len(labels))\n",
        "    else:\n",
        "        print(\"No CK found\")\n",
        "        return False\n",
        "\n",
        "    return label\n",
        "  \n",
        "def unishuffle(a, b):\n",
        "    assert len(a) == len(b)\n",
        "    p = np.random.permutation(len(a))\n",
        "    return a[p], b[p]"
      ],
      "execution_count": 0,
      "outputs": []
    },
    {
      "cell_type": "code",
      "metadata": {
        "id": "4HuJqbH3kFi0",
        "colab_type": "code",
        "colab": {}
      },
      "source": [
        "def show_image(img, title=\"untitled\", cmap=\"gray\", **kwargs):\n",
        "    try:\n",
        "        plt.imshow(img, cmap=cmap, **kwargs)\n",
        "    except:\n",
        "        plt.imshow(img[:, :, 0], cmap=cmap, **kwargs)\n",
        "    plt.axis(\"off\")\n",
        "    plt.title(title)\n",
        "\n",
        "def reshape(img, w=imw, h=imh, c=c):\n",
        "    if c > 1:\n",
        "      return np.reshape(img, (w, h, c))\n",
        "    else:\n",
        "      return np.reshape(img, (w, h))"
      ],
      "execution_count": 0,
      "outputs": []
    },
    {
      "cell_type": "code",
      "metadata": {
        "id": "XUhbBOVwvalJ",
        "colab_type": "code",
        "colab": {}
      },
      "source": [
        "def convert_to_binary(a):\n",
        "    val = np.unique(a)[1]\n",
        "    above_threshold = a >= val\n",
        "    under_threshold = a < val\n",
        "    a[above_threshold] = 1\n",
        "    a[under_threshold] = 0\n",
        "    return a.astype(np.uint8).reshape(int(np.sqrt(len(a))), int(np.sqrt(len(a))))\n",
        "\n",
        "# For 500 images:\n",
        "# CPU times: user 21 s, sys: 37.7 ms, total: 21 s\n",
        "# Wall time: 5.49 s\n",
        "def get_mask(img):\n",
        "    # if image is all black: ignore\n",
        "    if not img.any():\n",
        "        return img.astype(np.uint8)\n",
        "    criteria = (cv2.TERM_CRITERIA_EPS + cv2.TERM_CRITERIA_MAX_ITER, 10, 1.0)\n",
        "    _,label,center = cv2.kmeans(img.reshape(np.prod(img.shape), 1), 2, None, criteria, 10, cv2.KMEANS_RANDOM_CENTERS)\n",
        "    return convert_to_binary(center[label])\n",
        "\n",
        "# For 500 images\n",
        "# CPU times: user 180 ms, sys: 2 µs, total: 180 ms\n",
        "# Wall time: 181 ms\n",
        "def threshold(x):\n",
        "    mask = np.copy(x)\n",
        "    mask = mask.ravel()\n",
        "    above_threshold = mask > x.mean()+x.std()\n",
        "    under_threshold = mask <= x.mean() + x.std()\n",
        "    mask[above_threshold] = 1\n",
        "    mask[under_threshold] = 0\n",
        "    return mask.astype(np.uint8).reshape((x.shape))\n",
        "\n",
        "# intersection over union (evaluation function)\n",
        "def iou(a,b):\n",
        "    a = a.astype(np.bool)\n",
        "    b = b.astype(np.bool)\n",
        "    i = a*b\n",
        "    u = a+b\n",
        "    if u.sum() == 0:\n",
        "        return 0\n",
        "    return i.sum()/(a.sum()+b.sum())"
      ],
      "execution_count": 0,
      "outputs": []
    },
    {
      "cell_type": "code",
      "metadata": {
        "id": "XGRcykjBbMvs",
        "colab_type": "code",
        "colab": {}
      },
      "source": [
        "def plot_range(imgs, rn=8):\n",
        "  fig = plt.figure(figsize=(15, 15))\n",
        "  for i in range(1, 6):\n",
        "    ax = fig.add_subplot(1, 5, i)\n",
        "    plt.imshow(imgs[i+rn])\n",
        "    ax.axis('off')"
      ],
      "execution_count": 0,
      "outputs": []
    },
    {
      "cell_type": "markdown",
      "metadata": {
        "id": "YjhO9inRjXG-",
        "colab_type": "text"
      },
      "source": [
        "## Read data"
      ]
    },
    {
      "cell_type": "code",
      "metadata": {
        "id": "IaCKUKGFjXHB",
        "colab_type": "code",
        "colab": {}
      },
      "source": [
        "npzfile = np.load('/content/gdrive/My Drive/l4_dataset/CK19_full.npz')"
      ],
      "execution_count": 0,
      "outputs": []
    },
    {
      "cell_type": "code",
      "metadata": {
        "id": "2ntUOHW1gFB6",
        "colab_type": "code",
        "colab": {}
      },
      "source": [
        "metrics = np.load('/content/gdrive/My Drive/l4_dataset/CK19_calculated_metrics.npz')"
      ],
      "execution_count": 0,
      "outputs": []
    },
    {
      "cell_type": "code",
      "metadata": {
        "id": "R4_Jw0bPjXHQ",
        "colab_type": "code",
        "colab": {}
      },
      "source": [
        "filenames = npzfile['y']"
      ],
      "execution_count": 0,
      "outputs": []
    },
    {
      "cell_type": "code",
      "metadata": {
        "id": "zHEB0OHLa_j2",
        "colab_type": "code",
        "colab": {}
      },
      "source": [
        "y = np.array([get_label(i) for i in filenames])"
      ],
      "execution_count": 0,
      "outputs": []
    },
    {
      "cell_type": "code",
      "metadata": {
        "id": "kT-C7nBRJpiP",
        "colab_type": "code",
        "colab": {}
      },
      "source": [
        "X = npzfile['x']"
      ],
      "execution_count": 0,
      "outputs": []
    },
    {
      "cell_type": "code",
      "metadata": {
        "id": "ZgVqUKYlhHKC",
        "colab_type": "code",
        "colab": {}
      },
      "source": [
        "calculated = metrics['calculated']"
      ],
      "execution_count": 0,
      "outputs": []
    },
    {
      "cell_type": "markdown",
      "metadata": {
        "id": "HgJ3XAzYO2W3",
        "colab_type": "text"
      },
      "source": [
        "## Process images into dataset"
      ]
    },
    {
      "cell_type": "code",
      "metadata": {
        "id": "tfbt0OuYwkJW",
        "colab_type": "code",
        "colab": {}
      },
      "source": [
        "def preprocess_with_overlap(data, labels, mask=False):\n",
        "    data = np.copy(data)\n",
        "    l = len(data)\n",
        "    # initialise arrays for filling in\n",
        "    x_data = np.ndarray(shape=(l // 2, 192, 192, 3), dtype=np.float32)\n",
        "    y_data = np.ndarray(shape=(l // 2), dtype=np.uint8)\n",
        "\n",
        "    # initialise index values\n",
        "    idx = 0\n",
        "    i = 0\n",
        "    count = 0\n",
        "\n",
        "    # loop through images and process\n",
        "    while idx < l-100:\n",
        "        # ignore 100, 300, etc. values as they will already have been processed\n",
        "        if count == 100:\n",
        "            # print('---new image---')\n",
        "            count = 0\n",
        "            idx += 100\n",
        "        else:\n",
        "           # print('-- image {} ---\\n'\n",
        "           #       'channel 1: {}\\n'\n",
        "           #       'channel 0: {}\\n'\n",
        "           #       'count: {}\\n'.format(i, idx, idx+100, count))\n",
        "\n",
        "            # if the image is \"faulty\" we cannot low_clip and apply minmax -> NaN\n",
        "            if is_faulty(data[idx]) or is_faulty(data[idx + 100]):\n",
        "                x_data[i, ..., 1] = minmax(data[idx])\n",
        "                x_data[i, ..., 0] = minmax(data[idx + 100])\n",
        "            else:\n",
        "                x_data[i, ..., 1] = minmax(low_clip(data[idx]))\n",
        "                x_data[i, ..., 0] = minmax(low_clip(data[idx + 100]))\n",
        "            \n",
        "            y_data[i] = labels[i]\n",
        "\n",
        "            # mask out the background\n",
        "            if mask:\n",
        "                x_data[i, ..., 0] *= get_mask(x_data[i, ..., 0])  # red-coloured\n",
        "                x_data[i, ..., 1] *= get_mask(x_data[i, ..., 1])  # green-coloured\n",
        "\n",
        "            # try and save memory\n",
        "            data[idx] = 0\n",
        "            data[idx+100] = 0\n",
        "\n",
        "            idx += 1\n",
        "            i += 1\n",
        "            count += 1\n",
        "\n",
        "    print('Images preprocessed. Size of dataset: {}'.format(len(x_data)))\n",
        "    return x_data, y_data"
      ],
      "execution_count": 0,
      "outputs": []
    },
    {
      "cell_type": "code",
      "metadata": {
        "id": "UotQse_XhKr1",
        "colab_type": "code",
        "outputId": "581a76d1-b93e-489d-90d0-8d261c516ef5",
        "colab": {
          "base_uri": "https://localhost:8080/",
          "height": 34
        }
      },
      "source": [
        "x_combined, y_combined = preprocess_with_overlap(X, calculated)"
      ],
      "execution_count": 28,
      "outputs": [
        {
          "output_type": "stream",
          "text": [
            "Images preprocessed. Size of dataset: 29400\n"
          ],
          "name": "stdout"
        }
      ]
    },
    {
      "cell_type": "code",
      "metadata": {
        "id": "P-3v_zSn4QdH",
        "colab_type": "code",
        "colab": {}
      },
      "source": [
        "X = None"
      ],
      "execution_count": 0,
      "outputs": []
    },
    {
      "cell_type": "code",
      "metadata": {
        "id": "BfT_xMuIJ04m",
        "colab_type": "code",
        "outputId": "3430f6a6-a73b-45dd-c75c-e05d5cbc2bb3",
        "colab": {
          "base_uri": "https://localhost:8080/",
          "height": 34
        }
      },
      "source": [
        "x_masked, y_masked = preprocess(X, y_dmso, mask=True)       "
      ],
      "execution_count": 0,
      "outputs": [
        {
          "output_type": "stream",
          "text": [
            "Images preprocessed. Size of dataset: 9800\n"
          ],
          "name": "stdout"
        }
      ]
    },
    {
      "cell_type": "code",
      "metadata": {
        "id": "1qOwHGYX-u4b",
        "colab_type": "code",
        "colab": {}
      },
      "source": [
        "X = None"
      ],
      "execution_count": 0,
      "outputs": []
    },
    {
      "cell_type": "code",
      "metadata": {
        "id": "o6KZiVpG-yA8",
        "colab_type": "code",
        "colab": {}
      },
      "source": [
        "x_train, y_train = unishuffle(x_masked, y_masked)"
      ],
      "execution_count": 0,
      "outputs": []
    },
    {
      "cell_type": "code",
      "metadata": {
        "id": "6LHKrJsd4M2m",
        "colab_type": "code",
        "colab": {}
      },
      "source": [
        "x_masked, y_masked = None, None"
      ],
      "execution_count": 0,
      "outputs": []
    },
    {
      "cell_type": "code",
      "metadata": {
        "id": "au4BlEy8PzAR",
        "colab_type": "code",
        "colab": {}
      },
      "source": [
        "x_train, y_train = unishuffle(x_combined, y_combined[:15000])"
      ],
      "execution_count": 0,
      "outputs": []
    },
    {
      "cell_type": "code",
      "metadata": {
        "id": "D2PnWwxCHCWR",
        "colab_type": "code",
        "colab": {}
      },
      "source": [
        "x_combined, y_combined = None, None"
      ],
      "execution_count": 0,
      "outputs": []
    },
    {
      "cell_type": "code",
      "metadata": {
        "id": "DzEqy4LaHF3n",
        "colab_type": "code",
        "outputId": "be214dec-d098-4af8-81b5-7685fb890d32",
        "colab": {
          "base_uri": "https://localhost:8080/",
          "height": 174
        }
      },
      "source": [
        "plot_range(x_combined, rn=5739)"
      ],
      "execution_count": 30,
      "outputs": [
        {
          "output_type": "display_data",
          "data": {
            "image/png": "[encoded data removed]",
            "text/plain": [
              "<Figure size 1080x1080 with 5 Axes>"
            ]
          },
          "metadata": {
            "tags": []
          }
        }
      ]
    },
    {
      "cell_type": "markdown",
      "metadata": {
        "id": "dCyBic6uer_U",
        "colab_type": "text"
      },
      "source": [
        "## Interaction classifier (quantity)"
      ]
    },
    {
      "cell_type": "code",
      "metadata": {
        "id": "0yZ9jVKSfUPX",
        "colab_type": "code",
        "colab": {}
      },
      "source": [
        "x_train, x_test, y_train, y_test = x_combined[:-5000], x_combined[-5000:], calculated[:-5000], calculated[-5000:]"
      ],
      "execution_count": 0,
      "outputs": []
    },
    {
      "cell_type": "code",
      "metadata": {
        "id": "SUxnM3fOjUR9",
        "colab_type": "code",
        "colab": {
          "base_uri": "https://localhost:8080/",
          "height": 34
        },
        "outputId": "1c207274-91b0-4ec6-e548-635906831601"
      },
      "source": [
        "len(x_train), len(x_test)"
      ],
      "execution_count": 32,
      "outputs": [
        {
          "output_type": "execute_result",
          "data": {
            "text/plain": [
              "(24400, 5000)"
            ]
          },
          "metadata": {
            "tags": []
          },
          "execution_count": 32
        }
      ]
    },
    {
      "cell_type": "code",
      "metadata": {
        "id": "X4vtHxrQjXFg",
        "colab_type": "code",
        "colab": {
          "base_uri": "https://localhost:8080/",
          "height": 554
        },
        "outputId": "4a460fe3-32a6-4c36-9d83-268db6d87358"
      },
      "source": [
        "history = classifier.fit(x_train, y_train,\n",
        "          batch_size=64,\n",
        "          epochs=10,\n",
        "          verbose=1,\n",
        "          validation_split=0.15)"
      ],
      "execution_count": 60,
      "outputs": [
        {
          "output_type": "stream",
          "text": [
            "Train on 20740 samples, validate on 3660 samples\n",
            "Epoch 1/15\n",
            "20740/20740 [==============================] - 37s 2ms/sample - loss: 0.0015 - val_loss: 0.0018\n",
            "Epoch 2/15\n",
            "20740/20740 [==============================] - 37s 2ms/sample - loss: 0.0014 - val_loss: 0.0015\n",
            "Epoch 3/15\n",
            "20740/20740 [==============================] - 37s 2ms/sample - loss: 0.0013 - val_loss: 0.0013\n",
            "Epoch 4/15\n",
            "20740/20740 [==============================] - 37s 2ms/sample - loss: 0.0012 - val_loss: 0.0012\n",
            "Epoch 5/15\n",
            "20740/20740 [==============================] - 37s 2ms/sample - loss: 0.0010 - val_loss: 0.0011\n",
            "Epoch 6/15\n",
            "20740/20740 [==============================] - 37s 2ms/sample - loss: 7.6601e-04 - val_loss: 0.0011\n",
            "Epoch 7/15\n",
            "20740/20740 [==============================] - 37s 2ms/sample - loss: 6.0088e-04 - val_loss: 8.9499e-04\n",
            "Epoch 8/15\n",
            "20740/20740 [==============================] - 37s 2ms/sample - loss: 3.9660e-04 - val_loss: 9.3470e-04\n",
            "Epoch 9/15\n",
            "20740/20740 [==============================] - 37s 2ms/sample - loss: 2.8343e-04 - val_loss: 9.2851e-04\n",
            "Epoch 10/15\n",
            "20740/20740 [==============================] - 36s 2ms/sample - loss: 2.0931e-04 - val_loss: 9.9066e-04\n",
            "Epoch 11/15\n",
            "20740/20740 [==============================] - 37s 2ms/sample - loss: 1.9697e-04 - val_loss: 9.7161e-04\n",
            "Epoch 12/15\n",
            "20740/20740 [==============================] - 36s 2ms/sample - loss: 1.6459e-04 - val_loss: 9.4882e-04\n",
            "Epoch 13/15\n",
            "20740/20740 [==============================] - 37s 2ms/sample - loss: 1.2990e-04 - val_loss: 9.2433e-04\n",
            "Epoch 14/15\n",
            "20740/20740 [==============================] - 37s 2ms/sample - loss: 1.4896e-04 - val_loss: 9.2791e-04\n",
            "Epoch 15/15\n",
            "20740/20740 [==============================] - 37s 2ms/sample - loss: 1.5339e-04 - val_loss: 0.0011\n"
          ],
          "name": "stdout"
        }
      ]
    },
    {
      "cell_type": "code",
      "metadata": {
        "id": "YK9rfLPYmuFW",
        "colab_type": "code",
        "colab": {
          "base_uri": "https://localhost:8080/",
          "height": 284
        },
        "outputId": "7c94bf25-8a7b-4636-dffa-923bf3f39530"
      },
      "source": [
        "plt.plot(history.history['loss'])"
      ],
      "execution_count": 61,
      "outputs": [
        {
          "output_type": "execute_result",
          "data": {
            "text/plain": [
              "[<matplotlib.lines.Line2D at 0x7efbc8799748>]"
            ]
          },
          "metadata": {
            "tags": []
          },
          "execution_count": 61
        },
        {
          "output_type": "display_data",
          "data": {
            "image/png": "[encoded data removed]",
            "text/plain": [
              "<Figure size 432x288 with 1 Axes>"
            ]
          },
          "metadata": {
            "tags": []
          }
        }
      ]
    },
    {
      "cell_type": "code",
      "metadata": {
        "id": "EJxLga_EmwGL",
        "colab_type": "code",
        "colab": {
          "base_uri": "https://localhost:8080/",
          "height": 52
        },
        "outputId": "52047402-1ada-4158-c72d-b5cea272ab10"
      },
      "source": [
        "score1 = classifier.evaluate(x_test, y_test, verbose=0)\n",
        "print('Test loss:', score1[0])\n",
        "print('Test accuracy:', score1[1])"
      ],
      "execution_count": 41,
      "outputs": [
        {
          "output_type": "stream",
          "text": [
            "Test loss: 5.771695586481717e-09\n",
            "Test accuracy: 5.7716965e-09\n"
          ],
          "name": "stdout"
        }
      ]
    },
    {
      "cell_type": "code",
      "metadata": {
        "id": "nHtIQrR7nJGJ",
        "colab_type": "code",
        "colab": {}
      },
      "source": [
        "predictions = classifier.predict(x_test)"
      ],
      "execution_count": 0,
      "outputs": []
    },
    {
      "cell_type": "code",
      "metadata": {
        "id": "kWLFO8uzsIvp",
        "colab_type": "code",
        "colab": {
          "base_uri": "https://localhost:8080/",
          "height": 265
        },
        "outputId": "fe82b251-42d4-43cb-90dc-dd0d7998cfeb"
      },
      "source": [
        "plt.hist(y_test, bins=128)\n",
        "plt.show()"
      ],
      "execution_count": 64,
      "outputs": [
        {
          "output_type": "display_data",
          "data": {
            "image/png": "[encoded data removed]",
            "text/plain": [
              "<Figure size 432x288 with 1 Axes>"
            ]
          },
          "metadata": {
            "tags": []
          }
        }
      ]
    },
    {
      "cell_type": "code",
      "metadata": {
        "id": "gut5nMuLnO7p",
        "colab_type": "code",
        "colab": {
          "base_uri": "https://localhost:8080/",
          "height": 265
        },
        "outputId": "9d44ce7e-74bf-4be6-defb-ad7248797f72"
      },
      "source": [
        "plt.hist(predictions, bins=128)\n",
        "plt.show()"
      ],
      "execution_count": 63,
      "outputs": [
        {
          "output_type": "display_data",
          "data": {
            "image/png": "[encoded data removed]",
            "text/plain": [
              "<Figure size 432x288 with 1 Axes>"
            ]
          },
          "metadata": {
            "tags": []
          }
        }
      ]
    },
    {
      "cell_type": "code",
      "metadata": {
        "id": "XD5mob6KtNcJ",
        "colab_type": "code",
        "colab": {}
      },
      "source": [
        "labels = metrics['labels']"
      ],
      "execution_count": 0,
      "outputs": []
    },
    {
      "cell_type": "code",
      "metadata": {
        "id": "i7RB2yEAtEv9",
        "colab_type": "code",
        "colab": {}
      },
      "source": [
        "unstimulated = calculated[labels==0]\n",
        "ova = calculated[labels==1]\n",
        "cona = calculated[labels==2]\n",
        "faulty = calculated[labels==3]"
      ],
      "execution_count": 0,
      "outputs": []
    },
    {
      "cell_type": "code",
      "metadata": {
        "id": "bu_IbvebtP3C",
        "colab_type": "code",
        "colab": {}
      },
      "source": [
        "palette = np.array(sns.color_palette(\"hls\", 4))"
      ],
      "execution_count": 0,
      "outputs": []
    },
    {
      "cell_type": "code",
      "metadata": {
        "id": "shxg4yi2tUm9",
        "colab_type": "code",
        "colab": {
          "base_uri": "https://localhost:8080/",
          "height": 349
        },
        "outputId": "db9d1686-8e9f-458c-bace-5635ff8ea54d"
      },
      "source": [
        "plt.figure(figsize=(10,5))\n",
        "plt.hist([unstimulated.flatten(), ova.flatten(), cona.flatten(), faulty.flatten()], bins=64, histtype=\"barstacked\", \n",
        "         label=[\"Unstimulated\", \"OVA\", \"ConA\", \"Faulty\"],\n",
        "         color=palette)\n",
        "plt.title(\"Histogram for calculated overlaps\")\n",
        "plt.legend()\n",
        "plt.xlabel(\"Level of interaction (Area of overlap)\")\n",
        "plt.show()"
      ],
      "execution_count": 69,
      "outputs": [
        {
          "output_type": "display_data",
          "data": {
            "image/png": "[encoded data removed]",
            "text/plain": [
              "<Figure size 720x360 with 1 Axes>"
            ]
          },
          "metadata": {
            "tags": []
          }
        }
      ]
    },
    {
      "cell_type": "code",
      "metadata": {
        "id": "7VvfDQY0tyfe",
        "colab_type": "code",
        "colab": {}
      },
      "source": [
        "labels_test = labels[-5000:]"
      ],
      "execution_count": 0,
      "outputs": []
    },
    {
      "cell_type": "code",
      "metadata": {
        "id": "8ElCpO2ltjh4",
        "colab_type": "code",
        "colab": {}
      },
      "source": [
        "unstimulated = predictions[labels_test==0]\n",
        "ova = predictions[labels_test==1]\n",
        "cona = predictions[labels_test==2]\n",
        "faulty = predictions[labels_test==3]"
      ],
      "execution_count": 0,
      "outputs": []
    },
    {
      "cell_type": "code",
      "metadata": {
        "id": "ZTeqO94ets8B",
        "colab_type": "code",
        "colab": {
          "base_uri": "https://localhost:8080/",
          "height": 349
        },
        "outputId": "8ba7f998-39ee-4c9f-e895-238261264abd"
      },
      "source": [
        "plt.figure(figsize=(10,5))\n",
        "plt.hist([unstimulated.flatten(), ova.flatten(), cona.flatten(), faulty.flatten()], bins=64, histtype=\"barstacked\", \n",
        "         label=[\"Unstimulated\", \"OVA\", \"ConA\", \"Faulty\"],\n",
        "         color=palette)\n",
        "plt.title(\"Histogram for predicted overlaps\")\n",
        "plt.legend()\n",
        "plt.xlabel(\"Level of interaction (Area of overlap)\")\n",
        "plt.show()"
      ],
      "execution_count": 75,
      "outputs": [
        {
          "output_type": "display_data",
          "data": {
            "image/png": "[encoded data removed]",
            "text/plain": [
              "<Figure size 720x360 with 1 Axes>"
            ]
          },
          "metadata": {
            "tags": []
          }
        }
      ]
    },
    {
      "cell_type": "code",
      "metadata": {
        "id": "qIwxqyUFuJaV",
        "colab_type": "code",
        "colab": {}
      },
      "source": [
        "predictions[predictions < 0] = 0"
      ],
      "execution_count": 0,
      "outputs": []
    },
    {
      "cell_type": "code",
      "metadata": {
        "id": "X_2eTQC9uOmW",
        "colab_type": "code",
        "colab": {}
      },
      "source": [
        "unstimulated = predictions[labels_test==0]\n",
        "ova = predictions[labels_test==1]\n",
        "cona = predictions[labels_test==2]\n",
        "faulty = predictions[labels_test==3]"
      ],
      "execution_count": 0,
      "outputs": []
    },
    {
      "cell_type": "code",
      "metadata": {
        "id": "J_X6iqP3uSp_",
        "colab_type": "code",
        "colab": {
          "base_uri": "https://localhost:8080/",
          "height": 349
        },
        "outputId": "23d7faa2-8e9e-4e2a-f16c-61a4596240b5"
      },
      "source": [
        "plt.figure(figsize=(10,5))\n",
        "plt.hist([unstimulated.flatten(), ova.flatten(), cona.flatten(), faulty.flatten()], bins=64, histtype=\"barstacked\", \n",
        "         label=[\"Unstimulated\", \"OVA\", \"ConA\", \"Faulty\"],\n",
        "         color=palette)\n",
        "plt.title(\"Histogram for predicted overlaps (zero-adjusted)\")\n",
        "plt.legend()\n",
        "plt.xlabel(\"Level of interaction (Area of overlap)\")\n",
        "plt.show()"
      ],
      "execution_count": 78,
      "outputs": [
        {
          "output_type": "display_data",
          "data": {
            "image/png": "[encoded data removed]",
            "text/plain": [
              "<Figure size 720x360 with 1 Axes>"
            ]
          },
          "metadata": {
            "tags": []
          }
        }
      ]
    },
    {
      "cell_type": "code",
      "metadata": {
        "id": "1dy-X95iuW9S",
        "colab_type": "code",
        "colab": {}
      },
      "source": [
        "unstimulated = [np.sum(unstimulated[current: current+100]) for current in range(0, len(unstimulated), 100)]\n",
        "ova = [np.sum(ova[current: current+100]) for current in range(0, len(ova), 100)]\n",
        "cona = [np.sum(cona[current: current+100]) for current in range(0, len(cona), 100)]"
      ],
      "execution_count": 0,
      "outputs": []
    },
    {
      "cell_type": "code",
      "metadata": {
        "id": "17hFgCadufmu",
        "colab_type": "code",
        "colab": {
          "base_uri": "https://localhost:8080/",
          "height": 349
        },
        "outputId": "1d6d8a29-2921-410c-b4db-58fec166d97a"
      },
      "source": [
        "plt.figure(figsize=(10,5))\n",
        "plt.hist([unstimulated, ova, cona], bins=64, histtype=\"barstacked\", \n",
        "         label=[\"Unstimulated\", \"OVA\", \"ConA\"],\n",
        "        color=palette[:3])\n",
        "plt.title(\"Histogram for predicted overlaps (summed over same images)\")\n",
        "plt.legend()\n",
        "plt.xlabel(\"Level of interaction (Sum area of overlap per image)\")\n",
        "plt.show()"
      ],
      "execution_count": 81,
      "outputs": [
        {
          "output_type": "display_data",
          "data": {
            "image/png": "[encoded data removed]",
            "text/plain": [
              "<Figure size 720x360 with 1 Axes>"
            ]
          },
          "metadata": {
            "tags": []
          }
        }
      ]
    },
    {
      "cell_type": "markdown",
      "metadata": {
        "id": "sngjceG3HK0U",
        "colab_type": "text"
      },
      "source": [
        "## Label classifier (unstimulated, ova, cona, faulty)\n",
        "\n",
        "```python\n",
        "classifier = Sequential()\n",
        "classifier.add(encoder)\n",
        "classifier.add(Dense(128, activation='relu'))\n",
        "classifier.add(Dense(4, activation='softmax'))\n",
        "```"
      ]
    },
    {
      "cell_type": "code",
      "metadata": {
        "id": "AkUaKYvHHZR5",
        "colab_type": "code",
        "colab": {}
      },
      "source": [
        "x_train, x_test, y_train, y_test = x_combined[:-1000], x_combined[-1000:], y_combined[:-1000], y_combined[-1000:]"
      ],
      "execution_count": 0,
      "outputs": []
    },
    {
      "cell_type": "code",
      "metadata": {
        "id": "f429hFUmLRf_",
        "colab_type": "code",
        "outputId": "390eb647-f950-443c-fa13-36530ea02c79",
        "colab": {
          "base_uri": "https://localhost:8080/",
          "height": 34
        }
      },
      "source": [
        "len(x_train), len(x_test)"
      ],
      "execution_count": 0,
      "outputs": [
        {
          "output_type": "execute_result",
          "data": {
            "text/plain": [
              "(27600, 1000)"
            ]
          },
          "metadata": {
            "tags": []
          },
          "execution_count": 28
        }
      ]
    },
    {
      "cell_type": "code",
      "metadata": {
        "id": "fuw7_SBPLXcI",
        "colab_type": "code",
        "colab": {}
      },
      "source": [
        "y_train_c = tensorflow.keras.utils.to_categorical(y_train, 4)"
      ],
      "execution_count": 0,
      "outputs": []
    },
    {
      "cell_type": "code",
      "metadata": {
        "id": "HKpW4k8nNQTQ",
        "colab_type": "code",
        "colab": {}
      },
      "source": [
        "y_test_c = tensorflow.keras.utils.to_categorical(y_test, 4)"
      ],
      "execution_count": 0,
      "outputs": []
    },
    {
      "cell_type": "code",
      "metadata": {
        "id": "0SxzTl_1HMvF",
        "colab_type": "code",
        "outputId": "74cf6eb6-4841-44f4-ae4d-33afd841ae90",
        "colab": {
          "base_uri": "https://localhost:8080/",
          "height": 381
        }
      },
      "source": [
        "history = classifier.fit(x_train, y_train_c,\n",
        "          batch_size=64,\n",
        "          epochs=10,\n",
        "          verbose=1,\n",
        "          validation_split=0.15)"
      ],
      "execution_count": 0,
      "outputs": [
        {
          "output_type": "stream",
          "text": [
            "Train on 23460 samples, validate on 4140 samples\n",
            "Epoch 1/10\n",
            "23460/23460 [==============================] - 45s 2ms/sample - loss: 0.9583 - acc: 0.5219 - val_loss: 0.9563 - val_acc: 0.5435\n",
            "Epoch 2/10\n",
            "23460/23460 [==============================] - 42s 2ms/sample - loss: 0.8078 - acc: 0.6246 - val_loss: 0.8666 - val_acc: 0.5966\n",
            "Epoch 3/10\n",
            "23460/23460 [==============================] - 42s 2ms/sample - loss: 0.7386 - acc: 0.6659 - val_loss: 0.9142 - val_acc: 0.5865\n",
            "Epoch 4/10\n",
            "23460/23460 [==============================] - 42s 2ms/sample - loss: 0.6689 - acc: 0.7057 - val_loss: 0.9046 - val_acc: 0.5937\n",
            "Epoch 5/10\n",
            "23460/23460 [==============================] - 42s 2ms/sample - loss: 0.6012 - acc: 0.7447 - val_loss: 0.9511 - val_acc: 0.5845\n",
            "Epoch 6/10\n",
            "23460/23460 [==============================] - 42s 2ms/sample - loss: 0.4663 - acc: 0.8087 - val_loss: 1.0370 - val_acc: 0.5906\n",
            "Epoch 7/10\n",
            "23460/23460 [==============================] - 42s 2ms/sample - loss: 0.3313 - acc: 0.8766 - val_loss: 1.2206 - val_acc: 0.5790\n",
            "Epoch 8/10\n",
            "23460/23460 [==============================] - 42s 2ms/sample - loss: 0.1896 - acc: 0.9359 - val_loss: 1.5817 - val_acc: 0.5870\n",
            "Epoch 9/10\n",
            "23460/23460 [==============================] - 42s 2ms/sample - loss: 0.1066 - acc: 0.9674 - val_loss: 2.0451 - val_acc: 0.5771\n",
            "Epoch 10/10\n",
            "23460/23460 [==============================] - 42s 2ms/sample - loss: 0.0836 - acc: 0.9749 - val_loss: 2.2898 - val_acc: 0.5389\n"
          ],
          "name": "stdout"
        }
      ]
    },
    {
      "cell_type": "code",
      "metadata": {
        "id": "U6Xsr7IH9l1v",
        "colab_type": "code",
        "outputId": "9f5c4b3a-a8f9-4de4-9bc7-32ce10227ce7",
        "colab": {
          "base_uri": "https://localhost:8080/",
          "height": 282
        }
      },
      "source": [
        "plt.plot(history.history['acc'])"
      ],
      "execution_count": 0,
      "outputs": [
        {
          "output_type": "execute_result",
          "data": {
            "text/plain": [
              "[<matplotlib.lines.Line2D at 0x7fb8589f4e80>]"
            ]
          },
          "metadata": {
            "tags": []
          },
          "execution_count": 33
        },
        {
          "output_type": "display_data",
          "data": {
            "image/png": "[encoded data removed]",
            "text/plain": [
              "<Figure size 432x288 with 1 Axes>"
            ]
          },
          "metadata": {
            "tags": []
          }
        }
      ]
    },
    {
      "cell_type": "code",
      "metadata": {
        "id": "9lts3jpYM1pr",
        "colab_type": "code",
        "outputId": "1c82bbf9-b142-47cb-c0d3-28ce3814c63d",
        "colab": {
          "base_uri": "https://localhost:8080/",
          "height": 52
        }
      },
      "source": [
        "score1 = classifier.evaluate(x_test, y_test_c, verbose=0)\n",
        "print('Test loss:', score1[0])\n",
        "print('Test accuracy:', score1[1])"
      ],
      "execution_count": 0,
      "outputs": [
        {
          "output_type": "stream",
          "text": [
            "Test loss: 2.2097943849563597\n",
            "Test accuracy: 0.528\n"
          ],
          "name": "stdout"
        }
      ]
    },
    {
      "cell_type": "code",
      "metadata": {
        "id": "ouK-hQK4OON3",
        "colab_type": "code",
        "colab": {}
      },
      "source": [
        "y_pred = np.argmax(classifier.predict(x_test), axis=1)"
      ],
      "execution_count": 0,
      "outputs": []
    },
    {
      "cell_type": "code",
      "metadata": {
        "id": "7A_Dy0nUNvQX",
        "colab_type": "code",
        "colab": {}
      },
      "source": [
        "from sklearn.metrics import confusion_matrix\n",
        "import seaborn as sn\n",
        "\n",
        "names = [\"Unstimulated\", \"OVA\", \"ConA\", \"Faulty\"]\n",
        "\n",
        "def plot_confusion_matrix(predictions, labels):\n",
        "  plt.figure(figsize=(12,10))\n",
        "  cm = confusion_matrix(labels, predictions)\n",
        "  ax = sn.heatmap(cm, fmt=\"d\", annot=True, cmap=\"Greens\", cbar_kws={'label': 'Number of predictions'}, \n",
        "             xticklabels=names, yticklabels=names)\n",
        "  ax.set_ylabel(\"True label\")\n",
        "  ax.set_xlabel(\"Predicted label\")"
      ],
      "execution_count": 0,
      "outputs": []
    },
    {
      "cell_type": "code",
      "metadata": {
        "id": "qVJG9cRcRXnb",
        "colab_type": "code",
        "outputId": "fa51c409-8f97-4730-b5a8-d97c13494b34",
        "colab": {
          "base_uri": "https://localhost:8080/",
          "height": 34
        }
      },
      "source": [
        "np.sum(y_test[y_test==1])"
      ],
      "execution_count": 0,
      "outputs": [
        {
          "output_type": "execute_result",
          "data": {
            "text/plain": [
              "21.0"
            ]
          },
          "metadata": {
            "tags": []
          },
          "execution_count": 78
        }
      ]
    },
    {
      "cell_type": "code",
      "metadata": {
        "id": "FSXFLVITOEnK",
        "colab_type": "code",
        "outputId": "86ca79bd-d009-4bcb-9a69-8cd79b9a52b0",
        "colab": {
          "base_uri": "https://localhost:8080/",
          "height": 609
        }
      },
      "source": [
        "plot_confusion_matrix(y_pred, y_test)"
      ],
      "execution_count": 0,
      "outputs": [
        {
          "output_type": "display_data",
          "data": {
            "image/png": "[encoded data removed]",
            "text/plain": [
              "<Figure size 864x720 with 2 Axes>"
            ]
          },
          "metadata": {
            "tags": []
          }
        }
      ]
    },
    {
      "cell_type": "code",
      "metadata": {
        "id": "iz26PwrZWKHI",
        "colab_type": "code",
        "colab": {}
      },
      "source": [
        ""
      ],
      "execution_count": 0,
      "outputs": []
    }
  ]
}