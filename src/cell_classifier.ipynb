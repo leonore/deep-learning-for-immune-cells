{
  "nbformat": 4,
  "nbformat_minor": 0,
  "metadata": {
    "kernelspec": {
      "name": "python3",
      "display_name": "Python 3"
    },
    "colab": {
      "name": "cell_classifier.ipynb",
      "provenance": [],
      "collapsed_sections": [
        "CHGhol6HX9Md"
      ],
      "toc_visible": true,
      "machine_shape": "hm"
    },
    "accelerator": "GPU"
  },
  "cells": [
    {
      "cell_type": "markdown",
      "metadata": {
        "id": "HNTEZMogjXGe",
        "colab_type": "text"
      },
      "source": [
        "## Import main functions"
      ]
    },
    {
      "cell_type": "code",
      "metadata": {
        "id": "LwvQ1GwQjpGk",
        "colab_type": "code",
        "outputId": "f092dfe7-c80d-4bda-c86c-929ca9e55ecc",
        "colab": {
          "base_uri": "https://localhost:8080/",
          "height": 34
        }
      },
      "source": [
        "from google.colab import drive\n",
        "drive.mount('/content/gdrive/')"
      ],
      "execution_count": 1,
      "outputs": [
        {
          "output_type": "stream",
          "text": [
            "Drive already mounted at /content/gdrive/; to attempt to forcibly remount, call drive.mount(\"/content/gdrive/\", force_remount=True).\n"
          ],
          "name": "stdout"
        }
      ]
    },
    {
      "cell_type": "code",
      "metadata": {
        "id": "oY3j4GwSjsNe",
        "colab_type": "code",
        "colab": {}
      },
      "source": [
        "import sys\n",
        "sys.path.append('/content/gdrive/My Drive/l4_dataset')"
      ],
      "execution_count": 0,
      "outputs": []
    },
    {
      "cell_type": "code",
      "metadata": {
        "id": "a14FRRYAIuem",
        "colab_type": "code",
        "outputId": "1bd09b4b-7d80-4851-d5f4-91597bf97b22",
        "colab": {
          "base_uri": "https://localhost:8080/",
          "height": 64
        }
      },
      "source": [
        "import numpy as np\n",
        "\n",
        "import tensorflow.keras\n",
        "from tensorflow.keras.models import load_model\n",
        "from tensorflow.keras.models import Model, Sequential\n",
        "import umap"
      ],
      "execution_count": 3,
      "outputs": [
        {
          "output_type": "display_data",
          "data": {
            "text/html": [
              "<p style=\"color: red;\">\n",
              "The default version of TensorFlow in Colab will soon switch to TensorFlow 2.x.<br>\n",
              "We recommend you <a href=\"https://www.tensorflow.org/guide/migrate\" target=\"_blank\">upgrade</a> now \n",
              "or ensure your notebook will continue to use TensorFlow 1.x via the <code>%tensorflow_version 1.x</code> magic:\n",
              "<a href=\"https://colab.research.google.com/notebooks/tensorflow_version.ipynb\" target=\"_blank\">more info</a>.</p>\n"
            ],
            "text/plain": [
              "<IPython.core.display.HTML object>"
            ]
          },
          "metadata": {
            "tags": []
          }
        }
      ]
    },
    {
      "cell_type": "code",
      "metadata": {
        "id": "xU938dLTI3uT",
        "colab_type": "code",
        "colab": {}
      },
      "source": [
        "import matplotlib.pyplot as plt\n",
        "\n",
        "from tensorflow.keras.layers import Input, Conv2D, MaxPooling2D, UpSampling2D, Flatten, Reshape, PReLU\n",
        "from tensorflow.keras.layers import Dense"
      ],
      "execution_count": 0,
      "outputs": []
    },
    {
      "cell_type": "code",
      "metadata": {
        "id": "GQAfSBkijXGl",
        "colab_type": "code",
        "colab": {}
      },
      "source": [
        "import os, copy\n",
        "%matplotlib inline\n",
        "\n",
        "imw = 192\n",
        "imh = 192\n",
        "c = 3\n",
        "RS = 2211"
      ],
      "execution_count": 0,
      "outputs": []
    },
    {
      "cell_type": "code",
      "metadata": {
        "id": "-5gY0AIoluvq",
        "colab_type": "code",
        "colab": {}
      },
      "source": [
        "import seaborn as sns\n",
        "import matplotlib.patheffects as PathEffects"
      ],
      "execution_count": 0,
      "outputs": []
    },
    {
      "cell_type": "code",
      "metadata": {
        "id": "hFN6QNcEjXGy",
        "colab_type": "code",
        "colab": {}
      },
      "source": [
        "from sklearn.manifold import TSNE\n",
        "import umap\n",
        "import cv2 "
      ],
      "execution_count": 0,
      "outputs": []
    },
    {
      "cell_type": "code",
      "metadata": {
        "id": "xBQA4RNPCdiZ",
        "colab_type": "code",
        "outputId": "e298f4b2-cf78-4163-b6e9-a7646cb607dd",
        "colab": {
          "base_uri": "https://localhost:8080/",
          "height": 106
        }
      },
      "source": [
        "encoder = load_model(\"/content/gdrive/My Drive/l4_dataset/encoder_balanced_weights.h5\")"
      ],
      "execution_count": 8,
      "outputs": [
        {
          "output_type": "stream",
          "text": [
            "WARNING:tensorflow:From /usr/local/lib/python3.6/dist-packages/tensorflow_core/python/ops/resource_variable_ops.py:1630: calling BaseResourceVariable.__init__ (from tensorflow.python.ops.resource_variable_ops) with constraint is deprecated and will be removed in a future version.\n",
            "Instructions for updating:\n",
            "If using Keras pass *_constraint arguments to layers.\n",
            "WARNING:tensorflow:No training configuration found in save file: the model was *not* compiled. Compile it manually.\n"
          ],
          "name": "stdout"
        }
      ]
    },
    {
      "cell_type": "code",
      "metadata": {
        "id": "Yr60A4jGCoGo",
        "colab_type": "code",
        "outputId": "0eb6b6d8-39fe-4469-bce6-126237cf09fb",
        "colab": {
          "base_uri": "https://localhost:8080/",
          "height": 606
        }
      },
      "source": [
        "encoder.summary()"
      ],
      "execution_count": 9,
      "outputs": [
        {
          "output_type": "stream",
          "text": [
            "Model: \"model_2\"\n",
            "_________________________________________________________________\n",
            "Layer (type)                 Output Shape              Param #   \n",
            "=================================================================\n",
            "input_1 (InputLayer)         [(None, 192, 192, 3)]     0         \n",
            "_________________________________________________________________\n",
            "conv2d_1 (Conv2D)            (None, 192, 192, 64)      1792      \n",
            "_________________________________________________________________\n",
            "p_re_lu_1 (PReLU)            (None, 192, 192, 64)      2359296   \n",
            "_________________________________________________________________\n",
            "max_pooling2d_1 (MaxPooling2 (None, 96, 96, 64)        0         \n",
            "_________________________________________________________________\n",
            "conv2d_2 (Conv2D)            (None, 96, 96, 32)        18464     \n",
            "_________________________________________________________________\n",
            "p_re_lu_2 (PReLU)            (None, 96, 96, 32)        294912    \n",
            "_________________________________________________________________\n",
            "max_pooling2d_2 (MaxPooling2 (None, 48, 48, 32)        0         \n",
            "_________________________________________________________________\n",
            "conv2d_3 (Conv2D)            (None, 48, 48, 32)        9248      \n",
            "_________________________________________________________________\n",
            "p_re_lu_3 (PReLU)            (None, 48, 48, 32)        73728     \n",
            "_________________________________________________________________\n",
            "max_pooling2d_3 (MaxPooling2 (None, 24, 24, 32)        0         \n",
            "_________________________________________________________________\n",
            "conv2d_4 (Conv2D)            (None, 12, 12, 16)        4624      \n",
            "_________________________________________________________________\n",
            "p_re_lu_4 (PReLU)            (None, 12, 12, 16)        2304      \n",
            "_________________________________________________________________\n",
            "flatten_1 (Flatten)          (None, 2304)              0         \n",
            "=================================================================\n",
            "Total params: 2,764,368\n",
            "Trainable params: 2,764,368\n",
            "Non-trainable params: 0\n",
            "_________________________________________________________________\n"
          ],
          "name": "stdout"
        }
      ]
    },
    {
      "cell_type": "code",
      "metadata": {
        "id": "wwQQcEGwCpyC",
        "colab_type": "code",
        "colab": {}
      },
      "source": [
        "classifier = Sequential()\n",
        "classifier.add(encoder)\n",
        "classifier.add(Dense(128, activation='relu'))\n",
        "classifier.add(Dense(4, activation='softmax'))"
      ],
      "execution_count": 0,
      "outputs": []
    },
    {
      "cell_type": "code",
      "metadata": {
        "id": "2p8LFS3QE_6T",
        "colab_type": "code",
        "outputId": "08685d8d-c217-4cdf-ac12-b2e23a86836c",
        "colab": {
          "base_uri": "https://localhost:8080/",
          "height": 260
        }
      },
      "source": [
        "classifier.summary()"
      ],
      "execution_count": 11,
      "outputs": [
        {
          "output_type": "stream",
          "text": [
            "Model: \"sequential\"\n",
            "_________________________________________________________________\n",
            "Layer (type)                 Output Shape              Param #   \n",
            "=================================================================\n",
            "model_2 (Model)              (None, 2304)              2764368   \n",
            "_________________________________________________________________\n",
            "dense (Dense)                (None, 128)               295040    \n",
            "_________________________________________________________________\n",
            "dense_1 (Dense)              (None, 4)                 516       \n",
            "=================================================================\n",
            "Total params: 3,059,924\n",
            "Trainable params: 3,059,924\n",
            "Non-trainable params: 0\n",
            "_________________________________________________________________\n"
          ],
          "name": "stdout"
        }
      ]
    },
    {
      "cell_type": "code",
      "metadata": {
        "id": "AvTL_EFzFrjt",
        "colab_type": "code",
        "colab": {}
      },
      "source": [
        "classifier.compile(loss='categorical_crossentropy',\n",
        "              optimizer='adam',\n",
        "              metrics=['accuracy'])"
      ],
      "execution_count": 0,
      "outputs": []
    },
    {
      "cell_type": "markdown",
      "metadata": {
        "id": "5vugs23rj1ew",
        "colab_type": "text"
      },
      "source": [
        "## Helper functions"
      ]
    },
    {
      "cell_type": "code",
      "metadata": {
        "id": "GtUckusnj4QJ",
        "colab_type": "code",
        "colab": {}
      },
      "source": [
        "def low_clip(x):\n",
        "    x[x<=255] = 0\n",
        "    return x\n",
        "\n",
        "def minmax(x):\n",
        "    if x.min() == x.max():\n",
        "        return x\n",
        "    return (x-x.min())/(x.max()-x.min())\n",
        "\n",
        "def is_faulty(x):\n",
        "  if x.max() <= 255:\n",
        "    return True\n",
        "  return False"
      ],
      "execution_count": 0,
      "outputs": []
    },
    {
      "cell_type": "code",
      "metadata": {
        "id": "CcOlWpK1kBOr",
        "colab_type": "code",
        "colab": {}
      },
      "source": [
        "def get_label(filename):\n",
        "    # 0: unstimulated\n",
        "    # 1: OVA\n",
        "    # 2: ConA\n",
        "    # 3: empty/faulty\n",
        "\n",
        "    # filename format: folder/CKX - L - 00(...)\n",
        "    file = filename.split(\"/\")[-1].split(\"(\")[0]\n",
        "\n",
        "    # get letter for DMSO indices\n",
        "    letter = file.split('-')[1].strip()\n",
        "\n",
        "    # get number\n",
        "    number = file[-2:].strip()\n",
        "\n",
        "    # get plate layout number\n",
        "    ck = file[:4]\n",
        "\n",
        "    # DMSO = []\n",
        "\n",
        "    if ck == \"CK19\":\n",
        "        #if number in [\"5\", \"8\", \"11\", \"15\", \"18\", \"21\"] and letter in [\"N\", \"O\", \"P\"]:\n",
        "        #   DMSO.append(len(labels))\n",
        "        if number in [\"3\", \"4\", \"5\", \"6\", \"7\", \"8\", \"24\"]:\n",
        "            label = 0\n",
        "        elif number in [\"9\", \"10\", \"11\", \"13\", \"14\", \"15\", \"23\"]:\n",
        "            label = 1\n",
        "        elif number in [\"16\", \"17\", \"18\", \"19\", \"20\", \"21\", \"22\"]:\n",
        "            label = 2\n",
        "        else:\n",
        "            label = 3\n",
        "    elif ck == \"CK21\" or ck == \"CK22\":\n",
        "        if number in [\"02\", \"03\", \"04\", \"05\", \"06\", \"07\", \"08\", \"09\", \"10\", \"11\"]:\n",
        "            label = 0\n",
        "        elif int(number) in range(14, 24):\n",
        "            label = 2\n",
        "        else:\n",
        "            label = 3\n",
        "        #if label != 3 and letter in [\"H\", \"P\"]:\n",
        "        #    DMSO.append(len(labels))\n",
        "    else:\n",
        "        print(\"No CK found\")\n",
        "        return False\n",
        "\n",
        "    return label\n",
        "  \n",
        "def unishuffle(a, b):\n",
        "    assert len(a) == len(b)\n",
        "    p = np.random.permutation(len(a))\n",
        "    return a[p], b[p]"
      ],
      "execution_count": 0,
      "outputs": []
    },
    {
      "cell_type": "code",
      "metadata": {
        "id": "4HuJqbH3kFi0",
        "colab_type": "code",
        "colab": {}
      },
      "source": [
        "def show_image(img, title=\"untitled\", cmap=\"gray\", **kwargs):\n",
        "    try:\n",
        "        plt.imshow(img, cmap=cmap, **kwargs)\n",
        "    except:\n",
        "        plt.imshow(img[:, :, 0], cmap=cmap, **kwargs)\n",
        "    plt.axis(\"off\")\n",
        "    plt.title(title)\n",
        "\n",
        "def reshape(img, w=imw, h=imh, c=c):\n",
        "    if c > 1:\n",
        "      return np.reshape(img, (w, h, c))\n",
        "    else:\n",
        "      return np.reshape(img, (w, h))"
      ],
      "execution_count": 0,
      "outputs": []
    },
    {
      "cell_type": "code",
      "metadata": {
        "id": "XUhbBOVwvalJ",
        "colab_type": "code",
        "colab": {}
      },
      "source": [
        "def convert_to_binary(a):\n",
        "    val = np.unique(a)[1]\n",
        "    above_threshold = a >= val \n",
        "    under_threshold = a < val\n",
        "    a[above_threshold] = 1\n",
        "    a[under_threshold] = 0\n",
        "    return a.astype(np.uint8).reshape(192,192)\n",
        "\n",
        "def get_mask(img):\n",
        "    criteria = (cv2.TERM_CRITERIA_EPS + cv2.TERM_CRITERIA_MAX_ITER, 10, 1.0)\n",
        "    _,label,center = cv2.kmeans(img.reshape(np.prod(img.shape), 1),2,None,criteria,10,cv2.KMEANS_RANDOM_CENTERS)\n",
        "    return convert_to_binary(center[label])\n",
        "\n",
        "def threshold(x):\n",
        "    mask = np.copy(x)\n",
        "    mask = mask.ravel()\n",
        "    above_threshold = mask > x.mean()+x.std()\n",
        "    under_threshold = mask <= x.mean() + x.std()\n",
        "    mask[above_threshold] = 1\n",
        "    mask[under_threshold] = 0\n",
        "    return mask.reshape((x.shape))"
      ],
      "execution_count": 0,
      "outputs": []
    },
    {
      "cell_type": "code",
      "metadata": {
        "id": "XGRcykjBbMvs",
        "colab_type": "code",
        "colab": {}
      },
      "source": [
        "def plot_range(imgs, rn=8):\n",
        "  fig = plt.figure(figsize=(15, 15))\n",
        "  for i in range(1, 6):\n",
        "    ax = fig.add_subplot(1, 5, i)\n",
        "    plt.imshow(imgs[i+rn])\n",
        "    ax.axis('off')"
      ],
      "execution_count": 0,
      "outputs": []
    },
    {
      "cell_type": "markdown",
      "metadata": {
        "id": "YjhO9inRjXG-",
        "colab_type": "text"
      },
      "source": [
        "## Read images"
      ]
    },
    {
      "cell_type": "code",
      "metadata": {
        "id": "IaCKUKGFjXHB",
        "colab_type": "code",
        "colab": {}
      },
      "source": [
        "npzfile = np.load('/content/gdrive/My Drive/l4_dataset/CK19_full.npz')"
      ],
      "execution_count": 0,
      "outputs": []
    },
    {
      "cell_type": "code",
      "metadata": {
        "id": "R4_Jw0bPjXHQ",
        "colab_type": "code",
        "colab": {}
      },
      "source": [
        "filenames = npzfile['y']"
      ],
      "execution_count": 0,
      "outputs": []
    },
    {
      "cell_type": "code",
      "metadata": {
        "id": "zHEB0OHLa_j2",
        "colab_type": "code",
        "colab": {}
      },
      "source": [
        "y = np.array([get_label(i) for i in filenames])"
      ],
      "execution_count": 0,
      "outputs": []
    },
    {
      "cell_type": "code",
      "metadata": {
        "id": "kT-C7nBRJpiP",
        "colab_type": "code",
        "colab": {}
      },
      "source": [
        "X = npzfile['x']"
      ],
      "execution_count": 0,
      "outputs": []
    },
    {
      "cell_type": "markdown",
      "metadata": {
        "id": "HgJ3XAzYO2W3",
        "colab_type": "text"
      },
      "source": [
        "## Process images into dataset"
      ]
    },
    {
      "cell_type": "code",
      "metadata": {
        "id": "tfbt0OuYwkJW",
        "colab_type": "code",
        "colab": {}
      },
      "source": [
        "def preprocess(data, labels, mask=False):\n",
        "    data = np.copy(data)\n",
        "    l = len(data)\n",
        "    # initialise arrays for filling in\n",
        "    x_data = np.ndarray(shape=(l // 2, 192, 192, 3), dtype=np.float32)\n",
        "    y_data = np.ndarray(shape=(l // 2), dtype=np.uint8)\n",
        "\n",
        "    # initialise index values\n",
        "    idx = 0\n",
        "    i = 0\n",
        "    count = 0\n",
        "\n",
        "    # loop through images and process\n",
        "    while idx < l-100:\n",
        "        # ignore 100, 300, etc. values as they will already have been processed\n",
        "        if count == 100:\n",
        "            # print('---new image---')\n",
        "            count = 0\n",
        "            idx += 100\n",
        "        else:\n",
        "           # print('-- image {} ---\\n'\n",
        "           #       'channel 1: {}\\n'\n",
        "           #       'channel 0: {}\\n'\n",
        "           #       'count: {}\\n'.format(i, idx, idx+100, count))\n",
        "\n",
        "            # if the image is \"faulty\" we cannot low_clip and apply minmax -> NaN\n",
        "            if is_faulty(data[idx]) or is_faulty(data[idx + 100]):\n",
        "                x_data[i, ..., 1] = minmax(data[idx])\n",
        "                x_data[i, ..., 0] = minmax(data[idx + 100])\n",
        "                y_data[i] = 3\n",
        "            else:\n",
        "                x_data[i, ..., 1] = minmax(low_clip(data[idx]))\n",
        "                x_data[i, ..., 0] = minmax(low_clip(data[idx + 100]))\n",
        "                y_data[i] = labels[idx]\n",
        "\n",
        "            # mask out the background\n",
        "            if mask:\n",
        "                x_data[i, ..., 0] *= get_mask(x_data[i, ..., 0])  # red-coloured\n",
        "                x_data[i, ..., 1] *= get_mask(x_data[i, ..., 1])  # green-coloured\n",
        "\n",
        "            # try and save memory\n",
        "            data[idx] = 0\n",
        "            data[idx+100] = 0\n",
        "\n",
        "            idx += 1\n",
        "            i += 1\n",
        "            count += 1\n",
        "\n",
        "    print('Images preprocessed. Size of dataset: {}'.format(len(x_data)))\n",
        "    return x_data, y_data"
      ],
      "execution_count": 0,
      "outputs": []
    },
    {
      "cell_type": "code",
      "metadata": {
        "id": "UotQse_XhKr1",
        "colab_type": "code",
        "colab": {
          "base_uri": "https://localhost:8080/",
          "height": 34
        },
        "outputId": "11977d26-9e77-4cc2-e6a2-feb3cd8035e8"
      },
      "source": [
        "x_combined, y_combined = preprocess(X, y)"
      ],
      "execution_count": 23,
      "outputs": [
        {
          "output_type": "stream",
          "text": [
            "Images preprocessed. Size of dataset: 28600\n"
          ],
          "name": "stdout"
        }
      ]
    },
    {
      "cell_type": "code",
      "metadata": {
        "id": "P-3v_zSn4QdH",
        "colab_type": "code",
        "colab": {}
      },
      "source": [
        "X, y = None, None"
      ],
      "execution_count": 0,
      "outputs": []
    },
    {
      "cell_type": "code",
      "metadata": {
        "id": "BfT_xMuIJ04m",
        "colab_type": "code",
        "outputId": "3430f6a6-a73b-45dd-c75c-e05d5cbc2bb3",
        "colab": {
          "base_uri": "https://localhost:8080/",
          "height": 34
        }
      },
      "source": [
        "x_masked, y_masked = preprocess(X, y_dmso, mask=True)       "
      ],
      "execution_count": 0,
      "outputs": [
        {
          "output_type": "stream",
          "text": [
            "Images preprocessed. Size of dataset: 9800\n"
          ],
          "name": "stdout"
        }
      ]
    },
    {
      "cell_type": "code",
      "metadata": {
        "id": "1qOwHGYX-u4b",
        "colab_type": "code",
        "colab": {}
      },
      "source": [
        "X = None"
      ],
      "execution_count": 0,
      "outputs": []
    },
    {
      "cell_type": "code",
      "metadata": {
        "id": "o6KZiVpG-yA8",
        "colab_type": "code",
        "colab": {}
      },
      "source": [
        "x_train, y_train = unishuffle(x_masked, y_masked)"
      ],
      "execution_count": 0,
      "outputs": []
    },
    {
      "cell_type": "code",
      "metadata": {
        "id": "6LHKrJsd4M2m",
        "colab_type": "code",
        "colab": {}
      },
      "source": [
        "x_masked, y_masked = None, None"
      ],
      "execution_count": 0,
      "outputs": []
    },
    {
      "cell_type": "code",
      "metadata": {
        "id": "au4BlEy8PzAR",
        "colab_type": "code",
        "colab": {}
      },
      "source": [
        "x_train, y_train = unishuffle(x_combined[:15000], y_combined[:15000])"
      ],
      "execution_count": 0,
      "outputs": []
    },
    {
      "cell_type": "code",
      "metadata": {
        "id": "D2PnWwxCHCWR",
        "colab_type": "code",
        "colab": {}
      },
      "source": [
        "x_combined, y_combined = None, None"
      ],
      "execution_count": 0,
      "outputs": []
    },
    {
      "cell_type": "code",
      "metadata": {
        "id": "DzEqy4LaHF3n",
        "colab_type": "code",
        "outputId": "caf96a76-623b-40f8-e571-5ab4cfaf7f15",
        "colab": {
          "base_uri": "https://localhost:8080/",
          "height": 174
        }
      },
      "source": [
        "plot_range(x_combined, rn=5739)"
      ],
      "execution_count": 26,
      "outputs": [
        {
          "output_type": "display_data",
          "data": {
            "image/png": "[encoded data removed]",
            "text/plain": [
              "<Figure size 1080x1080 with 5 Axes>"
            ]
          },
          "metadata": {
            "tags": []
          }
        }
      ]
    },
    {
      "cell_type": "markdown",
      "metadata": {
        "id": "sngjceG3HK0U",
        "colab_type": "text"
      },
      "source": [
        "## Classifier"
      ]
    },
    {
      "cell_type": "code",
      "metadata": {
        "id": "AkUaKYvHHZR5",
        "colab_type": "code",
        "colab": {}
      },
      "source": [
        "x_train, x_test, y_train, y_test = x_combined[:-1000], x_combined[-1000:], y_combined[:-1000], y_combined[-1000:]"
      ],
      "execution_count": 0,
      "outputs": []
    },
    {
      "cell_type": "code",
      "metadata": {
        "id": "f429hFUmLRf_",
        "colab_type": "code",
        "outputId": "390eb647-f950-443c-fa13-36530ea02c79",
        "colab": {
          "base_uri": "https://localhost:8080/",
          "height": 34
        }
      },
      "source": [
        "len(x_train), len(x_test)"
      ],
      "execution_count": 28,
      "outputs": [
        {
          "output_type": "execute_result",
          "data": {
            "text/plain": [
              "(27600, 1000)"
            ]
          },
          "metadata": {
            "tags": []
          },
          "execution_count": 28
        }
      ]
    },
    {
      "cell_type": "code",
      "metadata": {
        "id": "fuw7_SBPLXcI",
        "colab_type": "code",
        "colab": {}
      },
      "source": [
        "y_train_c = tensorflow.keras.utils.to_categorical(y_train, 4)"
      ],
      "execution_count": 0,
      "outputs": []
    },
    {
      "cell_type": "code",
      "metadata": {
        "id": "HKpW4k8nNQTQ",
        "colab_type": "code",
        "colab": {}
      },
      "source": [
        "y_test_c = tensorflow.keras.utils.to_categorical(y_test, 4)"
      ],
      "execution_count": 0,
      "outputs": []
    },
    {
      "cell_type": "code",
      "metadata": {
        "id": "0SxzTl_1HMvF",
        "colab_type": "code",
        "outputId": "74cf6eb6-4841-44f4-ae4d-33afd841ae90",
        "colab": {
          "base_uri": "https://localhost:8080/",
          "height": 381
        }
      },
      "source": [
        "history = classifier.fit(x_train, y_train_c,\n",
        "          batch_size=64,\n",
        "          epochs=10,\n",
        "          verbose=1,\n",
        "          validation_split=0.15)"
      ],
      "execution_count": 32,
      "outputs": [
        {
          "output_type": "stream",
          "text": [
            "Train on 23460 samples, validate on 4140 samples\n",
            "Epoch 1/10\n",
            "23460/23460 [==============================] - 45s 2ms/sample - loss: 0.9583 - acc: 0.5219 - val_loss: 0.9563 - val_acc: 0.5435\n",
            "Epoch 2/10\n",
            "23460/23460 [==============================] - 42s 2ms/sample - loss: 0.8078 - acc: 0.6246 - val_loss: 0.8666 - val_acc: 0.5966\n",
            "Epoch 3/10\n",
            "23460/23460 [==============================] - 42s 2ms/sample - loss: 0.7386 - acc: 0.6659 - val_loss: 0.9142 - val_acc: 0.5865\n",
            "Epoch 4/10\n",
            "23460/23460 [==============================] - 42s 2ms/sample - loss: 0.6689 - acc: 0.7057 - val_loss: 0.9046 - val_acc: 0.5937\n",
            "Epoch 5/10\n",
            "23460/23460 [==============================] - 42s 2ms/sample - loss: 0.6012 - acc: 0.7447 - val_loss: 0.9511 - val_acc: 0.5845\n",
            "Epoch 6/10\n",
            "23460/23460 [==============================] - 42s 2ms/sample - loss: 0.4663 - acc: 0.8087 - val_loss: 1.0370 - val_acc: 0.5906\n",
            "Epoch 7/10\n",
            "23460/23460 [==============================] - 42s 2ms/sample - loss: 0.3313 - acc: 0.8766 - val_loss: 1.2206 - val_acc: 0.5790\n",
            "Epoch 8/10\n",
            "23460/23460 [==============================] - 42s 2ms/sample - loss: 0.1896 - acc: 0.9359 - val_loss: 1.5817 - val_acc: 0.5870\n",
            "Epoch 9/10\n",
            "23460/23460 [==============================] - 42s 2ms/sample - loss: 0.1066 - acc: 0.9674 - val_loss: 2.0451 - val_acc: 0.5771\n",
            "Epoch 10/10\n",
            "23460/23460 [==============================] - 42s 2ms/sample - loss: 0.0836 - acc: 0.9749 - val_loss: 2.2898 - val_acc: 0.5389\n"
          ],
          "name": "stdout"
        }
      ]
    },
    {
      "cell_type": "code",
      "metadata": {
        "id": "U6Xsr7IH9l1v",
        "colab_type": "code",
        "colab": {
          "base_uri": "https://localhost:8080/",
          "height": 282
        },
        "outputId": "9f5c4b3a-a8f9-4de4-9bc7-32ce10227ce7"
      },
      "source": [
        "plt.plot(history.history['acc'])"
      ],
      "execution_count": 33,
      "outputs": [
        {
          "output_type": "execute_result",
          "data": {
            "text/plain": [
              "[<matplotlib.lines.Line2D at 0x7fb8589f4e80>]"
            ]
          },
          "metadata": {
            "tags": []
          },
          "execution_count": 33
        },
        {
          "output_type": "display_data",
          "data": {
            "image/png": "[encoded data removed]",
            "text/plain": [
              "<Figure size 432x288 with 1 Axes>"
            ]
          },
          "metadata": {
            "tags": []
          }
        }
      ]
    },
    {
      "cell_type": "code",
      "metadata": {
        "id": "9lts3jpYM1pr",
        "colab_type": "code",
        "outputId": "1c82bbf9-b142-47cb-c0d3-28ce3814c63d",
        "colab": {
          "base_uri": "https://localhost:8080/",
          "height": 52
        }
      },
      "source": [
        "score1 = classifier.evaluate(x_test, y_test_c, verbose=0)\n",
        "print('Test loss:', score1[0])\n",
        "print('Test accuracy:', score1[1])"
      ],
      "execution_count": 34,
      "outputs": [
        {
          "output_type": "stream",
          "text": [
            "Test loss: 2.2097943849563597\n",
            "Test accuracy: 0.528\n"
          ],
          "name": "stdout"
        }
      ]
    },
    {
      "cell_type": "code",
      "metadata": {
        "id": "ouK-hQK4OON3",
        "colab_type": "code",
        "colab": {}
      },
      "source": [
        "y_pred = np.argmax(classifier.predict(x_test), axis=1)"
      ],
      "execution_count": 0,
      "outputs": []
    },
    {
      "cell_type": "code",
      "metadata": {
        "id": "7A_Dy0nUNvQX",
        "colab_type": "code",
        "colab": {}
      },
      "source": [
        "from sklearn.metrics import confusion_matrix\n",
        "import seaborn as sn\n",
        "\n",
        "names = [\"Unstimulated\", \"OVA\", \"ConA\", \"Faulty\"]\n",
        "\n",
        "def plot_confusion_matrix(predictions, labels):\n",
        "  plt.figure(figsize=(12,10))\n",
        "  cm = confusion_matrix(labels, predictions)\n",
        "  ax = sn.heatmap(cm, fmt=\"d\", annot=True, cmap=\"Greens\", cbar_kws={'label': 'Number of predictions'}, \n",
        "             xticklabels=names, yticklabels=names)\n",
        "  ax.set_ylabel(\"True label\")\n",
        "  ax.set_xlabel(\"Predicted label\")"
      ],
      "execution_count": 0,
      "outputs": []
    },
    {
      "cell_type": "code",
      "metadata": {
        "id": "qVJG9cRcRXnb",
        "colab_type": "code",
        "outputId": "fa51c409-8f97-4730-b5a8-d97c13494b34",
        "colab": {
          "base_uri": "https://localhost:8080/",
          "height": 34
        }
      },
      "source": [
        "np.sum(y_test[y_test==1])"
      ],
      "execution_count": 0,
      "outputs": [
        {
          "output_type": "execute_result",
          "data": {
            "text/plain": [
              "21.0"
            ]
          },
          "metadata": {
            "tags": []
          },
          "execution_count": 78
        }
      ]
    },
    {
      "cell_type": "code",
      "metadata": {
        "id": "FSXFLVITOEnK",
        "colab_type": "code",
        "outputId": "86ca79bd-d009-4bcb-9a69-8cd79b9a52b0",
        "colab": {
          "base_uri": "https://localhost:8080/",
          "height": 609
        }
      },
      "source": [
        "plot_confusion_matrix(y_pred, y_test)"
      ],
      "execution_count": 41,
      "outputs": [
        {
          "output_type": "display_data",
          "data": {
            "image/png": "[encoded data removed]",
            "text/plain": [
              "<Figure size 864x720 with 2 Axes>"
            ]
          },
          "metadata": {
            "tags": []
          }
        }
      ]
    }
  ]
}